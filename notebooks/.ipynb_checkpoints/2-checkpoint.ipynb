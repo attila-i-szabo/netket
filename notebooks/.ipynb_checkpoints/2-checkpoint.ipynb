{
 "cells": [
  {
   "cell_type": "code",
   "execution_count": 1,
   "id": "79b8cf59-f106-4eaf-8b4f-137eb8a77a49",
   "metadata": {},
   "outputs": [
    {
     "name": "stderr",
     "output_type": "stream",
     "text": [
      "WARNING:absl:No GPU/TPU found, falling back to CPU. (Set TF_CPP_MIN_LOG_LEVEL=0 and rerun for more info.)\n"
     ]
    }
   ],
   "source": [
    "import netket as nk\n",
    "from netket.operator import spin\n",
    "\n",
    "import numpy as np\n",
    "import jax.numpy as jnp\n",
    "import flax\n",
    "\n",
    "import matplotlib.pyplot as plt"
   ]
  },
  {
   "cell_type": "code",
   "execution_count": 93,
   "id": "1a7fac2b-46a3-4e65-b8cc-13eb98890392",
   "metadata": {},
   "outputs": [],
   "source": [
    "L = 20\n",
    "# Transverse Field\n",
    "h = 1.0\n",
    "# Hopping constant\n",
    "J = 1.0"
   ]
  },
  {
   "cell_type": "code",
   "execution_count": 94,
   "id": "f06a48e7-4504-45dc-9189-7e8b30a49838",
   "metadata": {},
   "outputs": [
    {
     "data": {
      "text/plain": [
       "Spin(s=1/2, N=20)"
      ]
     },
     "execution_count": 94,
     "metadata": {},
     "output_type": "execute_result"
    }
   ],
   "source": [
    "hi = nk.hilbert.Spin(1/2)**L\n",
    "hi"
   ]
  },
  {
   "cell_type": "code",
   "execution_count": 95,
   "id": "702ec7d9-0584-46da-9c93-610593c33399",
   "metadata": {},
   "outputs": [],
   "source": [
    "g = nk.graph.Chain(L)\n",
    "Ĥ = nk.operator.Ising(hi, graph=g, h=h, J=J)"
   ]
  },
  {
   "cell_type": "code",
   "execution_count": 96,
   "id": "5d154e63-0c87-4ff8-a63c-52b5e4ec6fe9",
   "metadata": {},
   "outputs": [
    {
     "name": "stdout",
     "output_type": "stream",
     "text": [
      "[-25.49098969]\n"
     ]
    }
   ],
   "source": [
    "E_gs = nk.exact.lanczos_ed(Ĥ)\n",
    "print(E_gs)"
   ]
  },
  {
   "cell_type": "code",
   "execution_count": 97,
   "id": "0bbd7e84-9202-4b18-9de7-a4c9c19ee050",
   "metadata": {},
   "outputs": [],
   "source": [
    "model = nk.models.Jastrow()"
   ]
  },
  {
   "cell_type": "code",
   "execution_count": 98,
   "id": "d6938e0e-2094-4e42-9992-c50be6233380",
   "metadata": {},
   "outputs": [],
   "source": [
    "sampler = nk.sampler.MetropolisLocal(hi, n_chains=16)"
   ]
  },
  {
   "cell_type": "code",
   "execution_count": 99,
   "id": "b6a31f00-d41d-42bb-9dc6-e9942388b114",
   "metadata": {},
   "outputs": [],
   "source": [
    "vstate = nk.variational.MCState(sampler, model=model, n_samples=1000)"
   ]
  },
  {
   "cell_type": "code",
   "execution_count": 100,
   "id": "861632ed-73e8-4be7-b9b9-0f1f28913b7e",
   "metadata": {},
   "outputs": [],
   "source": [
    "op = nk.optimizer.Sgd(learning_rate=0.01)\n",
    "gs = nk.VMC(Ĥ, op, variational_state=vstate)"
   ]
  },
  {
   "cell_type": "code",
   "execution_count": 101,
   "id": "b5b1eaa0-08ab-475a-9cbc-901c543bcefc",
   "metadata": {},
   "outputs": [
    {
     "name": "stderr",
     "output_type": "stream",
     "text": [
      "100%|██████████| 300/300 [00:06<00:00, 46.76it/s, Energy=-25.439-0.000j ± 0.015 [σ²=0.213, R̂=1.0029]]\n"
     ]
    },
    {
     "data": {
      "text/plain": [
       "(<netket.logging.runtime_log.RuntimeLog at 0x7f0f18644fd0>,)"
      ]
     },
     "execution_count": 101,
     "metadata": {},
     "output_type": "execute_result"
    }
   ],
   "source": [
    "log = nk.logging.RuntimeLog()\n",
    "gs.run(300, out=log)"
   ]
  },
  {
   "cell_type": "code",
   "execution_count": 102,
   "id": "c819f32a-808c-4b4f-9bd6-91f20e05fc51",
   "metadata": {},
   "outputs": [
    {
     "data": {
      "text/plain": [
       "[<matplotlib.lines.Line2D at 0x7f0ef82ad850>]"
      ]
     },
     "execution_count": 102,
     "metadata": {},
     "output_type": "execute_result"
    },
    {
     "data": {
      "image/png": "[encoded data removed]",
      "text/plain": [
       "<Figure size 432x288 with 1 Axes>"
      ]
     },
     "metadata": {
      "needs_background": "light"
     },
     "output_type": "display_data"
    }
   ],
   "source": [
    "plt.plot(log[\"Energy\"])"
   ]
  },
  {
   "cell_type": "code",
   "execution_count": 103,
   "id": "f83cdfc3-bda2-4df4-ae22-489dba73a3a7",
   "metadata": {},
   "outputs": [],
   "source": [
    "import flax.linen as nn\n",
    "import netket.nn as nknn\n",
    "import jax.numpy as jnp\n",
    "from typing import Any"
   ]
  },
  {
   "cell_type": "code",
   "execution_count": 104,
   "id": "88979124-14f7-44fe-a67b-6b44dc1fca51",
   "metadata": {},
   "outputs": [],
   "source": [
    "x = hi.random_state(6)\n"
   ]
  },
  {
   "cell_type": "code",
   "execution_count": 105,
   "id": "643f858a-a5d5-4ab2-a076-56138bda7d98",
   "metadata": {},
   "outputs": [],
   "source": [
    "# Mean Field Ansatz\n",
    "class MeanField(nknn.Module):\n",
    "    dtype = float\n",
    "    \n",
    "    @nknn.compact\n",
    "    def __call__(self, x):\n",
    "        x = jnp.atleast_2d(x)\n",
    "        N = x.shape[-1]\n",
    "        W = self.param(\"W\", nknn.initializers.normal(stddev=0.1), (2, N), self.dtype)\n",
    "\n",
    "        x = (x==1.0).reshape((1, -1, N))\n",
    "        x = jnp.concatenate([jnp.logical_not(x), x], axis=0)\n",
    "        return jnp.einsum(\"ibn,in->b\", x, W)"
   ]
  },
  {
   "cell_type": "code",
   "execution_count": 106,
   "id": "8fe72e76-a737-48c7-92c8-a734520a9e01",
   "metadata": {},
   "outputs": [],
   "source": [
    "model = MeanField()"
   ]
  },
  {
   "cell_type": "code",
   "execution_count": 107,
   "id": "30072b20-b2d6-4179-b122-f224727979f9",
   "metadata": {},
   "outputs": [],
   "source": [
    "vstate = nk.variational.MCState(sampler, model=model, n_samples=1000)"
   ]
  },
  {
   "cell_type": "code",
   "execution_count": 108,
   "id": "430d0d95-97ca-4534-aa5c-352184e079e4",
   "metadata": {},
   "outputs": [],
   "source": [
    "op = nk.optimizer.Sgd(learning_rate=0.1)\n",
    "\n",
    "gs = nk.VMC(Ĥ, op, variational_state=vstate)"
   ]
  },
  {
   "cell_type": "code",
   "execution_count": 109,
   "id": "0a6fcd2f-aaf9-4ab7-add8-e5b0f11731c9",
   "metadata": {},
   "outputs": [
    {
     "name": "stderr",
     "output_type": "stream",
     "text": [
      "100%|██████████| 300/300 [00:03<00:00, 92.60it/s, Energy=-24.982 ± 0.036 [σ²=1.328, R̂=0.9998]]\n"
     ]
    },
    {
     "data": {
      "text/plain": [
       "(<netket.logging.runtime_log.RuntimeLog at 0x7f0f185d0f10>,)"
      ]
     },
     "execution_count": 109,
     "metadata": {},
     "output_type": "execute_result"
    }
   ],
   "source": [
    "log_mf = nk.logging.RuntimeLog()\n",
    "gs.run(300, out=log_mf)"
   ]
  },
  {
   "cell_type": "code",
   "execution_count": 110,
   "id": "d8ad7754-0609-4b54-b39d-95048ba6353b",
   "metadata": {},
   "outputs": [
    {
     "data": {
      "text/plain": [
       "[<matplotlib.lines.Line2D at 0x7f0edc7aea90>]"
      ]
     },
     "execution_count": 110,
     "metadata": {},
     "output_type": "execute_result"
    },
    {
     "data": {
      "image/png": "[encoded data removed]",
      "text/plain": [
       "<Figure size 432x288 with 1 Axes>"
      ]
     },
     "metadata": {
      "needs_background": "light"
     },
     "output_type": "display_data"
    }
   ],
   "source": [
    "plt.plot(log_mf[\"Energy\"])\n",
    "plt.plot(log[\"Energy\"])"
   ]
  },
  {
   "cell_type": "code",
   "execution_count": 111,
   "id": "2984fae5-c2bf-4650-bb76-27ae9b39e6bb",
   "metadata": {},
   "outputs": [],
   "source": [
    "model = nk.models.RBM()"
   ]
  },
  {
   "cell_type": "code",
   "execution_count": 112,
   "id": "90060cf1-8669-4a38-bd26-54841f96ff7b",
   "metadata": {},
   "outputs": [],
   "source": [
    "vstate = nk.variational.MCState(sampler, model=model, n_samples=1000)"
   ]
  },
  {
   "cell_type": "code",
   "execution_count": 113,
   "id": "e75202fb-5986-4526-a897-73b0e35dfca2",
   "metadata": {},
   "outputs": [],
   "source": [
    "op = nk.optimizer.Sgd(learning_rate=0.1)\n",
    "sr = nk.optimizer.SR(diag_shift=0.01)\n",
    "gs = nk.VMC(Ĥ, op, variational_state=vstate, sr=sr)"
   ]
  },
  {
   "cell_type": "code",
   "execution_count": 114,
   "id": "677506bd-9655-4330-9ab2-7e154f681336",
   "metadata": {},
   "outputs": [
    {
     "name": "stderr",
     "output_type": "stream",
     "text": [
      "100%|██████████| 300/300 [00:12<00:00, 23.29it/s, Energy=-25.4853 ± 0.0040 [σ²=0.0162, R̂=1.0035]]\n"
     ]
    },
    {
     "data": {
      "text/plain": [
       "(<netket.logging.runtime_log.RuntimeLog at 0x7f0edc774310>,)"
      ]
     },
     "execution_count": 114,
     "metadata": {},
     "output_type": "execute_result"
    }
   ],
   "source": [
    "log_rbm = nk.logging.RuntimeLog()\n",
    "gs.run(300, out=log_rbm)"
   ]
  },
  {
   "cell_type": "code",
   "execution_count": 119,
   "id": "8d9ce896-f27e-4a9b-9fde-809f34fdf0c8",
   "metadata": {},
   "outputs": [
    {
     "data": {
      "text/plain": [
       "<matplotlib.collections.LineCollection at 0x7f0eb8340eb0>"
      ]
     },
     "execution_count": 119,
     "metadata": {},
     "output_type": "execute_result"
    },
    {
     "data": {
      "image/png": "[encoded data removed]",
      "text/plain": [
       "<Figure size 432x288 with 1 Axes>"
      ]
     },
     "metadata": {
      "needs_background": "light"
     },
     "output_type": "display_data"
    }
   ],
   "source": [
    "plt.plot(log_mf[\"Energy\"][-50:])\n",
    "plt.plot(log[\"Energy\"][-50:])\n",
    "plt.plot(log_rbm[\"Energy\"][-50:])\n",
    "plt.hlines(E_gs, xmin=0, xmax=50)"
   ]
  },
  {
   "cell_type": "code",
   "execution_count": null,
   "id": "973a54d4-11a8-47ce-bb54-d585c812b9f0",
   "metadata": {},
   "outputs": [],
   "source": []
  },
  {
   "cell_type": "code",
   "execution_count": null,
   "id": "ca864b5a-4362-4b0b-babc-c35a46e20038",
   "metadata": {},
   "outputs": [],
   "source": []
  },
  {
   "cell_type": "code",
   "execution_count": null,
   "id": "d08ef638-5b07-4c85-80b9-0e8fb0fd7821",
   "metadata": {},
   "outputs": [],
   "source": []
  },
  {
   "cell_type": "code",
   "execution_count": null,
   "id": "73cc4b4b-9a4a-4cb3-b5ca-a4102d982a64",
   "metadata": {},
   "outputs": [],
   "source": []
  }
 ],
 "metadata": {
  "kernelspec": {
   "display_name": "Python (Teaching NK)",
   "language": "python",
   "name": "teaching-netket"
  },
  "language_info": {
   "codemirror_mode": {
    "name": "ipython",
    "version": 3
   },
   "file_extension": ".py",
   "mimetype": "text/x-python",
   "name": "python",
   "nbconvert_exporter": "python",
   "pygments_lexer": "ipython3",
   "version": "3.9.2"
  }
 },
 "nbformat": 4,
 "nbformat_minor": 5
}
