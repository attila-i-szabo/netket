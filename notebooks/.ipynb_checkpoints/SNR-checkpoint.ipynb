{
 "cells": [
  {
   "cell_type": "code",
   "execution_count": 32,
   "id": "2bc33817-e45b-4090-bfee-c06cef6f941c",
   "metadata": {},
   "outputs": [],
   "source": [
    "import jax\n",
    "# Global flag to set a specific platform, must be used at startup.\n",
    "jax.config.update('jax_platform_name', 'cpu')\n",
    "\n",
    "import netket as nk\n",
    "import numpy as np\n",
    "import jax.numpy as jnp\n",
    "\n",
    "import matplotlib.pyplot as plt"
   ]
  },
  {
   "cell_type": "code",
   "execution_count": 2,
   "id": "023a168a-a2c4-47ca-9549-c57a38f26e69",
   "metadata": {},
   "outputs": [
    {
     "data": {
      "text/plain": [
       "[CpuDevice(id=0)]"
      ]
     },
     "execution_count": 2,
     "metadata": {},
     "output_type": "execute_result"
    }
   ],
   "source": [
    "jax.devices()"
   ]
  },
  {
   "cell_type": "code",
   "execution_count": 3,
   "id": "6ca528da-f6d7-455a-891d-1b365aec3f49",
   "metadata": {},
   "outputs": [],
   "source": [
    "L = 20\n",
    "g = nk.graph.Hypercube(length=L, n_dim=1, pbc=True)\n",
    "\n",
    "# Hilbert space of spins on the graph\n",
    "hi = nk.hilbert.Spin(s=1 / 2, N=g.n_nodes)\n",
    "\n",
    "# Ising spin hamiltonian\n",
    "ha = nk.operator.Ising(hilbert=hi, graph=g, h=1.0)\n",
    "\n",
    "# RBM Spin Machine\n",
    "ma = nk.models.RBM(alpha=1, dtype=float)\n",
    "\n",
    "# Metropolis Local Sampling\n",
    "sa = nk.sampler.MetropolisLocal(hi, n_chains=16)\n",
    "\n",
    "# Optimizer\n",
    "op = nk.optimizer.Sgd(learning_rate=0.1)\n",
    "\n",
    "# SR\n",
    "sr = nk.optimizer.sr.SRSNR(diag_shift=0.01)"
   ]
  },
  {
   "cell_type": "code",
   "execution_count": 4,
   "id": "e3f83845-ead2-4160-8726-23da1a763f5c",
   "metadata": {},
   "outputs": [],
   "source": [
    "# Variational state\n",
    "vs = nk.variational.MCState(sa, ma, n_samples=1000, n_discard=100)"
   ]
  },
  {
   "cell_type": "code",
   "execution_count": 5,
   "id": "f086b7de-d0ba-40f9-b9f6-e4357355d094",
   "metadata": {},
   "outputs": [
    {
     "name": "stderr",
     "output_type": "stream",
     "text": [
      "  0%|          | 0/5 [00:00<?, ?it/s]"
     ]
    },
    {
     "name": "stdout",
     "output_type": "stream",
     "text": [
      "No output specified (out=[apath|nk.logging.JsonLogger(...)]).Running the optimization but not saving the output.\n"
     ]
    },
    {
     "name": "stderr",
     "output_type": "stream",
     "text": [
      "100%|██████████| 5/5 [00:04<00:00,  1.18it/s, Energy=-24.767 ± 0.046 [σ²=2.133, R̂=0.9974]]\n"
     ]
    },
    {
     "data": {
      "text/plain": [
       "()"
      ]
     },
     "execution_count": 5,
     "metadata": {},
     "output_type": "execute_result"
    }
   ],
   "source": [
    "# Variational state\n",
    "vs = nk.variational.MCState(sa, ma, n_samples=1000, n_discard=100)\n",
    "\n",
    "# Variational monte carlo driver with a variational state\n",
    "gs = nk.VMC(ha, op, variational_state=vs, sr=sr)\n",
    "\n",
    "# Run the optimization for 300 iterations\n",
    "gs.run(n_iter=5, out=None)\n"
   ]
  },
  {
   "cell_type": "code",
   "execution_count": 6,
   "id": "a15d6ba7-2e85-4209-a333-a0f2104e21c3",
   "metadata": {},
   "outputs": [],
   "source": [
    "S = vs.quantum_geometric_tensor(sr)"
   ]
  },
  {
   "cell_type": "code",
   "execution_count": 28,
   "id": "6ce73783-7866-4dce-ba7b-509ece925482",
   "metadata": {},
   "outputs": [],
   "source": [
    "Sdense = S.to_dense()"
   ]
  },
  {
   "cell_type": "code",
   "execution_count": 30,
   "id": "406e7799-8c03-43ee-960f-7a484aa95fe0",
   "metadata": {},
   "outputs": [],
   "source": [
    "ev, V = jnp.linalg.eigh(Sdense)"
   ]
  },
  {
   "cell_type": "code",
   "execution_count": 33,
   "id": "52d9b078-b05e-4149-b483-b0fcdde27049",
   "metadata": {},
   "outputs": [
    {
     "data": {
      "text/plain": [
       "[<matplotlib.lines.Line2D at 0x7f9c5074ce20>]"
      ]
     },
     "execution_count": 33,
     "metadata": {},
     "output_type": "execute_result"
    },
    {
     "data": {
      "image/png": "[encoded data removed]",
      "text/plain": [
       "<Figure size 432x288 with 1 Axes>"
      ]
     },
     "metadata": {
      "needs_background": "light"
     },
     "output_type": "display_data"
    }
   ],
   "source": [
    "plt.plot(ev)"
   ]
  },
  {
   "cell_type": "code",
   "execution_count": 34,
   "id": "bd12df0d-421f-42e0-92ca-174a61bb409b",
   "metadata": {},
   "outputs": [],
   "source": [
    "import jax.ops as ops\n",
    "import jax.random as random\n",
    "\n",
    "# TODO(gilmer) This function should use higher numerical precision?\n",
    "def lanczos_alg(matrix_vector_product, dim, order, rng_key):\n",
    "  \"\"\"Lanczos algorithm for tridiagonalizing a real symmetric matrix.\n",
    "  This function applies Lanczos algorithm of a given order.  This function\n",
    "  does full reorthogonalization.\n",
    "  WARNING: This function may take a long time to jit compile (e.g. ~3min for\n",
    "  order 90 and dim 1e7).\n",
    "  Args:\n",
    "    matrix_vector_product: Maps v -> Hv for a real symmetric matrix H.\n",
    "      Ijnput/Output must be of shape [dim].\n",
    "    dim: Matrix H is [dim, dim].\n",
    "    order: An integer corresponding to the number of Lanczos steps to take.\n",
    "    rng_key: The jax PRNG key.\n",
    "  Returns:\n",
    "    tridiag: A tridiagonal matrix of size (order, order).\n",
    "    vecs: A numpy array of size (order, dim) corresponding to the Lanczos\n",
    "      vectors.\n",
    "  \"\"\"\n",
    "\n",
    "  tridiag = jnp.zeros((order, order))\n",
    "  vecs = jnp.zeros((order, dim))\n",
    "\n",
    "  init_vec = random.normal(rng_key, shape=(dim,))\n",
    "  init_vec = init_vec / jnp.linalg.norm(init_vec)\n",
    "  vecs = ops.index_update(vecs, 0, init_vec)\n",
    "\n",
    "  beta = 0\n",
    "  # TODO(gilmer): Better to use lax.fori loop for faster compile?\n",
    "  for i in range(order):\n",
    "    v = vecs[i, :].reshape((dim))\n",
    "    if i == 0:\n",
    "      v_old = 0\n",
    "    else:\n",
    "      v_old = vecs[i - 1, :].reshape((dim))\n",
    "\n",
    "    w = matrix_vector_product(v)\n",
    "    assert (w.shape[0] == dim and len(w.shape) == 1), (\n",
    "        'Output of matrix_vector_product(v) must be of shape [dim].')\n",
    "    w = w - beta * v_old\n",
    "\n",
    "    alpha = jnp.dot(w, v)\n",
    "    tridiag = ops.index_update(tridiag, (i, i), alpha)\n",
    "    w = w - alpha * v\n",
    "\n",
    "    # Full Reorthogonalization\n",
    "    for j in range(i):\n",
    "      tau = vecs[j, :].reshape((dim))\n",
    "      coeff = jnp.dot(w, tau)\n",
    "      w += -coeff * tau\n",
    "\n",
    "    beta = jnp.linalg.norm(w)\n",
    "\n",
    "    # TODO(gilmer): The tf implementation raises an exception if beta < 1e-6\n",
    "    # here. However JAX cannot compile a function that has an if statement\n",
    "    # that depends on a dynamic variable. Should we still handle this base?\n",
    "    # beta being small indicates that the lanczos vectors are linearly\n",
    "    # dependent.\n",
    "\n",
    "    if i + 1 < order:\n",
    "      tridiag = ops.index_update(tridiag, (i, i+1), beta)\n",
    "      tridiag = ops.index_update(tridiag, (i+1, i), beta)\n",
    "      vecs = ops.index_update(vecs, i+1, w/beta)\n",
    "  return (tridiag, vecs)\n"
   ]
  },
  {
   "cell_type": "code",
   "execution_count": null,
   "id": "ca039234-50b6-4679-9da6-fb9a9795e9f6",
   "metadata": {},
   "outputs": [],
   "source": [
    "lanczos_alg"
   ]
  }
 ],
 "metadata": {
  "kernelspec": {
   "display_name": "Python (Netket development)",
   "language": "python",
   "name": "dev-netket"
  },
  "language_info": {
   "codemirror_mode": {
    "name": "ipython",
    "version": 3
   },
   "file_extension": ".py",
   "mimetype": "text/x-python",
   "name": "python",
   "nbconvert_exporter": "python",
   "pygments_lexer": "ipython3",
   "version": "3.8.8"
  }
 },
 "nbformat": 4,
 "nbformat_minor": 5
}
