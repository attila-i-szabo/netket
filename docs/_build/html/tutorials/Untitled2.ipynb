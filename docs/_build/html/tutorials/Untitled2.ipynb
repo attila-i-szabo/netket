{
 "cells": [
  {
   "cell_type": "code",
   "execution_count": 1,
   "id": "cleared-pixel",
   "metadata": {},
   "outputs": [
    {
     "name": "stdout",
     "output_type": "stream",
     "text": [
      "g= 0.3\n"
     ]
    },
    {
     "ename": "NameError",
     "evalue": "name 'output' is not defined",
     "output_type": "error",
     "traceback": [
      "\u001b[0;31m---------------------------------------------------------------------------\u001b[0m",
      "\u001b[0;31mNameError\u001b[0m                                 Traceback (most recent call last)",
      "\u001b[0;32m<ipython-input-1-994978313b27>\u001b[0m in \u001b[0;36m<module>\u001b[0;34m\u001b[0m\n\u001b[1;32m     86\u001b[0m \u001b[0;34m\u001b[0m\u001b[0m\n\u001b[1;32m     87\u001b[0m \u001b[0;31m#fill the opuput\u001b[0m\u001b[0;34m\u001b[0m\u001b[0;34m\u001b[0m\u001b[0;34m\u001b[0m\u001b[0m\n\u001b[0;32m---> 88\u001b[0;31m \u001b[0moutput\u001b[0m\u001b[0;34m[\u001b[0m\u001b[0mn\u001b[0m\u001b[0;34m,\u001b[0m\u001b[0;36m0\u001b[0m\u001b[0;34m]\u001b[0m\u001b[0;34m=\u001b[0m\u001b[0mhx\u001b[0m\u001b[0;34m\u001b[0m\u001b[0;34m\u001b[0m\u001b[0m\n\u001b[0m\u001b[1;32m     89\u001b[0m \u001b[0moutput\u001b[0m\u001b[0;34m[\u001b[0m\u001b[0mn\u001b[0m\u001b[0;34m,\u001b[0m\u001b[0;36m1\u001b[0m\u001b[0;34m]\u001b[0m\u001b[0;34m=\u001b[0m\u001b[0mdata\u001b[0m\u001b[0;34m.\u001b[0m\u001b[0mexpect\u001b[0m\u001b[0;34m[\u001b[0m\u001b[0;36m0\u001b[0m\u001b[0;34m]\u001b[0m\u001b[0;34m[\u001b[0m\u001b[0;34m-\u001b[0m\u001b[0;36m1\u001b[0m\u001b[0;34m]\u001b[0m\u001b[0;34m\u001b[0m\u001b[0;34m\u001b[0m\u001b[0m\n\u001b[1;32m     90\u001b[0m \u001b[0moutput\u001b[0m\u001b[0;34m[\u001b[0m\u001b[0mn\u001b[0m\u001b[0;34m,\u001b[0m\u001b[0;36m2\u001b[0m\u001b[0;34m]\u001b[0m\u001b[0;34m=\u001b[0m\u001b[0mdata\u001b[0m\u001b[0;34m.\u001b[0m\u001b[0mexpect\u001b[0m\u001b[0;34m[\u001b[0m\u001b[0;36m1\u001b[0m\u001b[0;34m]\u001b[0m\u001b[0;34m[\u001b[0m\u001b[0;34m-\u001b[0m\u001b[0;36m1\u001b[0m\u001b[0;34m]\u001b[0m\u001b[0;34m\u001b[0m\u001b[0;34m\u001b[0m\u001b[0m\n",
      "\u001b[0;31mNameError\u001b[0m: name 'output' is not defined"
     ]
    }
   ],
   "source": [
    "#!/usr/bin/env python3\n",
    "# -*- coding: utf-8 -*-\n",
    "\"\"\"\n",
    "Created on Tue Oct 31 11:47:08 2017\n",
    "\n",
    "@author: albertobiella\n",
    "\"\"\"\n",
    "\n",
    "from qutip import *\n",
    "import numpy as np\n",
    "import matplotlib.pyplot as plt\n",
    "from matplotlib.pyplot import *\n",
    "\n",
    "PI=np.pi\n",
    "idmat = qeye(2)\n",
    "\n",
    "#parameter definition\n",
    "Lx=2\n",
    "Ly=1\n",
    "V=2.0\n",
    "hx=0.3\n",
    "Gamma=1.0\n",
    "\n",
    "#Hilbert space dimension\n",
    "d=2\n",
    "\n",
    "print('g=',hx)\n",
    "#construct the Hamiltonian and dissipators\n",
    "H=0\n",
    "diss=[]\n",
    "ii=-1\n",
    "for i in range(Lx):\n",
    "    for j in range(Ly):\n",
    "        ii=ii+1\n",
    "        op = [idmat for i in range(Lx*Ly)]\n",
    "        op[ii]=hx*0.5*sigmax()\n",
    "        H=H+tensor(op)\n",
    "        \n",
    "        if ii<(Lx-1):\n",
    "            op = [idmat for i in range(Lx*Ly)]\n",
    "            op[ii] = V*0.25*sigmaz()\n",
    "            op[ii+1] = sigmaz()\n",
    "            H=H+tensor(op)\n",
    "        \n",
    "        op = [idmat for i in range(Lx*Ly)]\n",
    "        op[ii]=np.sqrt(Gamma)*sigmam()\n",
    "        diss.append(tensor(op))\n",
    " \n",
    "#enforcing periodic BC\n",
    "op = [idmat for i in range(Lx*Ly)]\n",
    "op[0]=V*0.25*sigmaz()\n",
    "op[Lx-1]=sigmaz()\n",
    "H=H+tensor(op)\n",
    "        \n",
    "#observables\n",
    "obs=[]\n",
    "Stotx=0\n",
    "Stoty=0\n",
    "Stotz=0\n",
    "ii=-1\n",
    "for i in range(Lx):\n",
    "    for j in range(Ly):\n",
    "        ii=ii+1\n",
    "        op = [idmat for i in range(Lx*Ly)]\n",
    "        op[ii]=sigmax()\n",
    "        Stotx=Stotx+tensor(op)\n",
    "        op[ii]=sigmay()\n",
    "        Stoty=Stoty+tensor(op)\n",
    "        op[ii]=sigmaz()\n",
    "        Stotz=Stotz+tensor(op)\n",
    "obs.append(Stotx)\n",
    "obs.append(Stoty)\n",
    "obs.append(Stotz)\n",
    "        \n",
    "#initial state\n",
    "op = [fock_dm(2,0) for i in range(Lx*Ly)]\n",
    "psi0up=tensor(op)\n",
    "op = [fock_dm(2,1) for i in range(Lx*Ly)]\n",
    "psi0do=tensor(op)\n",
    "times = np.linspace(0, 50.0, 1001)\n",
    "\n",
    "#evolving the ME\n",
    "opts = Options(store_final_state=True)\n",
    "data=mesolve(H, psi0up, times, diss, obs, options=opts)\n",
    "#rhoSS=data.final_state\n",
    "\n",
    "#fill the opuput\n",
    "output[n,0]=hx\n",
    "output[n,1]=data.expect[0][-1]\n",
    "output[n,2]=data.expect[1][-1]\n",
    "output[n,3]=data.expect[2][-1]"
   ]
  },
  {
   "cell_type": "code",
   "execution_count": 23,
   "id": "north-terminal",
   "metadata": {},
   "outputs": [
    {
     "data": {
      "text/plain": [
       "array([[ 0.3       ,  0.27598264,  0.08141487, -1.97557554]])"
      ]
     },
     "execution_count": 23,
     "metadata": {},
     "output_type": "execute_result"
    }
   ],
   "source": [
    "output"
   ]
  },
  {
   "cell_type": "code",
   "execution_count": 24,
   "id": "alive-workshop",
   "metadata": {},
   "outputs": [
    {
     "data": {
      "text/latex": [
       "Quantum object: dims = [[2, 2], [2, 2]], shape = (4, 4), type = oper, isherm = True\\begin{equation*}\\left(\\begin{array}{*{11}c}1.0 & 0.150 & 0.150 & 0.0\\\\0.150 & -1.0 & 0.0 & 0.150\\\\0.150 & 0.0 & -1.0 & 0.150\\\\0.0 & 0.150 & 0.150 & 1.0\\\\\\end{array}\\right)\\end{equation*}"
      ],
      "text/plain": [
       "Quantum object: dims = [[2, 2], [2, 2]], shape = (4, 4), type = oper, isherm = True\n",
       "Qobj data =\n",
       "[[ 1.    0.15  0.15  0.  ]\n",
       " [ 0.15 -1.    0.    0.15]\n",
       " [ 0.15  0.   -1.    0.15]\n",
       " [ 0.    0.15  0.15  1.  ]]"
      ]
     },
     "execution_count": 24,
     "metadata": {},
     "output_type": "execute_result"
    }
   ],
   "source": [
    "H"
   ]
  },
  {
   "cell_type": "code",
   "execution_count": 30,
   "id": "adaptive-northeast",
   "metadata": {},
   "outputs": [
    {
     "data": {
      "text/latex": [
       "Quantum object: dims = [[2, 2], [2, 2]], shape = (4, 4), type = oper, isherm = True\\begin{equation*}\\left(\\begin{array}{*{11}c}4.657\\times10^{-04} & (6.434\\times10^{-09}-0.002j) & (6.434\\times10^{-09}-0.002j) & (-0.005-0.021j)\\\\(6.434\\times10^{-09}+0.002j) & 0.006 & 0.005 & (0.069-0.019j)\\\\(6.434\\times10^{-09}+0.002j) & 0.005 & 0.006 & (0.069-0.019j)\\\\(-0.005+0.021j) & (0.069+0.019j) & (0.069+0.019j) & 0.988\\\\\\end{array}\\right)\\end{equation*}"
      ],
      "text/plain": [
       "Quantum object: dims = [[2, 2], [2, 2]], shape = (4, 4), type = oper, isherm = True\n",
       "Qobj data =\n",
       "[[ 4.65718895e-04+6.66139424e-20j  6.43359039e-09-1.55240286e-03j\n",
       "   6.43359039e-09-1.55240286e-03j -5.17467504e-03-2.06986959e-02j]\n",
       " [ 6.43359039e-09+1.55240286e-03j  5.64039562e-03+7.78569250e-19j\n",
       "   5.17467504e-03+2.92477276e-18j  6.89956532e-02-1.88013141e-02j]\n",
       " [ 6.43359039e-09+1.55240286e-03j  5.17467504e-03+2.49143404e-18j\n",
       "   5.64039562e-03+4.92423308e-18j  6.89956532e-02-1.88013141e-02j]\n",
       " [-5.17467504e-03+2.06986959e-02j  6.89956532e-02+1.88013141e-02j\n",
       "   6.89956532e-02+1.88013141e-02j  9.88253490e-01-6.13449787e-18j]]"
      ]
     },
     "execution_count": 30,
     "metadata": {},
     "output_type": "execute_result"
    }
   ],
   "source": [
    "data.final_state"
   ]
  },
  {
   "cell_type": "code",
   "execution_count": null,
   "id": "superior-thompson",
   "metadata": {},
   "outputs": [],
   "source": [
    "[[ 4.65720660e-04  4.58116894e-17 -2.33591393e-16 -5.17467400e-03]\n",
    " [ 6.55830501e-17  5.64039466e-03  5.17467400e-03  6.89956533e-02]\n",
    " [ 1.06186674e-16  5.17467400e-03  5.64039466e-03  6.89956533e-02]\n",
    " [-5.17467400e-03  6.89956533e-02  6.89956533e-02  9.88253490e-01]]\n",
    "\n",
    "\n",
    "[[ 4.48231214e-17  1.55240220e-03  1.55240220e-03  2.06986960e-02]\n",
    " [-1.55240220e-03  7.29129204e-17  8.98873569e-17  1.88013155e-02]\n",
    " [-1.55240220e-03 -4.51365698e-17 -1.96749150e-17  1.88013155e-02]\n",
    " [-2.06986960e-02 -1.88013155e-02 -1.88013155e-02 -9.87603578e-17]]\n"
   ]
  },
  {
   "cell_type": "code",
   "execution_count": 32,
   "id": "exposed-edition",
   "metadata": {},
   "outputs": [
    {
     "data": {
      "text/latex": [
       "Quantum object: dims = [[2, 2], [2, 2]], shape = (4, 4), type = oper, isherm = True\\begin{equation*}\\left(\\begin{array}{*{11}c}0.0 & 0.0 & 1.0 & 0.0\\\\0.0 & 0.0 & 0.0 & 1.0\\\\1.0 & 0.0 & 0.0 & 0.0\\\\0.0 & 1.0 & 0.0 & 0.0\\\\\\end{array}\\right)\\end{equation*}"
      ],
      "text/plain": [
       "Quantum object: dims = [[2, 2], [2, 2]], shape = (4, 4), type = oper, isherm = True\n",
       "Qobj data =\n",
       "[[0. 0. 1. 0.]\n",
       " [0. 0. 0. 1.]\n",
       " [1. 0. 0. 0.]\n",
       " [0. 1. 0. 0.]]"
      ]
     },
     "execution_count": 32,
     "metadata": {},
     "output_type": "execute_result"
    }
   ],
   "source": [
    "tensor([sigmax(), idmat])"
   ]
  },
  {
   "cell_type": "code",
   "execution_count": 34,
   "id": "romance-legislation",
   "metadata": {},
   "outputs": [
    {
     "data": {
      "text/latex": [
       "Quantum object: dims = [[2, 2], [2, 2]], shape = (4, 4), type = oper, isherm = True\\begin{equation*}\\left(\\begin{array}{*{11}c}0.0 & -1.0j & 0.0 & 0.0\\\\1.0j & 0.0 & 0.0 & 0.0\\\\0.0 & 0.0 & 0.0 & -1.0j\\\\0.0 & 0.0 & 1.0j & 0.0\\\\\\end{array}\\right)\\end{equation*}"
      ],
      "text/plain": [
       "Quantum object: dims = [[2, 2], [2, 2]], shape = (4, 4), type = oper, isherm = True\n",
       "Qobj data =\n",
       "[[0.+0.j 0.-1.j 0.+0.j 0.+0.j]\n",
       " [0.+1.j 0.+0.j 0.+0.j 0.+0.j]\n",
       " [0.+0.j 0.+0.j 0.+0.j 0.-1.j]\n",
       " [0.+0.j 0.+0.j 0.+1.j 0.+0.j]]"
      ]
     },
     "execution_count": 34,
     "metadata": {},
     "output_type": "execute_result"
    }
   ],
   "source": [
    "tensor([idmat, sigmay()])"
   ]
  },
  {
   "cell_type": "code",
   "execution_count": 44,
   "id": "foster-victory",
   "metadata": {},
   "outputs": [],
   "source": [
    "np.set_printoptions(edgeitems=30, linewidth=100000, \n",
    "    formatter=dict(float=lambda x: \"%.3g\" % x))\n",
    "\n"
   ]
  },
  {
   "cell_type": "code",
   "execution_count": 47,
   "id": "flush-attempt",
   "metadata": {},
   "outputs": [
    {
     "data": {
      "text/plain": [
       "matrix([[0, -0.15, -0.15, 0, 0.15, 0, 0, 0, 0.15, 0, 0, 0, 0, 0, 0, 0],\n",
       "        [-0.15, 2, 0, -0.15, 0, 0.15, 0, 0, 0, 0.15, 0, 0, 0, 0, 0, 0],\n",
       "        [-0.15, 0, 2, -0.15, 0, 0, 0.15, 0, 0, 0, 0.15, 0, 0, 0, 0, 0],\n",
       "        [0, -0.15, -0.15, 0, 0, 0, 0, 0.15, 0, 0, 0, 0.15, 0, 0, 0, 0],\n",
       "        [0.15, 0, 0, 0, -2, -0.15, -0.15, 0, 0, 0, 0, 0, 0.15, 0, 0, 0],\n",
       "        [0, 0.15, 0, 0, -0.15, 0, 0, -0.15, 0, 0, 0, 0, 0, 0.15, 0, 0],\n",
       "        [0, 0, 0.15, 0, -0.15, 0, 0, -0.15, 0, 0, 0, 0, 0, 0, 0.15, 0],\n",
       "        [0, 0, 0, 0.15, 0, -0.15, -0.15, -2, 0, 0, 0, 0, 0, 0, 0, 0.15],\n",
       "        [0.15, 0, 0, 0, 0, 0, 0, 0, -2, -0.15, -0.15, 0, 0.15, 0, 0, 0],\n",
       "        [0, 0.15, 0, 0, 0, 0, 0, 0, -0.15, 0, 0, -0.15, 0, 0.15, 0, 0],\n",
       "        [0, 0, 0.15, 0, 0, 0, 0, 0, -0.15, 0, 0, -0.15, 0, 0, 0.15, 0],\n",
       "        [0, 0, 0, 0.15, 0, 0, 0, 0, 0, -0.15, -0.15, -2, 0, 0, 0, 0.15],\n",
       "        [0, 0, 0, 0, 0.15, 0, 0, 0, 0.15, 0, 0, 0, 0, -0.15, -0.15, 0],\n",
       "        [0, 0, 0, 0, 0, 0.15, 0, 0, 0, 0.15, 0, 0, -0.15, 2, 0, -0.15],\n",
       "        [0, 0, 0, 0, 0, 0, 0.15, 0, 0, 0, 0.15, 0, -0.15, 0, 2, -0.15],\n",
       "        [0, 0, 0, 0, 0, 0, 0, 0.15, 0, 0, 0, 0.15, 0, -0.15, -0.15, 0]])"
      ]
     },
     "execution_count": 47,
     "metadata": {},
     "output_type": "execute_result"
    }
   ],
   "source": [
    "(liouvillian(H, diss).data.todense().imag)"
   ]
  },
  {
   "cell_type": "code",
   "execution_count": 52,
   "id": "forbidden-letter",
   "metadata": {},
   "outputs": [
    {
     "data": {
      "text/plain": [
       "array([[0, -0.15, -0.15, 0, 0.15, 0, 0, 0, 0.15, 0, 0, 0, 0, 0, 0, 0],\n",
       "       [-0.15, 2, 0, -0.15, 0, 0.15, 0, 0, 0, 0.15, 0, 0, 0, 0, 0, 0],\n",
       "       [-0.15, 0, 2, -0.15, 0, 0, 0.15, 0, 0, 0, 0.15, 0, 0, 0, 0, 0],\n",
       "       [0, -0.15, -0.15, 0, 0, 0, 0, 0.15, 0, 0, 0, 0.15, 0, 0, 0, 0],\n",
       "       [0.15, 0, 0, 0, -2, -0.15, -0.15, 0, 0, 0, 0, 0, 0.15, 0, 0, 0],\n",
       "       [0, 0.15, 0, 0, -0.15, 0, 0, -0.15, 0, 0, 0, 0, 0, 0.15, 0, 0],\n",
       "       [0, 0, 0.15, 0, -0.15, 0, 0, -0.15, 0, 0, 0, 0, 0, 0, 0.15, 0],\n",
       "       [0, 0, 0, 0.15, 0, -0.15, -0.15, -2, 0, 0, 0, 0, 0, 0, 0, 0.15],\n",
       "       [0.15, 0, 0, 0, 0, 0, 0, 0, -2, -0.15, -0.15, 0, 0.15, 0, 0, 0],\n",
       "       [0, 0.15, 0, 0, 0, 0, 0, 0, -0.15, 0, 0, -0.15, 0, 0.15, 0, 0],\n",
       "       [0, 0, 0.15, 0, 0, 0, 0, 0, -0.15, 0, 0, -0.15, 0, 0, 0.15, 0],\n",
       "       [0, 0, 0, 0.15, 0, 0, 0, 0, 0, -0.15, -0.15, -2, 0, 0, 0, 0.15],\n",
       "       [0, 0, 0, 0, 0.15, 0, 0, 0, 0.15, 0, 0, 0, 0, -0.15, -0.15, 0],\n",
       "       [0, 0, 0, 0, 0, 0.15, 0, 0, 0, 0.15, 0, 0, -0.15, 2, 0, -0.15],\n",
       "       [0, 0, 0, 0, 0, 0, 0.15, 0, 0, 0, 0.15, 0, -0.15, 0, 2, -0.15],\n",
       "       [0, 0, 0, 0, 0, 0, 0, 0.15, 0, 0, 0, 0.15, 0, -0.15, -0.15, 0]])"
      ]
     },
     "execution_count": 52,
     "metadata": {},
     "output_type": "execute_result"
    }
   ],
   "source": [
    "np.array([[0, -0.15, -0.15, 0, 0.15, 0, 0, 0, 0.15, 0, 0, 0, 0, 0, 0, 0],\n",
    "       [-0.15, 2, 0, -0.15, 0, 0.15, 0, 0, 0, 0.15, 0, 0, 0, 0, 0, 0],\n",
    "       [-0.15, 0, 2, -0.15, 0, 0, 0.15, 0, 0, 0, 0.15, 0, 0, 0, 0, 0],\n",
    "       [0, -0.15, -0.15, 0, 0, 0, 0, 0.15, 0, 0, 0, 0.15, 0, 0, 0, 0],\n",
    "       [0.15, 0, 0, 0, -2, -0.15, -0.15, 0, 0, 0, 0, 0, 0.15, 0, 0, 0],\n",
    "       [0, 0.15, 0, 0, -0.15, 0, 0, -0.15, 0, 0, 0, 0, 0, 0.15, 0, 0],\n",
    "       [0, 0, 0.15, 0, -0.15, 0, 0, -0.15, 0, 0, 0, 0, 0, 0, 0.15, 0],\n",
    "       [0, 0, 0, 0.15, 0, -0.15, -0.15, -2, 0, 0, 0, 0, 0, 0, 0, 0.15],\n",
    "       [0.15, 0, 0, 0, 0, 0, 0, 0, -2, -0.15, -0.15, 0, 0.15, 0, 0, 0],\n",
    "       [0, 0.15, 0, 0, 0, 0, 0, 0, -0.15, 0, 0, -0.15, 0, 0.15, 0, 0],\n",
    "       [0, 0, 0.15, 0, 0, 0, 0, 0, -0.15, 0, 0, -0.15, 0, 0, 0.15, 0],\n",
    "       [0, 0, 0, 0.15, 0, 0, 0, 0, 0, -0.15, -0.15, -2, 0, 0, 0, 0.15],\n",
    "       [0, 0, 0, 0, 0.15, 0, 0, 0, 0.15, 0, 0, 0, 0, -0.15, -0.15, 0],\n",
    "       [0, 0, 0, 0, 0, 0.15, 0, 0, 0, 0.15, 0, 0, -0.15, 2, 0, -0.15],\n",
    "       [0, 0, 0, 0, 0, 0, 0.15, 0, 0, 0, 0.15, 0, -0.15, 0, 2, -0.15],\n",
    "       [0, 0, 0, 0, 0, 0, 0, 0.15, 0, 0, 0, 0.15, 0, -0.15, -0.15, 0]])"
   ]
  },
  {
   "cell_type": "code",
   "execution_count": 53,
   "id": "patient-accountability",
   "metadata": {},
   "outputs": [],
   "source": [
    "lio=liouvillian(H, diss)"
   ]
  },
  {
   "cell_type": "code",
   "execution_count": 62,
   "id": "warming-donna",
   "metadata": {},
   "outputs": [
    {
     "data": {
      "text/plain": [
       "matrix([[ 0.50257367+0.j        ],\n",
       "        [ 0.06695592+0.01681386j],\n",
       "        [ 0.06695592+0.01681386j],\n",
       "        [-0.02296686+0.00995865j],\n",
       "        [ 0.06695592-0.01681386j],\n",
       "        [-0.48990178+0.j        ],\n",
       "        [ 0.02296686+0.j        ],\n",
       "        [ 0.03442676-0.0582056j ],\n",
       "        [ 0.06695592-0.01681386j],\n",
       "        [ 0.02296686+0.j        ],\n",
       "        [-0.48990178+0.j        ],\n",
       "        [ 0.03442676-0.0582056j ],\n",
       "        [-0.02296686-0.00995865j],\n",
       "        [ 0.03442676+0.0582056j ],\n",
       "        [ 0.03442676+0.0582056j ],\n",
       "        [ 0.47722989+0.j        ]])"
      ]
     },
     "execution_count": 62,
     "metadata": {},
     "output_type": "execute_result"
    }
   ],
   "source": [
    "lio.groundstate()[1].data.todense()"
   ]
  },
  {
   "cell_type": "code",
   "execution_count": 73,
   "id": "compact-samuel",
   "metadata": {},
   "outputs": [
    {
     "data": {
      "text/plain": [
       "matrix([[ 4.65720660e-04+0.00000000e+00j],\n",
       "        [-2.90566182e-17-1.55240220e-03j],\n",
       "        [ 2.65629532e-18-1.55240220e-03j],\n",
       "        [-5.17467400e-03-2.06986960e-02j],\n",
       "        [-2.90566182e-17+1.55240220e-03j],\n",
       "        [ 5.64039466e-03+0.00000000e+00j],\n",
       "        [ 5.17467400e-03-3.13613949e-18j],\n",
       "        [ 6.89956533e-02-1.88013155e-02j],\n",
       "        [ 2.65629532e-18+1.55240220e-03j],\n",
       "        [ 5.17467400e-03+3.13613949e-18j],\n",
       "        [ 5.64039466e-03+0.00000000e+00j],\n",
       "        [ 6.89956533e-02-1.88013155e-02j],\n",
       "        [-5.17467400e-03+2.06986960e-02j],\n",
       "        [ 6.89956533e-02+1.88013155e-02j],\n",
       "        [ 6.89956533e-02+1.88013155e-02j],\n",
       "        [ 9.88253490e-01+0.00000000e+00j]])"
      ]
     },
     "execution_count": 73,
     "metadata": {},
     "output_type": "execute_result"
    }
   ],
   "source": [
    "steadystate(lio).data.todense().reshape((-1,1))"
   ]
  },
  {
   "cell_type": "code",
   "execution_count": null,
   "id": "trying-edward",
   "metadata": {},
   "outputs": [],
   "source": [
    "[[ 4.65720660e-04-1.17605414e-16j]\n",
    " [-7.02888208e-17+1.55240220e-03j]\n",
    " [ 1.48013739e-16+1.55240220e-03j]\n",
    " [-5.17467400e-03+2.06986960e-02j]\n",
    " [-1.39515342e-16-1.55240220e-03j]\n",
    " [ 5.64039466e-03+1.71384329e-16j]\n",
    " [ 5.17467400e-03+1.87672922e-17j]\n",
    " [ 6.89956533e-02+1.88013155e-02j]\n",
    " [-1.93515570e-16-1.55240220e-03j]\n",
    " [ 5.17467400e-03-7.15281703e-17j]\n",
    " [ 5.64039466e-03+1.79174526e-16j]\n",
    " [ 6.89956533e-02+1.88013155e-02j]\n",
    " [-5.17467400e-03-2.06986960e-02j]\n",
    " [ 6.89956533e-02-1.88013155e-02j]\n",
    " [ 6.89956533e-02-1.88013155e-02j]\n",
    " [ 9.88253490e-01-3.62598250e-16j]]\n",
    "[ ]:\n"
   ]
  }
 ],
 "metadata": {
  "kernelspec": {
   "display_name": "Python (Netket development)",
   "language": "python",
   "name": "dev-netket"
  },
  "language_info": {
   "codemirror_mode": {
    "name": "ipython",
    "version": 3
   },
   "file_extension": ".py",
   "mimetype": "text/x-python",
   "name": "python",
   "nbconvert_exporter": "python",
   "pygments_lexer": "ipython3",
   "version": "3.8.2"
  }
 },
 "nbformat": 4,
 "nbformat_minor": 5
}
