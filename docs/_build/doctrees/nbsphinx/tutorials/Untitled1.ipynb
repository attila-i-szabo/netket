{
 "cells": [
  {
   "cell_type": "code",
   "execution_count": 106,
   "id": "casual-florence",
   "metadata": {},
   "outputs": [],
   "source": [
    "# Johannes Mellak investigating a different sign depending on whether using exact diag. or NetKet expectation values\n",
    "\n",
    "import netket as nk\n",
    "import numpy as np\n",
    "np.set_printoptions(edgeitems=30, linewidth=100000, \n",
    "    formatter=dict(float=lambda x: \"%.3g\" % x))\n",
    "\n",
    "# --------------------------------------------------------------------------------------------------------\n",
    "# Prepare the basics (From NetKet/Examples/DissipativeIsing1d)\n",
    "\n",
    "N = 1\n",
    "\n",
    "hi = nk.hilbert.Spin(s=1 / 2, N=N)\n",
    "ha = nk.operator.LocalOperator(hi, dtype=complex)\n",
    "j_ops = []\n",
    "\n",
    "lop = 0\n",
    "I = np.eye(hi.n_states)\n",
    "# Observables\n",
    "obs_sy = nk.operator.LocalOperator(hi, dtype=complex)\n",
    "\n",
    "gp = 0.3\n",
    "Vp = 2.0\n",
    "for i in range(N):\n",
    "    ha += (gp / 2.0) * nk.operator.spin.sigmax(hi, i)\n",
    "    ha += gp * nk.operator.spin.sigmay(hi, i)\n",
    "    if N > 1:\n",
    "        ha += (\n",
    "            (Vp / 4.0)\n",
    "            * nk.operator.spin.sigmaz(hi, i)\n",
    "            * nk.operator.spin.sigmaz(hi, (i + 1) % 2)\n",
    "        )\n",
    "    # sigma_{-} dissipation on every site\n",
    "    #j_ops.append(nk.operator.spin.sigmam(hi, i))\n",
    "    j_ops.append(1j*nk.operator.spin.sigmam(hi, i))\n",
    "\n",
    "    obs_sy += nk.operator.spin.sigmay(hi, i)\n",
    "\n",
    "#j_ops = []\n",
    "ha = nk.operator.LocalOperator(hi, dtype=complex)\n",
    "lind = nk.operator.LocalLiouvillian(ha, j_ops)"
   ]
  },
  {
   "cell_type": "code",
   "execution_count": 118,
   "id": "convinced-television",
   "metadata": {},
   "outputs": [],
   "source": [
    "lop = 0\n",
    "#lop += -1j*np.kron(ha.to_dense(), I) + 1j*np.kron(I, ha.to_dense())\n",
    "\n",
    "lop += -1j*np.kron(lind.hamiltonian_nh.to_dense(), I) + 1j*np.kron(I, lind.hamiltonian_nh.to_dense().conj())\n",
    "\n",
    "for i in range(len(j_ops)):\n",
    "    L = j_ops[i]\n",
    "    lop += np.kron(L.to_dense(), L.to_dense().conj())"
   ]
  },
  {
   "cell_type": "code",
   "execution_count": 121,
   "id": "elder-white",
   "metadata": {},
   "outputs": [],
   "source": [
    "lop = 0\n",
    "lop += -1j*np.kron(ha.to_dense(), I) + 1j*np.kron(I, ha.to_dense())\n",
    "\n",
    "for i in range(len(j_ops)):\n",
    "    L = j_ops[i]\n",
    "    LL = L.to_dense().conj().T@L.to_dense()\n",
    "    lop -= 0.5*(np.kron(LL,I) + np.kron(I,LL.conj()))\n",
    "    lop += np.kron(L.to_dense(), L.to_dense().conj())"
   ]
  },
  {
   "cell_type": "code",
   "execution_count": 122,
   "id": "adolescent-iraqi",
   "metadata": {},
   "outputs": [
    {
     "data": {
      "text/plain": [
       "array([[-1. +0.j,  0. +0.j,  0. +0.j,  0. +0.j],\n",
       "       [ 0. +0.j, -0.5+0.j,  0. +0.j,  0. +0.j],\n",
       "       [ 0. +0.j,  0. +0.j, -0.5+0.j,  0. +0.j],\n",
       "       [ 1. +0.j,  0. +0.j,  0. +0.j,  0. +0.j]])"
      ]
     },
     "execution_count": 122,
     "metadata": {},
     "output_type": "execute_result"
    }
   ],
   "source": [
    "lop"
   ]
  },
  {
   "cell_type": "code",
   "execution_count": 123,
   "id": "indonesian-affair",
   "metadata": {},
   "outputs": [
    {
     "data": {
      "text/plain": [
       "array([[-1. +0.j,  0. +0.j,  0. +0.j,  0. +0.j],\n",
       "       [ 0. +0.j, -0.5+0.j,  0. +0.j,  0. +0.j],\n",
       "       [ 0. +0.j,  0. +0.j, -0.5+0.j,  0. +0.j],\n",
       "       [ 1. +0.j,  0. +0.j,  0. +0.j,  0. +0.j]])"
      ]
     },
     "execution_count": 123,
     "metadata": {},
     "output_type": "execute_result"
    }
   ],
   "source": [
    "lind.to_dense()"
   ]
  },
  {
   "cell_type": "code",
   "execution_count": 72,
   "id": "serious-california",
   "metadata": {},
   "outputs": [
    {
     "data": {
      "text/plain": [
       "array([[1, 0, 0, 0],\n",
       "       [0, 0, 0, 0],\n",
       "       [0, 0, 1, 0],\n",
       "       [0, 0, 0, 0]])"
      ]
     },
     "execution_count": 72,
     "metadata": {},
     "output_type": "execute_result"
    }
   ],
   "source": [
    "np.kron(I,LL)"
   ]
  },
  {
   "cell_type": "code",
   "execution_count": 73,
   "id": "extensive-booking",
   "metadata": {},
   "outputs": [
    {
     "data": {
      "text/plain": [
       "array([[-1, -1],\n",
       "       [-1, 1],\n",
       "       [1, -1],\n",
       "       [1, 1]])"
      ]
     },
     "execution_count": 73,
     "metadata": {},
     "output_type": "execute_result"
    }
   ],
   "source": [
    "hi.all_states()\n",
    "lind.hilbert.all_states()"
   ]
  },
  {
   "cell_type": "code",
   "execution_count": 74,
   "id": "radical-advice",
   "metadata": {},
   "outputs": [
    {
     "data": {
      "text/plain": [
       "(6, 1)"
      ]
     },
     "execution_count": 74,
     "metadata": {},
     "output_type": "execute_result"
    }
   ],
   "source": [
    "lind._xrv.shape"
   ]
  },
  {
   "cell_type": "code",
   "execution_count": 75,
   "id": "cardiac-waters",
   "metadata": {},
   "outputs": [
    {
     "name": "stdout",
     "output_type": "stream",
     "text": [
      "[1 1]\n"
     ]
    },
    {
     "data": {
      "text/plain": [
       "(array([[1, 1],\n",
       "        [1, 1],\n",
       "        [1, 1],\n",
       "        [1, -1],\n",
       "        [-1, 1],\n",
       "        [-1, -1]]),\n",
       " array([0.-0.j, 0.+0.j, 0.+0.j, 0.+0.j, 0.+0.j, 1.+0.j]))"
      ]
     },
     "execution_count": 75,
     "metadata": {},
     "output_type": "execute_result"
    }
   ],
   "source": [
    "v = lind.hilbert.all_states()[3]\n",
    "print(v)\n",
    "lind.get_conn(v)"
   ]
  },
  {
   "cell_type": "code",
   "execution_count": 76,
   "id": "multiple-conservation",
   "metadata": {},
   "outputs": [
    {
     "data": {
      "text/plain": [
       "array([[-1, -1],\n",
       "       [-1, 1],\n",
       "       [1, -1],\n",
       "       [1, 1]])"
      ]
     },
     "execution_count": 76,
     "metadata": {},
     "output_type": "execute_result"
    }
   ],
   "source": [
    "lind.hilbert.all_states()"
   ]
  },
  {
   "cell_type": "code",
   "execution_count": 81,
   "id": "incorporated-relationship",
   "metadata": {},
   "outputs": [
    {
     "data": {
      "text/plain": [
       "array([[-1. +0.j,  0. +0.j,  0. +0.j,  0. +0.j],\n",
       "       [ 0. +0.j, -0.5+0.j,  0. +0.j,  0. +0.j],\n",
       "       [ 0. +0.j,  0. +0.j, -0.5+0.j,  0. +0.j],\n",
       "       [ 1. +0.j,  0. +0.j,  0. +0.j,  0. +0.j]])"
      ]
     },
     "execution_count": 81,
     "metadata": {},
     "output_type": "execute_result"
    }
   ],
   "source": [
    "lop"
   ]
  },
  {
   "cell_type": "code",
   "execution_count": 79,
   "id": "metallic-final",
   "metadata": {},
   "outputs": [
    {
     "data": {
      "text/plain": [
       "array([[-1. +0.j,  0. +0.j,  0. +0.j,  0. +0.j],\n",
       "       [ 0. +0.j, -0.5+0.j,  0. +0.j,  0. +0.j],\n",
       "       [ 0. +0.j,  0. +0.j, -0.5+0.j,  0. +0.j],\n",
       "       [ 1. +0.j,  0. +0.j,  0. +0.j,  0. +0.j]])"
      ]
     },
     "execution_count": 79,
     "metadata": {},
     "output_type": "execute_result"
    }
   ],
   "source": [
    "lind.to_dense()"
   ]
  },
  {
   "cell_type": "code",
   "execution_count": null,
   "id": "excessive-gamma",
   "metadata": {},
   "outputs": [],
   "source": []
  },
  {
   "cell_type": "code",
   "execution_count": 2,
   "id": "greenhouse-animal",
   "metadata": {},
   "outputs": [
    {
     "name": "stderr",
     "output_type": "stream",
     "text": [
      "100%|██████████| 300/300 [00:07<00:00, 42.64it/s, LdagL=0.0083 ± 0.0073 [σ²=0.0285]]   \n"
     ]
    },
    {
     "data": {
      "text/plain": [
       "(<netket.logging.json_log.JsonLog at 0x13e71f2e0>,)"
      ]
     },
     "execution_count": 2,
     "metadata": {},
     "output_type": "execute_result"
    }
   ],
   "source": [
    "# --------------------------------------------------------------------------------------------------------\n",
    "# Run the optimization\n",
    "\n",
    "ma = nk.models.NDM(beta=1)\n",
    "sa = nk.sampler.MetropolisLocal(hilbert=lind.hilbert)\n",
    "optim = nk.optimizer.Sgd(learning_rate=0.04)\n",
    "\n",
    "rho = nk.variational.MCMixedState(sampler=sa, model=ma, n_samples=500, n_samples_diag=500)\n",
    "rho.init_parameters(nk.nn.initializers.normal(stddev=0.01))\n",
    "\n",
    "ss = nk.SteadyState(lindbladian=lind, optimizer=optim, variational_state=rho)\n",
    "\n",
    "ss.run(n_iter=300, out='results/testOp', obs={\"Sy\": obs_sy}) # converges in my simulations"
   ]
  },
  {
   "cell_type": "code",
   "execution_count": 4,
   "id": "listed-darkness",
   "metadata": {},
   "outputs": [
    {
     "name": "stdout",
     "output_type": "stream",
     "text": [
      "Minimum eigenvalue is:  -2.0746007728622543e-16\n",
      "________________________________________________________________________________\n",
      "RBM result for the observable: -0.064+0.036j ± 0.050 [σ²=1.266, R̂=0.9943]\n",
      "Exact result from ED:          (0.08141487086313592+2.914335439641036e-16j)\n",
      "...these results have a different sign. (High uncertainty is due to the imaginary part)\n",
      "________________________________________________________________________________\n"
     ]
    }
   ],
   "source": [
    "# import visualizer        # check convergence\n",
    "# vis = visualizer.Visualizer('results/testOp')\n",
    "# vis.plot_observable(\"LdagL\")\n",
    "# vis.plot_observable(\"Sy\")\n",
    "\n",
    "# --------------------------------------------------------------------------------------------------------\n",
    "# Compare the results for some observable\n",
    "\n",
    "# The observable operator to investigate\n",
    "obs = obs_sy\n",
    "\n",
    "# Calculate exact result\n",
    "rho_0 = nk.exact.steady_state(lind)\n",
    "\n",
    "print('_'*80)\n",
    "print(f'RBM result for the observable: {ss.estimate(obs)}')\n",
    "print(f'Exact result from ED:          {np.trace(rho_0@obs.to_dense())}')\n",
    "\n",
    "print('...these results have a different sign. (High uncertainty is due to the imaginary part)')\n",
    "print('_'*80)\n",
    "\n"
   ]
  },
  {
   "cell_type": "code",
   "execution_count": 40,
   "id": "municipal-disclaimer",
   "metadata": {},
   "outputs": [
    {
     "name": "stdout",
     "output_type": "stream",
     "text": [
      "[[ 4.48231214e-17  1.55240220e-03  1.55240220e-03  2.06986960e-02]\n",
      " [-1.55240220e-03  7.29129204e-17  8.98873569e-17  1.88013155e-02]\n",
      " [-1.55240220e-03 -4.51365698e-17 -1.96749150e-17  1.88013155e-02]\n",
      " [-2.06986960e-02 -1.88013155e-02 -1.88013155e-02 -9.87603578e-17]]\n"
     ]
    }
   ],
   "source": [
    "print(rho_0.imag)"
   ]
  },
  {
   "cell_type": "code",
   "execution_count": 44,
   "id": "ready-relations",
   "metadata": {},
   "outputs": [
    {
     "name": "stdout",
     "output_type": "stream",
     "text": [
      "Starting iterative solver...\n",
      "Converged trace is  (0.9999999999999998+1.776677594546218e-16j)\n",
      "[[-5.32606981e-13  1.55238327e-03  1.55238327e-03  2.06986474e-02]\n",
      " [-1.55238326e-03  5.45092423e-12  6.30289646e-12  1.88016999e-02]\n",
      " [-1.55238326e-03  6.30286644e-12  5.45092515e-12  1.88016999e-02]\n",
      " [-2.06986474e-02 -1.88016998e-02 -1.88016998e-02 -1.03690647e-11]]\n"
     ]
    }
   ],
   "source": [
    "rho_0 = nk.exact.steady_state(lind, method=\"iterative\")\n",
    "print(rho_0.imag)"
   ]
  },
  {
   "cell_type": "code",
   "execution_count": null,
   "id": "affiliated-oregon",
   "metadata": {},
   "outputs": [],
   "source": [
    "\n",
    "\n",
    "\n",
    "# --------------------------------------------------------------------------------------------------------\n",
    "# Digging deeper into the code of netket... (DEBUG CODE)\n",
    "# 1.) I reproduce the code that calculates the expectation value and\n",
    "# 2.) replace the RBM result of the density matrix rho with the exact rho_0\n",
    "#\n",
    "# => the expectation value gives the exact result with a negative sign for asymmetric observables (e.g. S_y)\n",
    "\n",
    "def reproduceLocalValueCalculation(samples_u, operator, use_exact_rho=False):\n",
    "    # Reproduce local value calculation from _local_cost_functions.py::198:local_value_op_op_cost()\n",
    "\n",
    "    samples_uc, mels = operator.get_conn_padded(samples_u)\n",
    "\n",
    "    import jax\n",
    "    import jax.numpy as jnp\n",
    "\n",
    "    locs = []\n",
    "    for batch in range(samples_u.shape[0]):\n",
    "        # Manually handling batches\n",
    "        s = samples_u[batch]\n",
    "        s_ind = hi.states_to_numbers(s)\n",
    "        s_p = samples_uc[batch]\n",
    "        p_ind = hi.states_to_numbers(s_p)\n",
    "        mel = mels[batch]\n",
    "\n",
    "        # from local_value_op_op_cost\n",
    "        s_sp = jax.vmap(lambda samples, samples_p: jnp.hstack((samples, samples_p)), in_axes=(None, 0))(s, s_p)\n",
    "        s_s = jnp.hstack((s, s))\n",
    "\n",
    "        # Get the RBM values\n",
    "        log_s_sp = rho._apply_fun(rho.variables, s_sp)\n",
    "        log_s_s = rho._apply_fun(rho.variables, s_s)\n",
    "        # Or better: Use the exact rho values from ED instead of the function values\n",
    "        if use_exact_rho:\n",
    "            log_s_sp = np.log(rho_0[s_ind][p_ind])\n",
    "            log_s_s = np.log(rho_0[s_ind][s_ind])\n",
    "\n",
    "        # Calculate local value\n",
    "        locs.append(jnp.sum(mel * jnp.exp(log_s_sp - log_s_s)))\n",
    "\n",
    "    return locs\n",
    "\n",
    "# MCMC samples that were generated by the sampler\n",
    "samples_r = np.asarray(rho.diagonal.samples.reshape((-1, rho.diagonal.samples.shape[-1])))\n",
    "\n",
    "print('Calculating expectation value \"manually\" ... takes a minute')\n",
    "locs_r = reproduceLocalValueCalculation(samples_r, obs)\n",
    "print('_'*80)\n",
    "print(f'Reproduction of expectation value: {np.mean(locs_r)}')\n",
    "print(f'Netket expectation value:          {ss.estimate(obs).mean}')\n",
    "\n",
    "print('check: the reproduction of the netket code works')\n",
    "\n",
    "# to remove MC noise, uniform distribution of states\n",
    "samples_uniform = hi.all_states()\n",
    "locs_u = reproduceLocalValueCalculation(samples_uniform, obs, use_exact_rho=True)\n",
    "# Correct the probability distribution of the uniform samples according to the diagonal of rho\n",
    "result_u = np.sum(np.array(locs_u) * rho_0.diagonal())\n",
    "\n",
    "print('_'*80)\n",
    "print(f'Reproduction of expectation value using rho_0: {result_u}')\n",
    "print(f'Result from exact diagonalization rho_0      : {np.trace(rho_0@obs.to_dense())}')\n",
    "print('...again, these results have a different sign')\n",
    "\n",
    "print('_'*80)\n",
    "print('finished')"
   ]
  },
  {
   "cell_type": "code",
   "execution_count": 8,
   "id": "automatic-slovakia",
   "metadata": {},
   "outputs": [
    {
     "data": {
      "text/plain": [
       "0.052+0.075j ± 0.038 [σ²=0.744, R̂=0.9962]"
      ]
     },
     "execution_count": 8,
     "metadata": {},
     "output_type": "execute_result"
    }
   ],
   "source": [
    "rho.expect(obs)"
   ]
  },
  {
   "cell_type": "code",
   "execution_count": null,
   "id": "miniature-english",
   "metadata": {},
   "outputs": [],
   "source": []
  },
  {
   "cell_type": "code",
   "execution_count": 13,
   "id": "noble-summit",
   "metadata": {},
   "outputs": [
    {
     "data": {
      "text/plain": [
       "(0.06881311028043385+1.3877787807814457e-17j)"
      ]
     },
     "execution_count": 13,
     "metadata": {},
     "output_type": "execute_result"
    }
   ],
   "source": [
    "np.trace(rho.to_matrix().T@obs.to_dense())"
   ]
  },
  {
   "cell_type": "code",
   "execution_count": 15,
   "id": "upper-karma",
   "metadata": {},
   "outputs": [],
   "source": [
    "import qutip"
   ]
  },
  {
   "cell_type": "code",
   "execution_count": 18,
   "id": "imported-madness",
   "metadata": {},
   "outputs": [],
   "source": [
    "obs_sx = sum([nk.operator.spin.sigmax(hi, i) for i in range(2)])\n",
    "obs_sz = sum([nk.operator.spin.sigmaz(hi, i) for i in range(2)])"
   ]
  },
  {
   "cell_type": "code",
   "execution_count": 21,
   "id": "statistical-edgar",
   "metadata": {},
   "outputs": [
    {
     "data": {
      "text/plain": [
       "0.225-0.017j ± 0.038 [σ²=0.757, R̂=0.9962]"
      ]
     },
     "execution_count": 21,
     "metadata": {},
     "output_type": "execute_result"
    }
   ],
   "source": [
    "rho.expect(obs_sx)"
   ]
  },
  {
   "cell_type": "code",
   "execution_count": 23,
   "id": "induced-bryan",
   "metadata": {},
   "outputs": [
    {
     "data": {
      "text/plain": [
       "0.052+0.075j ± 0.038 [σ²=0.744, R̂=0.9962]"
      ]
     },
     "execution_count": 23,
     "metadata": {},
     "output_type": "execute_result"
    }
   ],
   "source": [
    "rho.expect(obs_sy)"
   ]
  },
  {
   "cell_type": "code",
   "execution_count": 22,
   "id": "overhead-ballet",
   "metadata": {},
   "outputs": [
    {
     "data": {
      "text/plain": [
       "-1.9844+0.0000j ± 0.0078 [σ²=0.0310, R̂=0.9962]"
      ]
     },
     "execution_count": 22,
     "metadata": {},
     "output_type": "execute_result"
    }
   ],
   "source": [
    "rho.expect(obs_sz)"
   ]
  },
  {
   "cell_type": "code",
   "execution_count": 28,
   "id": "adequate-tonight",
   "metadata": {},
   "outputs": [
    {
     "data": {
      "text/plain": [
       "array([[ 1.,  0.,  0.,  0.],\n",
       "       [ 0., -1.,  0.,  0.],\n",
       "       [ 0.,  0., -1.,  0.],\n",
       "       [ 0.,  0.,  0.,  1.]])"
      ]
     },
     "execution_count": 28,
     "metadata": {},
     "output_type": "execute_result"
    }
   ],
   "source": [
    "ha.to_dense()"
   ]
  },
  {
   "cell_type": "code",
   "execution_count": 48,
   "id": "private-indonesia",
   "metadata": {},
   "outputs": [
    {
     "data": {
      "text/plain": [
       "array([[0., 1., 0., 0.],\n",
       "       [1., 0., 0., 0.],\n",
       "       [0., 0., 0., 1.],\n",
       "       [0., 0., 1., 0.]])"
      ]
     },
     "execution_count": 48,
     "metadata": {},
     "output_type": "execute_result"
    }
   ],
   "source": [
    "nk.operator.spin.sigmax(hi,1).to_dense()"
   ]
  },
  {
   "cell_type": "code",
   "execution_count": 47,
   "id": "genetic-youth",
   "metadata": {},
   "outputs": [
    {
     "data": {
      "text/plain": [
       "array([[0.+0.j, 0.-1.j, 0.+0.j, 0.+0.j],\n",
       "       [0.+1.j, 0.+0.j, 0.+0.j, 0.+0.j],\n",
       "       [0.+0.j, 0.+0.j, 0.+0.j, 0.-1.j],\n",
       "       [0.+0.j, 0.+0.j, 0.+1.j, 0.+0.j]])"
      ]
     },
     "execution_count": 47,
     "metadata": {},
     "output_type": "execute_result"
    }
   ],
   "source": [
    "nk.operator.spin.sigmay(hi,1).to_dense()"
   ]
  },
  {
   "cell_type": "code",
   "execution_count": 63,
   "id": "medical-percentage",
   "metadata": {},
   "outputs": [
    {
     "data": {
      "text/plain": [
       "array([[0, -0.15, -0.15, 0, 0.15, 0, 0, 0, 0.15, 0, 0, 0, 0, 0, 0, 0],\n",
       "       [-0.15, 2, 0, -0.15, 0, 0.15, 0, 0, 0, 0.15, 0, 0, 0, 0, 0, 0],\n",
       "       [-0.15, 0, 2, -0.15, 0, 0, 0.15, 0, 0, 0, 0.15, 0, 0, 0, 0, 0],\n",
       "       [0, -0.15, -0.15, 0, 0, 0, 0, 0.15, 0, 0, 0, 0.15, 0, 0, 0, 0],\n",
       "       [0.15, 0, 0, 0, -2, -0.15, -0.15, 0, 0, 0, 0, 0, 0.15, 0, 0, 0],\n",
       "       [0, 0.15, 0, 0, -0.15, 0, 0, -0.15, 0, 0, 0, 0, 0, 0.15, 0, 0],\n",
       "       [0, 0, 0.15, 0, -0.15, 0, 0, -0.15, 0, 0, 0, 0, 0, 0, 0.15, 0],\n",
       "       [0, 0, 0, 0.15, 0, -0.15, -0.15, -2, 0, 0, 0, 0, 0, 0, 0, 0.15],\n",
       "       [0.15, 0, 0, 0, 0, 0, 0, 0, -2, -0.15, -0.15, 0, 0.15, 0, 0, 0],\n",
       "       [0, 0.15, 0, 0, 0, 0, 0, 0, -0.15, 0, 0, -0.15, 0, 0.15, 0, 0],\n",
       "       [0, 0, 0.15, 0, 0, 0, 0, 0, -0.15, 0, 0, -0.15, 0, 0, 0.15, 0],\n",
       "       [0, 0, 0, 0.15, 0, 0, 0, 0, 0, -0.15, -0.15, -2, 0, 0, 0, 0.15],\n",
       "       [0, 0, 0, 0, 0.15, 0, 0, 0, 0.15, 0, 0, 0, 0, -0.15, -0.15, 0],\n",
       "       [0, 0, 0, 0, 0, 0.15, 0, 0, 0, 0.15, 0, 0, -0.15, 2, 0, -0.15],\n",
       "       [0, 0, 0, 0, 0, 0, 0.15, 0, 0, 0, 0.15, 0, -0.15, 0, 2, -0.15],\n",
       "       [0, 0, 0, 0, 0, 0, 0, 0.15, 0, 0, 0, 0.15, 0, -0.15, -0.15, 0]])"
      ]
     },
     "execution_count": 63,
     "metadata": {},
     "output_type": "execute_result"
    }
   ],
   "source": [
    "(lind.to_dense().imag)"
   ]
  },
  {
   "cell_type": "code",
   "execution_count": 69,
   "id": "frequent-craps",
   "metadata": {},
   "outputs": [
    {
     "name": "stdout",
     "output_type": "stream",
     "text": [
      "Minimum eigenvalue is:  -1.6487874695618348e-16\n",
      "[[ 4.65720660e-04-1.17605414e-16j]\n",
      " [-7.02888208e-17+1.55240220e-03j]\n",
      " [ 1.48013739e-16+1.55240220e-03j]\n",
      " [-5.17467400e-03+2.06986960e-02j]\n",
      " [-1.39515342e-16-1.55240220e-03j]\n",
      " [ 5.64039466e-03+1.71384329e-16j]\n",
      " [ 5.17467400e-03+1.87672922e-17j]\n",
      " [ 6.89956533e-02+1.88013155e-02j]\n",
      " [-1.93515570e-16-1.55240220e-03j]\n",
      " [ 5.17467400e-03-7.15281703e-17j]\n",
      " [ 5.64039466e-03+1.79174526e-16j]\n",
      " [ 6.89956533e-02+1.88013155e-02j]\n",
      " [-5.17467400e-03-2.06986960e-02j]\n",
      " [ 6.89956533e-02-1.88013155e-02j]\n",
      " [ 6.89956533e-02-1.88013155e-02j]\n",
      " [ 9.88253490e-01-3.62598250e-16j]]\n"
     ]
    }
   ],
   "source": [
    "a=nk.exact.steady_state(lind).reshape((-1,1))\n",
    "print(a)"
   ]
  },
  {
   "cell_type": "code",
   "execution_count": 23,
   "id": "opponent-admission",
   "metadata": {},
   "outputs": [],
   "source": [
    "hi1 = nk.hilbert.Spin(0.5)\n",
    "sx = nk.operator.spin.sigmax(hi1, 0)\n",
    "sy = nk.operator.spin.sigmay(hi1, 0)\n",
    "sz = nk.operator.spin.sigmaz(hi1, 0)"
   ]
  },
  {
   "cell_type": "code",
   "execution_count": 31,
   "id": "buried-writing",
   "metadata": {},
   "outputs": [
    {
     "data": {
      "text/plain": [
       "array([[-1, -1],\n",
       "       [-1, 1],\n",
       "       [1, -1],\n",
       "       [1, 1]])"
      ]
     },
     "execution_count": 31,
     "metadata": {},
     "output_type": "execute_result"
    }
   ],
   "source": [
    "nk.hilbert.Spin(0.5,2).all_states()"
   ]
  },
  {
   "cell_type": "code",
   "execution_count": 24,
   "id": "involved-travel",
   "metadata": {},
   "outputs": [
    {
     "data": {
      "text/plain": [
       "array([[0.+0.j, 0.+0.j],\n",
       "       [1.+0.j, 0.+0.j]])"
      ]
     },
     "execution_count": 24,
     "metadata": {},
     "output_type": "execute_result"
    }
   ],
   "source": [
    "sm = (0.5*(sx-1j*sy))\n",
    "sm.to_dense()"
   ]
  },
  {
   "cell_type": "code",
   "execution_count": 33,
   "id": "vocational-union",
   "metadata": {},
   "outputs": [
    {
     "data": {
      "text/plain": [
       "array([[0.+0.j, 0.+0.j, 0.+0.j, 0.+0.j],\n",
       "       [0.+0.j, 0.+0.j, 0.+0.j, 0.+0.j],\n",
       "       [0.+0.j, 1.+0.j, 0.+0.j, 0.+0.j],\n",
       "       [0.+0.j, 0.+0.j, 0.+0.j, 0.+0.j]])"
      ]
     },
     "execution_count": 33,
     "metadata": {},
     "output_type": "execute_result"
    }
   ],
   "source": [
    "np.kron(sm.to_dense(), sm.to_dense().T)"
   ]
  },
  {
   "cell_type": "code",
   "execution_count": 107,
   "id": "forbidden-girlfriend",
   "metadata": {},
   "outputs": [
    {
     "name": "stdout",
     "output_type": "stream",
     "text": [
      "[0]\n",
      "(array([[0],\n",
      "       [-1]]), array([0.+0.j, 1.+0.j]))\n",
      "[1]\n",
      "(array([[1],\n",
      "       [-1]]), array([0.+0.j, 1.+0.j]))\n",
      "[1]\n",
      "(array([[1]]), array([-1]))\n"
     ]
    }
   ],
   "source": [
    "v = hi1.all_states()[0]\n",
    "print(v)\n",
    "print(sm.get_conn(v))\n",
    "\n",
    "v = hi1.all_states()[1]\n",
    "print(v)\n",
    "print(sm.get_conn(v))\n",
    "\n",
    "v = hi1.all_states()[1]\n",
    "print(v)\n",
    "print(sz.get_conn(v))"
   ]
  },
  {
   "cell_type": "code",
   "execution_count": 151,
   "id": "roman-cliff",
   "metadata": {},
   "outputs": [
    {
     "data": {
      "text/plain": [
       "array([[[nan],\n",
       "        [1]]])"
      ]
     },
     "execution_count": 151,
     "metadata": {},
     "output_type": "execute_result"
    }
   ],
   "source": [
    "smm = nk.operator.spin.sigmam(hi1, 0)\n",
    "smm._mels"
   ]
  },
  {
   "cell_type": "code",
   "execution_count": 142,
   "id": "acquired-bride",
   "metadata": {},
   "outputs": [
    {
     "data": {
      "text/plain": [
       "array([[[[1]],\n",
       "\n",
       "        [[-1]]]])"
      ]
     },
     "execution_count": 142,
     "metadata": {},
     "output_type": "execute_result"
    }
   ],
   "source": [
    "sy._acting_size\n",
    "sy._local_states\n",
    "sy._x_prime"
   ]
  },
  {
   "cell_type": "code",
   "execution_count": 65,
   "id": "three-error",
   "metadata": {},
   "outputs": [],
   "source": [
    "def _number_to_state(number, local_states, out):\n",
    "\n",
    "    out.fill(local_states[0])\n",
    "    size = out.shape[0]\n",
    "    local_size = local_states.shape[0]\n",
    "\n",
    "    ip = number\n",
    "    k = size - 1\n",
    "    while(ip > 0):\n",
    "        out[k] = local_states[ip % local_size]\n",
    "        ip = ip // local_size\n",
    "        k -= 1\n",
    "\n",
    "    return out\n",
    "\n",
    "def _number_to_state2(number, hilbert_size_per_site, local_states_per_site, out):\n",
    "\n",
    "    out[:] = local_states_per_site[:, 0]\n",
    "    size = out.shape[0]\n",
    "\n",
    "    ip = number\n",
    "    k = size - 1\n",
    "    while ip > 0:\n",
    "        local_size = hilbert_size_per_site[k]\n",
    "        out[k] = local_states_per_site[k, ip % local_size]\n",
    "        ip = ip // local_size\n",
    "        k -= 1\n",
    "\n",
    "    return out\n"
   ]
  },
  {
   "cell_type": "code",
   "execution_count": 69,
   "id": "earlier-museum",
   "metadata": {},
   "outputs": [
    {
     "data": {
      "text/plain": [
       "array([-1])"
      ]
     },
     "execution_count": 69,
     "metadata": {},
     "output_type": "execute_result"
    }
   ],
   "source": [
    "_number_to_state(0, np.array([-1,1]), np.empty(1))"
   ]
  },
  {
   "cell_type": "code",
   "execution_count": 70,
   "id": "median-headline",
   "metadata": {},
   "outputs": [
    {
     "data": {
      "text/plain": [
       "array([-1])"
      ]
     },
     "execution_count": 70,
     "metadata": {},
     "output_type": "execute_result"
    }
   ],
   "source": [
    "_number_to_state2(0, np.array([2]), np.array([[-1,1]]), np.empty(1))"
   ]
  },
  {
   "cell_type": "code",
   "execution_count": 97,
   "id": "charged-alcohol",
   "metadata": {},
   "outputs": [
    {
     "data": {
      "text/plain": [
       "array([[0, 0, 0, 0],\n",
       "       [1, 0, 0, 0],\n",
       "       [0, 1.41, 0, 0],\n",
       "       [0, 0, 1.73, 0]])"
      ]
     },
     "execution_count": 97,
     "metadata": {},
     "output_type": "execute_result"
    }
   ],
   "source": [
    "des.to_dense()"
   ]
  },
  {
   "cell_type": "code",
   "execution_count": 105,
   "id": "flying-profit",
   "metadata": {},
   "outputs": [
    {
     "name": "stdout",
     "output_type": "stream",
     "text": [
      "[0]\n",
      "(array([[0]]), array([0]))\n",
      "[1]\n",
      "(array([[1],\n",
      "       [0]]), array([0, 1]))\n",
      "[2]\n",
      "(array([[2],\n",
      "       [1]]), array([0, 1.41]))\n"
     ]
    }
   ],
   "source": [
    "v = hi1.all_states()[0]\n",
    "print(v)\n",
    "print(des.get_conn(v))\n",
    "\n",
    "v = hi1.all_states()[1]\n",
    "print(v)\n",
    "print(des.get_conn(v))\n",
    "\n",
    "v = hi1.all_states()[2]\n",
    "print(v)\n",
    "print(des.get_conn(v))\n"
   ]
  },
  {
   "cell_type": "code",
   "execution_count": 106,
   "id": "israeli-fishing",
   "metadata": {},
   "outputs": [
    {
     "data": {
      "text/plain": [
       "array([[0.+0.j, 0.+0.j],\n",
       "       [1.+0.j, 0.+0.j]])"
      ]
     },
     "execution_count": 106,
     "metadata": {},
     "output_type": "execute_result"
    }
   ],
   "source": [
    "sm.to_dense()"
   ]
  },
  {
   "cell_type": "code",
   "execution_count": 76,
   "id": "optional-providence",
   "metadata": {},
   "outputs": [
    {
     "data": {
      "text/plain": [
       "(array([[1],\n",
       "        [-1]]),\n",
       " array([0, 1]))"
      ]
     },
     "execution_count": 76,
     "metadata": {},
     "output_type": "execute_result"
    }
   ],
   "source": [
    "sm.get_conn(v)"
   ]
  },
  {
   "cell_type": "code",
   "execution_count": null,
   "id": "modified-trash",
   "metadata": {},
   "outputs": [],
   "source": []
  },
  {
   "cell_type": "code",
   "execution_count": 102,
   "id": "average-yorkshire",
   "metadata": {},
   "outputs": [],
   "source": [
    "g = nk.graph.Chain(2, pbc=False)\n",
    "hi2 = nk.hilbert.Spin(0.5, 2)\n",
    "sm0 = nk.operator.spin.sigmam(hi2, 0)\n",
    "sp0 = nk.operator.spin.sigmap(hi2, 0)\n",
    "sm1 = nk.operator.spin.sigmam(hi2, 1)\n",
    "sp1 = nk.operator.spin.sigmap(hi2, 1)\n",
    "\n",
    "hi = nk.operator.Ising(hi2, graph=g, h=0.0)"
   ]
  },
  {
   "cell_type": "code",
   "execution_count": null,
   "id": "decent-subject",
   "metadata": {},
   "outputs": [],
   "source": []
  }
 ],
 "metadata": {
  "kernelspec": {
   "display_name": "Python (Netket development)",
   "language": "python",
   "name": "dev-netket"
  },
  "language_info": {
   "codemirror_mode": {
    "name": "ipython",
    "version": 3
   },
   "file_extension": ".py",
   "mimetype": "text/x-python",
   "name": "python",
   "nbconvert_exporter": "python",
   "pygments_lexer": "ipython3",
   "version": "3.8.2"
  }
 },
 "nbformat": 4,
 "nbformat_minor": 5
}
