{
 "cells": [
  {
   "cell_type": "code",
   "execution_count": 1,
   "id": "prescription-transaction",
   "metadata": {},
   "outputs": [],
   "source": [
    "# Johannes Mellak investigating a different sign depending on whether using exact diag. or NetKet expectation values\n",
    "\n",
    "import netket as nk\n",
    "import numpy as np\n",
    "\n",
    "# --------------------------------------------------------------------------------------------------------\n",
    "# Prepare the basics (From NetKet/Examples/DissipativeIsing1d)\n",
    "\n",
    "g = nk.graph.Hypercube(length=2, n_dim=1, pbc=False)\n",
    "\n",
    "hi = nk.hilbert.Spin(s=1 / 2, N=g.n_nodes)\n",
    "ha = nk.operator.LocalOperator(hi)\n",
    "j_ops = []\n",
    "\n",
    "# Observables\n",
    "obs_sy = nk.operator.LocalOperator(hi, dtype=complex)\n",
    "\n",
    "gp = 0.3\n",
    "Vp = 2.0\n",
    "for i in range(2):\n",
    "    ha += (gp / 2.0) * nk.operator.spin.sigmax(hi, i)\n",
    "    ha += (\n",
    "        (Vp / 4.0)\n",
    "        * nk.operator.spin.sigmaz(hi, i)\n",
    "        * nk.operator.spin.sigmaz(hi, (i + 1) % 2)\n",
    "    )\n",
    "    # sigma_{-} dissipation on every site\n",
    "    j_ops.append(nk.operator.spin.sigmam(hi, i))\n",
    "    obs_sy += nk.operator.spin.sigmay(hi, i)\n",
    "\n",
    "lind = nk.operator.LocalLiouvillian(ha, j_ops)"
   ]
  },
  {
   "cell_type": "code",
   "execution_count": 2,
   "id": "personal-premises",
   "metadata": {},
   "outputs": [
    {
     "name": "stderr",
     "output_type": "stream",
     "text": [
      "100%|██████████| 300/300 [00:06<00:00, 42.86it/s, LdagL=0.00142 ± 0.00045 [σ²=0.00009]]\n"
     ]
    },
    {
     "name": "stdout",
     "output_type": "stream",
     "text": [
      "Minimum eigenvalue is:  -3.7038045773014024e-16\n",
      "________________________________________________________________________________\n",
      "RBM result for the observable: 0.081-0.036j ± 0.063 [σ²=2.005, R̂=0.9999]\n",
      "Exact result from ED:          (0.08141487086313604+9.298117831235686e-16j)\n",
      "...these results have a different sign. (High uncertainty is due to the imaginary part)\n",
      "________________________________________________________________________________\n"
     ]
    }
   ],
   "source": [
    "# --------------------------------------------------------------------------------------------------------\n",
    "# Run the optimization\n",
    "\n",
    "ma = nk.models.NDM(beta=1)\n",
    "sa = nk.sampler.MetropolisLocal(hilbert=lind.hilbert)\n",
    "optim = nk.optimizer.Sgd(learning_rate=0.04)\n",
    "\n",
    "rho = nk.variational.MCMixedState(sampler=sa, model=ma, n_samples=500, n_samples_diag=500)\n",
    "rho.init_parameters(nk.nn.initializers.normal(stddev=0.01))\n",
    "\n",
    "ss = nk.SteadyState(lindbladian=lind, optimizer=optim, variational_state=rho)\n",
    "\n",
    "ss.run(n_iter=300, out='results/testOp', obs={\"Sy\": obs_sy}) # converges in my simulations\n",
    "\n",
    "# import visualizer        # check convergence\n",
    "# vis = visualizer.Visualizer('results/testOp')\n",
    "# vis.plot_observable(\"LdagL\")\n",
    "# vis.plot_observable(\"Sy\")\n",
    "\n",
    "# --------------------------------------------------------------------------------------------------------\n",
    "# Compare the results for some observable\n",
    "\n",
    "# The observable operator to investigate\n",
    "obs = obs_sy\n",
    "\n",
    "# Calculate exact result\n",
    "rho_0 = nk.exact.steady_state(lind)\n",
    "\n",
    "print('_'*80)\n",
    "print(f'RBM result for the observable: {ss.estimate(obs)}')\n",
    "print(f'Exact result from ED:          {np.trace(rho_0@obs.to_dense())}')\n",
    "\n",
    "print('...these results have a different sign. (High uncertainty is due to the imaginary part)')\n",
    "print('_'*80)"
   ]
  },
  {
   "cell_type": "code",
   "execution_count": 3,
   "id": "deadly-bracket",
   "metadata": {},
   "outputs": [
    {
     "data": {
      "text/plain": [
       "array([[-2. ,  0. ,  0. ,  0. ,  0. ,  0. ,  0. ,  0. ,  0. ,  0. ,  0. ,\n",
       "         0. ,  0. ,  0. ,  0. ,  0. ],\n",
       "       [ 0. , -1.5,  0. ,  0. ,  0. ,  0. ,  0. ,  0. ,  0. ,  0. ,  0. ,\n",
       "         0. ,  0. ,  0. ,  0. ,  0. ],\n",
       "       [ 0. ,  0. , -1.5,  0. ,  0. ,  0. ,  0. ,  0. ,  0. ,  0. ,  0. ,\n",
       "         0. ,  0. ,  0. ,  0. ,  0. ],\n",
       "       [ 0. ,  0. ,  0. , -1. ,  0. ,  0. ,  0. ,  0. ,  0. ,  0. ,  0. ,\n",
       "         0. ,  0. ,  0. ,  0. ,  0. ],\n",
       "       [ 0. ,  0. ,  0. ,  0. , -1.5,  0. ,  0. ,  0. ,  0. ,  0. ,  0. ,\n",
       "         0. ,  0. ,  0. ,  0. ,  0. ],\n",
       "       [ 1. ,  0. ,  0. ,  0. ,  0. , -1. ,  0. ,  0. ,  0. ,  0. ,  0. ,\n",
       "         0. ,  0. ,  0. ,  0. ,  0. ],\n",
       "       [ 0. ,  0. ,  0. ,  0. ,  0. ,  0. , -1. ,  0. ,  0. ,  0. ,  0. ,\n",
       "         0. ,  0. ,  0. ,  0. ,  0. ],\n",
       "       [ 0. ,  0. ,  1. ,  0. ,  0. ,  0. ,  0. , -0.5,  0. ,  0. ,  0. ,\n",
       "         0. ,  0. ,  0. ,  0. ,  0. ],\n",
       "       [ 0. ,  0. ,  0. ,  0. ,  0. ,  0. ,  0. ,  0. , -1.5,  0. ,  0. ,\n",
       "         0. ,  0. ,  0. ,  0. ,  0. ],\n",
       "       [ 0. ,  0. ,  0. ,  0. ,  0. ,  0. ,  0. ,  0. ,  0. , -1. ,  0. ,\n",
       "         0. ,  0. ,  0. ,  0. ,  0. ],\n",
       "       [ 1. ,  0. ,  0. ,  0. ,  0. ,  0. ,  0. ,  0. ,  0. ,  0. , -1. ,\n",
       "         0. ,  0. ,  0. ,  0. ,  0. ],\n",
       "       [ 0. ,  1. ,  0. ,  0. ,  0. ,  0. ,  0. ,  0. ,  0. ,  0. ,  0. ,\n",
       "        -0.5,  0. ,  0. ,  0. ,  0. ],\n",
       "       [ 0. ,  0. ,  0. ,  0. ,  0. ,  0. ,  0. ,  0. ,  0. ,  0. ,  0. ,\n",
       "         0. , -1. ,  0. ,  0. ,  0. ],\n",
       "       [ 0. ,  0. ,  0. ,  0. ,  0. ,  0. ,  0. ,  0. ,  1. ,  0. ,  0. ,\n",
       "         0. ,  0. , -0.5,  0. ,  0. ],\n",
       "       [ 0. ,  0. ,  0. ,  0. ,  1. ,  0. ,  0. ,  0. ,  0. ,  0. ,  0. ,\n",
       "         0. ,  0. ,  0. , -0.5,  0. ],\n",
       "       [ 0. ,  0. ,  0. ,  0. ,  0. ,  1. ,  0. ,  0. ,  0. ,  0. ,  1. ,\n",
       "         0. ,  0. ,  0. ,  0. ,  0. ]])"
      ]
     },
     "execution_count": 3,
     "metadata": {},
     "output_type": "execute_result"
    }
   ],
   "source": [
    "lind.to_dense().real"
   ]
  },
  {
   "cell_type": "code",
   "execution_count": null,
   "id": "bottom-greeting",
   "metadata": {},
   "outputs": [],
   "source": []
  },
  {
   "cell_type": "code",
   "execution_count": 4,
   "id": "imperial-commercial",
   "metadata": {},
   "outputs": [],
   "source": [
    "\n",
    "\n",
    "\n",
    "# --------------------------------------------------------------------------------------------------------\n",
    "# Digging deeper into the code of netket... (DEBUG CODE)\n",
    "# 1.) I reproduce the code that calculates the expectation value and\n",
    "# 2.) replace the RBM result of the density matrix rho with the exact rho_0\n",
    "#\n",
    "# => the expectation value gives the exact result with a negative sign for asymmetric observables (e.g. S_y)\n",
    "\n",
    "def reproduceLocalValueCalculation(samples_u, operator, use_exact_rho=False):\n",
    "    # Reproduce local value calculation from _local_cost_functions.py::198:local_value_op_op_cost()\n",
    "\n",
    "    samples_uc, mels = operator.get_conn_padded(samples_u)\n",
    "\n",
    "    import jax\n",
    "    import jax.numpy as jnp\n",
    "\n",
    "    locs = []\n",
    "    for batch in range(samples_u.shape[0]):\n",
    "        # Manually handling batches\n",
    "        s = samples_u[batch]\n",
    "        s_ind = hi.states_to_numbers(s)\n",
    "        s_p = samples_uc[batch]\n",
    "        p_ind = hi.states_to_numbers(s_p)\n",
    "        mel = mels[batch]\n",
    "\n",
    "        # from local_value_op_op_cost\n",
    "        s_sp = jax.vmap(lambda samples, samples_p: jnp.hstack((samples, samples_p)), in_axes=(None, 0))(s, s_p)\n",
    "        s_s = jnp.hstack((s, s))\n",
    "\n",
    "        # Get the RBM values\n",
    "        log_s_sp = rho._apply_fun(rho.variables, s_sp)\n",
    "        log_s_s = rho._apply_fun(rho.variables, s_s)\n",
    "        # Or better: Use the exact rho values from ED instead of the function values\n",
    "        if use_exact_rho:\n",
    "            log_s_sp = np.log(rho_0[s_ind][p_ind])\n",
    "            log_s_s = np.log(rho_0[s_ind][s_ind])\n",
    "\n",
    "        # Calculate local value\n",
    "        locs.append(jnp.sum(mel * jnp.exp(log_s_sp - log_s_s)))\n",
    "\n",
    "    return locs"
   ]
  },
  {
   "cell_type": "code",
   "execution_count": 5,
   "id": "medieval-biology",
   "metadata": {},
   "outputs": [
    {
     "name": "stdout",
     "output_type": "stream",
     "text": [
      "Calculating expectation value \"manually\" ... takes a minute\n",
      "________________________________________________________________________________\n",
      "Reproduction of expectation value: (-0.08054180566665735-0.035762756557586484j)\n",
      "Netket expectation value:          (0.08054180566665728-0.0357627565575864j)\n",
      "check: the reproduction of the netket code works\n",
      "________________________________________________________________________________\n",
      "Reproduction of expectation value using rho_0: (-0.08141487086313602-8.743006318923108e-16j)\n",
      "Result from exact diagonalization rho_0      : (0.08141487086313604+9.298117831235686e-16j)\n",
      "...again, these results have a different sign\n",
      "________________________________________________________________________________\n",
      "finished\n"
     ]
    }
   ],
   "source": [
    "\n",
    "# MCMC samples that were generated by the sampler\n",
    "samples_r = np.asarray(rho.diagonal.samples.reshape((-1, rho.diagonal.samples.shape[-1])))\n",
    "\n",
    "print('Calculating expectation value \"manually\" ... takes a minute')\n",
    "locs_r = reproduceLocalValueCalculation(samples_r, obs)\n",
    "print('_'*80)\n",
    "print(f'Reproduction of expectation value: {np.mean(locs_r)}')\n",
    "print(f'Netket expectation value:          {ss.estimate(obs).mean}')\n",
    "\n",
    "print('check: the reproduction of the netket code works')\n",
    "\n",
    "# to remove MC noise, uniform distribution of states\n",
    "samples_uniform = hi.all_states()\n",
    "locs_u = reproduceLocalValueCalculation(samples_uniform, obs, use_exact_rho=True)\n",
    "# Correct the probability distribution of the uniform samples according to the diagonal of rho\n",
    "result_u = np.sum(np.array(locs_u) * rho_0.diagonal())\n",
    "\n",
    "print('_'*80)\n",
    "print(f'Reproduction of expectation value using rho_0: {result_u}')\n",
    "print(f'Result from exact diagonalization rho_0      : {np.trace(rho_0@obs.to_dense())}')\n",
    "print('...again, these results have a different sign')\n",
    "\n",
    "print('_'*80)\n",
    "print('finished')"
   ]
  }
 ],
 "metadata": {
  "kernelspec": {
   "display_name": "Python (Netket development)",
   "language": "python",
   "name": "dev-netket"
  },
  "language_info": {
   "codemirror_mode": {
    "name": "ipython",
    "version": 3
   },
   "file_extension": ".py",
   "mimetype": "text/x-python",
   "name": "python",
   "nbconvert_exporter": "python",
   "pygments_lexer": "ipython3",
   "version": "3.8.2"
  }
 },
 "nbformat": 4,
 "nbformat_minor": 5
}
