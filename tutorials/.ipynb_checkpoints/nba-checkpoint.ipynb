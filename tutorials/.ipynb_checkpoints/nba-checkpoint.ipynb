{
 "cells": [
  {
   "cell_type": "code",
   "execution_count": 323,
   "id": "genetic-toilet",
   "metadata": {},
   "outputs": [],
   "source": [
    "from numba.types import Literal, literal\n",
    "import numpy as np\n",
    "\n",
    "from numba import njit\n",
    "from numba.core import types\n",
    "from numba.experimental import structref\n",
    "\n",
    "from numba.tests.support import skip_unless_scipy\n",
    "\n",
    "import numpy as np\n",
    "\n",
    "from numba import njit\n",
    "from numba.core import types\n",
    "from numba.experimental import structref\n",
    "\n",
    "from numba.tests.support import skip_unless_scipy\n",
    "\n",
    "import functools\n",
    "from functools import partial\n"
   ]
  },
  {
   "cell_type": "code",
   "execution_count": 386,
   "id": "native-warning",
   "metadata": {},
   "outputs": [],
   "source": [
    "def nojit(fun):\n",
    "    fun._nojit = True\n",
    "    return fun"
   ]
  },
  {
   "cell_type": "code",
   "execution_count": 357,
   "id": "formal-scheme",
   "metadata": {},
   "outputs": [],
   "source": [
    "def extract_stuff(clz):\n",
    "    if hasattr(clz, \"__annotations__\"):\n",
    "        fields = clz.__annotations__\n",
    "    else:\n",
    "        fields = {}\n",
    "    fields_std_T = {}\n",
    "    fields_def_val = {}\n",
    "    fields_lit_T = {}\n",
    "    field_names = []\n",
    "    for name, typ in fields.items():\n",
    "        field_names.append(name)\n",
    "        if typ is Literal:\n",
    "            fields_lit_T[name] = typ\n",
    "        else:\n",
    "            fields_std_T[name] = typ\n",
    "\n",
    "        if name in clz.__dict__:\n",
    "            fields_def_val[name] = clz.__dict__[name]\n",
    "    \n",
    "    return field_names, fields_std_T, fields_def_val, fields_lit_T\n",
    "\n",
    "def compose__new__(field_names, fields_def_val):\n",
    "    # build __new__ method\n",
    "    def __new__(cls, *args, **kwargs):\n",
    "        print(\"New struct : \", cls, args, kwargs)\n",
    "\n",
    "        init_vals = []\n",
    "        for (i,name) in enumerate(field_names):\n",
    "            if name.startswith(\"_\"):\n",
    "                raise ValueError(\"Leading underscore in field names is not supported by Numba.\")\n",
    "                \n",
    "            if i < len(args):\n",
    "                init_vals.append(args[i])\n",
    "            else:\n",
    "                if name in kwargs:\n",
    "                    init_vals.append(kwargs[name])\n",
    "                elif name in fields_def_val:\n",
    "                    init_vals.append(fields_def_val[name])\n",
    "                else:\n",
    "                    raise ValueError(f\"undefined {name} in constructor\")\n",
    "\n",
    "        init_vals_tup = tuple(init_vals)\n",
    "        print(\"calling with tup:\", *init_vals_tup)\n",
    "        return structref.StructRefProxy.__new__(cls, *init_vals_tup)   \n",
    "    \n",
    "    return __new__\n",
    "\n",
    "def print_and_return(x, *args):\n",
    "    print(x, *args)\n",
    "    return x\n",
    "\n",
    "def _get_property_from_fun(fun, name, self):\n",
    "    print(f\"_get_property_from_fun({fun}, {name}, {self})\")\n",
    "    return fun(self)\n",
    "\n",
    "def build_property_from_fun(name, fun):\n",
    "    ff = partial(_get_property_from_fun, fun, name)\n",
    "    return property(ff)\n",
    "\n",
    "def compose_properties(clz, field_names):\n",
    "    # the property accessors\n",
    "    attributes_prop = {}\n",
    "    for name, prop in clz.__dict__.items():\n",
    "        print(f\"inspect {name}\")\n",
    "        if isinstance(prop, property):\n",
    "            print(f\"  - it's a property\")\n",
    "            if name in field_names:\n",
    "                raise ValueError(f\"alredy defined {name} asa property\")\n",
    "            if prop.fget is None:  \n",
    "                raise ValueError(f\"no getter for {name}\")\n",
    "\n",
    "            get_fun_njit = njit(prop.fget)\n",
    "\n",
    "            clz_prop = build_property_from_fun(name, get_fun_njit)\n",
    "\n",
    "            if prop.fset is not None:\n",
    "                set_fun_njit = njit(prop.fset)\n",
    "\n",
    "                set_fun_clz = lambda self, val: set_fun_njit(self, val)\n",
    "                clz_prop.setter(set_fun_clz)\n",
    "\n",
    "            print(f\"creating method for {name}\")\n",
    "            print(\"addressp:\", clz_prop)\n",
    "            attributes_prop[name] = clz_prop\n",
    "        elif name in field_names:\n",
    "            print(f\"  - it's an attribute\")\n",
    "            source = f\"\"\"\n",
    "def get_{name}(self):\n",
    "    print('get_{name}')\n",
    "    return self.{name}\n",
    "\"\"\"\n",
    "            print(f\"creating method for {name} using source:\\n{source}\")\n",
    "            _tmp = {}\n",
    "            exec(source, _tmp)\n",
    "            get_fun_njit_ = njit(_tmp[f\"get_{name}\"])\n",
    "            clz_prop_ = build_property_from_fun(name, get_fun_njit_)\n",
    "            print(\"addressp:\", clz_prop_)\n",
    "\n",
    "            attributes_prop[name] = clz_prop_\n",
    "        else:\n",
    "            print(f\"  - skipping\")\n",
    "\n",
    "    return attributes_prop"
   ]
  },
  {
   "cell_type": "code",
   "execution_count": 358,
   "id": "rocky-storage",
   "metadata": {},
   "outputs": [],
   "source": [
    "def _process_fields(self, fields):\n",
    "    # This method is called by the type constructor for additional\n",
    "    # preprocessing on the fields.\n",
    "    # Here, we don't want the struct to take Literal types.\n",
    "    print(\"preprocess_fields : \", fields)\n",
    "    res = tuple((name, types.unliteral(typ)) for name, typ in fields)\n",
    "    print(\"  giving \", res)\n",
    "    return res\n",
    "\n",
    "nm = \"_numba_pickle2_\"\n",
    "\n",
    "import imp\n",
    "module = imp.new_module(nm)\n",
    "import sys\n",
    "sys.modules[nm] = module\n",
    "\n",
    "\n",
    "def numba4class(clz):\n",
    "    field_names, fields_std_T, fields_def_val, fields_lit_T = extract_stuff(clz)\n",
    "    clz_dict = {}\n",
    "    clz_dict['__new__'] = compose__new__(field_names, fields_def_val)\n",
    "    props = compose_properties(clz, field_names)\n",
    "    for name, prop in props.items():\n",
    "        print(name, prop)\n",
    "        clz_dict[name] = prop\n",
    "\n",
    "    new_clz = type(clz.__name__, (structref.StructRefProxy, ), clz_dict)\n",
    "    tname = clz.__name__+\"Type\"\n",
    "    structType = structref.register(type(tname, (types.StructRef,), {'__module__':nm, \"preprocess_fields\":_process_fields}))\n",
    "    module.__dict__[tname] = structType\n",
    "    \n",
    "    structref.define_proxy(new_clz, structType, field_names)\n",
    "    return new_clz\n"
   ]
  },
  {
   "cell_type": "code",
   "execution_count": 359,
   "id": "convenient-celebrity",
   "metadata": {},
   "outputs": [
    {
     "data": {
      "text/plain": [
       "<function __main__.compose_properties.<locals>.<lambda>(self)>"
      ]
     },
     "execution_count": 359,
     "metadata": {},
     "output_type": "execute_result"
    }
   ],
   "source": [
    "clz_dict['Na'].fget"
   ]
  },
  {
   "cell_type": "code",
   "execution_count": null,
   "id": "heavy-citation",
   "metadata": {},
   "outputs": [],
   "source": []
  },
  {
   "cell_type": "code",
   "execution_count": null,
   "id": "removable-objective",
   "metadata": {},
   "outputs": [],
   "source": []
  },
  {
   "cell_type": "code",
   "execution_count": null,
   "id": "alleged-trouble",
   "metadata": {},
   "outputs": [],
   "source": []
  },
  {
   "cell_type": "code",
   "execution_count": 387,
   "id": "brutal-optics",
   "metadata": {},
   "outputs": [
    {
     "name": "stdout",
     "output_type": "stream",
     "text": [
      "inspect __module__\n",
      "  - skipping\n",
      "inspect __annotations__\n",
      "  - skipping\n",
      "inspect Ni\n",
      "  - it's an attribute\n",
      "creating method for Ni using source:\n",
      "\n",
      "def get_Ni(self):\n",
      "    print('get_Ni')\n",
      "    return self.Ni\n",
      "\n",
      "addressp: <property object at 0x1310650e0>\n",
      "inspect Ne\n",
      "  - it's an attribute\n",
      "creating method for Ne using source:\n",
      "\n",
      "def get_Ne(self):\n",
      "    print('get_Ne')\n",
      "    return self.Ne\n",
      "\n",
      "addressp: <property object at 0x131c221d0>\n",
      "inspect Na\n",
      "  - it's a property\n",
      "creating method for Na\n",
      "addressp: <property object at 0x131c22540>\n",
      "inspect Nu\n",
      "  - it's a property\n",
      "creating method for Nu\n",
      "addressp: <property object at 0x131c22860>\n",
      "inspect __dict__\n",
      "  - skipping\n",
      "inspect __weakref__\n",
      "  - skipping\n",
      "inspect __doc__\n",
      "  - skipping\n",
      "Ni <property object at 0x1310650e0>\n",
      "Ne <property object at 0x131c221d0>\n",
      "Na <property object at 0x131c22540>\n",
      "Nu <property object at 0x131c22860>\n",
      "New struct :  <class '__main__.Ising9'> (2,) {}\n",
      "calling with tup: 2 7\n",
      "preprocess_fields :  (('Ni', int64), ('Ne', int64))\n",
      "  giving  (('Ni', int64), ('Ne', int64))\n",
      "<__main__.Ising9 object at 0x131cbdc40>\n",
      "_get_property_from_fun(CPUDispatcher(<function get_Ni at 0x131c4c820>), Ni, <__main__.Ising9 object at 0x131cbdc40>)\n",
      "get_Ni\n",
      "2\n",
      "_get_property_from_fun(CPUDispatcher(<function get_Ne at 0x131cad0d0>), Ne, <__main__.Ising9 object at 0x131cbdc40>)\n",
      "get_Ne\n",
      "7\n",
      "_get_property_from_fun(CPUDispatcher(<function Ising9.Na at 0x1315e3ee0>), Na, <__main__.Ising9 object at 0x131cbdc40>)\n",
      "6\n",
      "_get_property_from_fun(CPUDispatcher(<function Ising9.Nu at 0x1315acee0>), Nu, <__main__.Ising9 object at 0x131cbdc40>)\n"
     ]
    },
    {
     "ename": "TypingError",
     "evalue": "Failed in nopython mode pipeline (step: nopython frontend)\n\u001b[1m\u001b[1mUnknown attribute 'Na' of type numba.Ising9Type(('Ni', int64), ('Ne', int64))\n\u001b[1m\nFile \"<ipython-input-387-bee456051b21>\", line 12:\u001b[0m\n\u001b[1m    def Nu(self):\n\u001b[1m        return self.Na * 10\n\u001b[0m        \u001b[1m^\u001b[0m\u001b[0m\n\u001b[0m\n\u001b[0m\u001b[1mDuring: typing of get attribute at <ipython-input-387-bee456051b21> (12)\u001b[0m\n\u001b[1m\nFile \"<ipython-input-387-bee456051b21>\", line 12:\u001b[0m\n\u001b[1m    def Nu(self):\n\u001b[1m        return self.Na * 10\n\u001b[0m        \u001b[1m^\u001b[0m\u001b[0m\n",
     "output_type": "error",
     "traceback": [
      "\u001b[0;31m---------------------------------------------------------------------------\u001b[0m",
      "\u001b[0;31mTypingError\u001b[0m                               Traceback (most recent call last)",
      "\u001b[0;32m<ipython-input-387-bee456051b21>\u001b[0m in \u001b[0;36m<module>\u001b[0;34m\u001b[0m\n\u001b[1;32m     19\u001b[0m \u001b[0mprint\u001b[0m\u001b[0;34m(\u001b[0m\u001b[0mi\u001b[0m\u001b[0;34m.\u001b[0m\u001b[0mNe\u001b[0m\u001b[0;34m)\u001b[0m\u001b[0;34m\u001b[0m\u001b[0;34m\u001b[0m\u001b[0m\n\u001b[1;32m     20\u001b[0m \u001b[0mprint\u001b[0m\u001b[0;34m(\u001b[0m\u001b[0mi\u001b[0m\u001b[0;34m.\u001b[0m\u001b[0mNa\u001b[0m\u001b[0;34m)\u001b[0m\u001b[0;34m\u001b[0m\u001b[0;34m\u001b[0m\u001b[0m\n\u001b[0;32m---> 21\u001b[0;31m \u001b[0mprint\u001b[0m\u001b[0;34m(\u001b[0m\u001b[0mi\u001b[0m\u001b[0;34m.\u001b[0m\u001b[0mNu\u001b[0m\u001b[0;34m)\u001b[0m\u001b[0;34m\u001b[0m\u001b[0;34m\u001b[0m\u001b[0m\n\u001b[0m",
      "\u001b[0;32m<ipython-input-357-2763f91d7e5a>\u001b[0m in \u001b[0;36m_get_property_from_fun\u001b[0;34m(fun, name, self)\u001b[0m\n\u001b[1;32m     52\u001b[0m \u001b[0;32mdef\u001b[0m \u001b[0m_get_property_from_fun\u001b[0m\u001b[0;34m(\u001b[0m\u001b[0mfun\u001b[0m\u001b[0;34m,\u001b[0m \u001b[0mname\u001b[0m\u001b[0;34m,\u001b[0m \u001b[0mself\u001b[0m\u001b[0;34m)\u001b[0m\u001b[0;34m:\u001b[0m\u001b[0;34m\u001b[0m\u001b[0;34m\u001b[0m\u001b[0m\n\u001b[1;32m     53\u001b[0m     \u001b[0mprint\u001b[0m\u001b[0;34m(\u001b[0m\u001b[0;34mf\"_get_property_from_fun({fun}, {name}, {self})\"\u001b[0m\u001b[0;34m)\u001b[0m\u001b[0;34m\u001b[0m\u001b[0;34m\u001b[0m\u001b[0m\n\u001b[0;32m---> 54\u001b[0;31m     \u001b[0;32mreturn\u001b[0m \u001b[0mfun\u001b[0m\u001b[0;34m(\u001b[0m\u001b[0mself\u001b[0m\u001b[0;34m)\u001b[0m\u001b[0;34m\u001b[0m\u001b[0;34m\u001b[0m\u001b[0m\n\u001b[0m\u001b[1;32m     55\u001b[0m \u001b[0;34m\u001b[0m\u001b[0m\n\u001b[1;32m     56\u001b[0m \u001b[0;32mdef\u001b[0m \u001b[0mbuild_property_from_fun\u001b[0m\u001b[0;34m(\u001b[0m\u001b[0mname\u001b[0m\u001b[0;34m,\u001b[0m \u001b[0mfun\u001b[0m\u001b[0;34m)\u001b[0m\u001b[0;34m:\u001b[0m\u001b[0;34m\u001b[0m\u001b[0;34m\u001b[0m\u001b[0m\n",
      "\u001b[0;32m~/Documents/pythonenvs/netket_env/lib/python3.8/site-packages/numba/core/dispatcher.py\u001b[0m in \u001b[0;36m_compile_for_args\u001b[0;34m(self, *args, **kws)\u001b[0m\n\u001b[1;32m    418\u001b[0m                 \u001b[0me\u001b[0m\u001b[0;34m.\u001b[0m\u001b[0mpatch_message\u001b[0m\u001b[0;34m(\u001b[0m\u001b[0mmsg\u001b[0m\u001b[0;34m)\u001b[0m\u001b[0;34m\u001b[0m\u001b[0;34m\u001b[0m\u001b[0m\n\u001b[1;32m    419\u001b[0m \u001b[0;34m\u001b[0m\u001b[0m\n\u001b[0;32m--> 420\u001b[0;31m             \u001b[0merror_rewrite\u001b[0m\u001b[0;34m(\u001b[0m\u001b[0me\u001b[0m\u001b[0;34m,\u001b[0m \u001b[0;34m'typing'\u001b[0m\u001b[0;34m)\u001b[0m\u001b[0;34m\u001b[0m\u001b[0;34m\u001b[0m\u001b[0m\n\u001b[0m\u001b[1;32m    421\u001b[0m         \u001b[0;32mexcept\u001b[0m \u001b[0merrors\u001b[0m\u001b[0;34m.\u001b[0m\u001b[0mUnsupportedError\u001b[0m \u001b[0;32mas\u001b[0m \u001b[0me\u001b[0m\u001b[0;34m:\u001b[0m\u001b[0;34m\u001b[0m\u001b[0;34m\u001b[0m\u001b[0m\n\u001b[1;32m    422\u001b[0m             \u001b[0;31m# Something unsupported is present in the user code, add help info\u001b[0m\u001b[0;34m\u001b[0m\u001b[0;34m\u001b[0m\u001b[0;34m\u001b[0m\u001b[0m\n",
      "\u001b[0;32m~/Documents/pythonenvs/netket_env/lib/python3.8/site-packages/numba/core/dispatcher.py\u001b[0m in \u001b[0;36merror_rewrite\u001b[0;34m(e, issue_type)\u001b[0m\n\u001b[1;32m    359\u001b[0m                 \u001b[0;32mraise\u001b[0m \u001b[0me\u001b[0m\u001b[0;34m\u001b[0m\u001b[0;34m\u001b[0m\u001b[0m\n\u001b[1;32m    360\u001b[0m             \u001b[0;32melse\u001b[0m\u001b[0;34m:\u001b[0m\u001b[0;34m\u001b[0m\u001b[0;34m\u001b[0m\u001b[0m\n\u001b[0;32m--> 361\u001b[0;31m                 \u001b[0;32mraise\u001b[0m \u001b[0me\u001b[0m\u001b[0;34m.\u001b[0m\u001b[0mwith_traceback\u001b[0m\u001b[0;34m(\u001b[0m\u001b[0;32mNone\u001b[0m\u001b[0;34m)\u001b[0m\u001b[0;34m\u001b[0m\u001b[0;34m\u001b[0m\u001b[0m\n\u001b[0m\u001b[1;32m    362\u001b[0m \u001b[0;34m\u001b[0m\u001b[0m\n\u001b[1;32m    363\u001b[0m         \u001b[0margtypes\u001b[0m \u001b[0;34m=\u001b[0m \u001b[0;34m[\u001b[0m\u001b[0;34m]\u001b[0m\u001b[0;34m\u001b[0m\u001b[0;34m\u001b[0m\u001b[0m\n",
      "\u001b[0;31mTypingError\u001b[0m: Failed in nopython mode pipeline (step: nopython frontend)\n\u001b[1m\u001b[1mUnknown attribute 'Na' of type numba.Ising9Type(('Ni', int64), ('Ne', int64))\n\u001b[1m\nFile \"<ipython-input-387-bee456051b21>\", line 12:\u001b[0m\n\u001b[1m    def Nu(self):\n\u001b[1m        return self.Na * 10\n\u001b[0m        \u001b[1m^\u001b[0m\u001b[0m\n\u001b[0m\n\u001b[0m\u001b[1mDuring: typing of get attribute at <ipython-input-387-bee456051b21> (12)\u001b[0m\n\u001b[1m\nFile \"<ipython-input-387-bee456051b21>\", line 12:\u001b[0m\n\u001b[1m    def Nu(self):\n\u001b[1m        return self.Na * 10\n\u001b[0m        \u001b[1m^\u001b[0m\u001b[0m\n"
     ]
    }
   ],
   "source": [
    "@numba4class\n",
    "class Ising9:\n",
    "    Ni : int = 4\n",
    "    Ne : int = 7\n",
    "\n",
    "    @property \n",
    "    def Na(self):\n",
    "        return self.Ni * 3\n",
    "    \n",
    "    @property\n",
    "    def Nu(self):\n",
    "        return self.Na * 10\n",
    "\n",
    "clz = Ising9\n",
    "i = clz(2)\n",
    "print(i)\n",
    "\n",
    "print(i.Ni)\n",
    "print(i.Ne)\n",
    "print(i.Na)\n",
    "print(i.Nu)"
   ]
  },
  {
   "cell_type": "code",
   "execution_count": 341,
   "id": "convinced-consultancy",
   "metadata": {},
   "outputs": [
    {
     "ename": "TypeError",
     "evalue": "<lambda>() missing 1 required positional argument: 'self'",
     "output_type": "error",
     "traceback": [
      "\u001b[0;31m---------------------------------------------------------------------------\u001b[0m",
      "\u001b[0;31mTypeError\u001b[0m                                 Traceback (most recent call last)",
      "\u001b[0;32m<ipython-input-341-2f6337cc865f>\u001b[0m in \u001b[0;36m<module>\u001b[0;34m\u001b[0m\n\u001b[0;32m----> 1\u001b[0;31m \u001b[0mclz\u001b[0m\u001b[0;34m.\u001b[0m\u001b[0m__dict__\u001b[0m\u001b[0;34m[\u001b[0m\u001b[0;34m'Na'\u001b[0m\u001b[0;34m]\u001b[0m\u001b[0;34m.\u001b[0m\u001b[0mfget\u001b[0m\u001b[0;34m(\u001b[0m\u001b[0;34m)\u001b[0m\u001b[0;34m\u001b[0m\u001b[0;34m\u001b[0m\u001b[0m\n\u001b[0m",
      "\u001b[0;31mTypeError\u001b[0m: <lambda>() missing 1 required positional argument: 'self'"
     ]
    }
   ],
   "source": [
    "clz.__dict__['Na'].fget()"
   ]
  },
  {
   "cell_type": "code",
   "execution_count": 111,
   "id": "devoted-middle",
   "metadata": {},
   "outputs": [
    {
     "name": "stdout",
     "output_type": "stream",
     "text": [
      "New struct :  <class '__main__.Ising5'> (3,) {}\n",
      "calling with tup: 3\n"
     ]
    },
    {
     "ename": "TypeError",
     "evalue": "The decorated object is not a function (got type <class '__main__.Ising5'>).",
     "output_type": "error",
     "traceback": [
      "\u001b[0;31m---------------------------------------------------------------------------\u001b[0m",
      "\u001b[0;31mTypeError\u001b[0m                                 Traceback (most recent call last)",
      "\u001b[0;32m<ipython-input-111-10df2873746d>\u001b[0m in \u001b[0;36m<module>\u001b[0;34m\u001b[0m\n\u001b[1;32m      1\u001b[0m \u001b[0ma\u001b[0m \u001b[0;34m=\u001b[0m \u001b[0mIsing5\u001b[0m\u001b[0;34m(\u001b[0m\u001b[0;36m3\u001b[0m\u001b[0;34m)\u001b[0m\u001b[0;34m\u001b[0m\u001b[0;34m\u001b[0m\u001b[0m\n\u001b[0;32m----> 2\u001b[0;31m \u001b[0mprint\u001b[0m\u001b[0;34m(\u001b[0m\u001b[0ma\u001b[0m\u001b[0;34m.\u001b[0m\u001b[0mNi\u001b[0m\u001b[0;34m)\u001b[0m\u001b[0;34m\u001b[0m\u001b[0;34m\u001b[0m\u001b[0m\n\u001b[0m\u001b[1;32m      3\u001b[0m \u001b[0;31m#print(a.Na)\u001b[0m\u001b[0;34m\u001b[0m\u001b[0;34m\u001b[0m\u001b[0;34m\u001b[0m\u001b[0m\n\u001b[1;32m      4\u001b[0m \u001b[0;34m@\u001b[0m\u001b[0mnjit\u001b[0m\u001b[0;34m\u001b[0m\u001b[0;34m\u001b[0m\u001b[0m\n\u001b[1;32m      5\u001b[0m \u001b[0;32mdef\u001b[0m \u001b[0mprova\u001b[0m\u001b[0;34m(\u001b[0m\u001b[0mk\u001b[0m\u001b[0;34m)\u001b[0m\u001b[0;34m:\u001b[0m\u001b[0;34m\u001b[0m\u001b[0;34m\u001b[0m\u001b[0m\n",
      "\u001b[0;32m<ipython-input-99-f870781bc6d6>\u001b[0m in \u001b[0;36m<lambda>\u001b[0;34m(self)\u001b[0m\n\u001b[1;32m     75\u001b[0m             \u001b[0mprint\u001b[0m\u001b[0;34m(\u001b[0m\u001b[0;34mf\"creating method for {name} using source:\\n{source}\"\u001b[0m\u001b[0;34m)\u001b[0m\u001b[0;34m\u001b[0m\u001b[0;34m\u001b[0m\u001b[0m\n\u001b[1;32m     76\u001b[0m             \u001b[0mget_fun_njit\u001b[0m \u001b[0;34m=\u001b[0m \u001b[0mnjit\u001b[0m\u001b[0;34m(\u001b[0m\u001b[0mexec\u001b[0m\u001b[0;34m(\u001b[0m\u001b[0msource\u001b[0m\u001b[0;34m)\u001b[0m\u001b[0;34m)\u001b[0m\u001b[0;34m\u001b[0m\u001b[0;34m\u001b[0m\u001b[0m\n\u001b[0;32m---> 77\u001b[0;31m             \u001b[0mget_fun_clz\u001b[0m \u001b[0;34m=\u001b[0m \u001b[0;32mlambda\u001b[0m \u001b[0mself\u001b[0m\u001b[0;34m:\u001b[0m \u001b[0mget_fun_njit\u001b[0m\u001b[0;34m(\u001b[0m\u001b[0mself\u001b[0m\u001b[0;34m)\u001b[0m\u001b[0;34m\u001b[0m\u001b[0;34m\u001b[0m\u001b[0m\n\u001b[0m\u001b[1;32m     78\u001b[0m             \u001b[0mclz_prop\u001b[0m \u001b[0;34m=\u001b[0m \u001b[0mproperty\u001b[0m\u001b[0;34m(\u001b[0m\u001b[0mget_fun_clz\u001b[0m\u001b[0;34m)\u001b[0m\u001b[0;34m\u001b[0m\u001b[0;34m\u001b[0m\u001b[0m\n\u001b[1;32m     79\u001b[0m \u001b[0;34m\u001b[0m\u001b[0m\n",
      "\u001b[0;32m~/Documents/pythonenvs/netket_env/lib/python3.8/site-packages/numba/core/decorators.py\u001b[0m in \u001b[0;36mwrapper\u001b[0;34m(func)\u001b[0m\n\u001b[1;32m    198\u001b[0m \u001b[0;34m\u001b[0m\u001b[0m\n\u001b[1;32m    199\u001b[0m         \u001b[0;32mif\u001b[0m \u001b[0;32mnot\u001b[0m \u001b[0minspect\u001b[0m\u001b[0;34m.\u001b[0m\u001b[0misfunction\u001b[0m\u001b[0;34m(\u001b[0m\u001b[0mfunc\u001b[0m\u001b[0;34m)\u001b[0m\u001b[0;34m:\u001b[0m\u001b[0;34m\u001b[0m\u001b[0;34m\u001b[0m\u001b[0m\n\u001b[0;32m--> 200\u001b[0;31m             raise TypeError(\n\u001b[0m\u001b[1;32m    201\u001b[0m                 \u001b[0;34m\"The decorated object is not a function (got type \"\u001b[0m\u001b[0;34m\u001b[0m\u001b[0;34m\u001b[0m\u001b[0m\n\u001b[1;32m    202\u001b[0m                 \u001b[0;34mf\"{type(func)}).\"\u001b[0m\u001b[0;34m\u001b[0m\u001b[0;34m\u001b[0m\u001b[0m\n",
      "\u001b[0;31mTypeError\u001b[0m: The decorated object is not a function (got type <class '__main__.Ising5'>)."
     ]
    }
   ],
   "source": [
    "a = Ising5(3)\n",
    "print(a.Ni)\n",
    "#print(a.Na)\n",
    "@njit\n",
    "def prova(k):\n",
    "    return k.Ni\n",
    "prova(a)"
   ]
  },
  {
   "cell_type": "code",
   "execution_count": 52,
   "id": "geographic-interstate",
   "metadata": {},
   "outputs": [
    {
     "data": {
      "text/plain": [
       "mappingproxy({'__new__': <staticmethod at 0x12fbf1f10>,\n",
       "              'Na': <property at 0x12fc0de00>,\n",
       "              '__module__': '__main__',\n",
       "              '__dict__': <attribute '__dict__' of 'Ising3' objects>,\n",
       "              '__weakref__': <attribute '__weakref__' of 'Ising3' objects>,\n",
       "              '__doc__': None,\n",
       "              '_StructRefProxy__numba_ctor': CPUDispatcher(<function StructRefProxy.__new__.<locals>.ctor at 0x12fb394c0>)})"
      ]
     },
     "execution_count": 52,
     "metadata": {},
     "output_type": "execute_result"
    }
   ],
   "source": [
    "Ising3.__dict__"
   ]
  },
  {
   "cell_type": "code",
   "execution_count": 58,
   "id": "false-deposit",
   "metadata": {},
   "outputs": [
    {
     "name": "stdout",
     "output_type": "stream",
     "text": [
      "['N']\n",
      "New struct :  <class '__main__.Ising'> (3,) {}\n",
      "calling with tup: 3\n",
      "preprocess_fields :  (('N', int64),)\n",
      "  giving  (('N', int64),)\n"
     ]
    },
    {
     "data": {
      "text/plain": [
       "<__main__.Ising at 0x138d2da40>"
      ]
     },
     "execution_count": 58,
     "metadata": {},
     "output_type": "execute_result"
    }
   ],
   "source": [
    "@numba4class_e\n",
    "class Ising:\n",
    "    N : int\n",
    "\n",
    "class IsType0(types.StructRef):\n",
    "    def preprocess_fields(self, fields):\n",
    "        return _process_fields(self, fields)\n",
    "    \n",
    "@structref.register\n",
    "class IsType3(types.StructRef):\n",
    "    def preprocess_fields(self, fields):\n",
    "        return _process_fields(self, fields)\n",
    "\n",
    "\n",
    "structref.define_proxy(Ising, IsType3, [\"N\"])\n",
    "\n",
    "Ising(3)"
   ]
  },
  {
   "cell_type": "code",
   "execution_count": 71,
   "id": "comic-emission",
   "metadata": {},
   "outputs": [
    {
     "data": {
      "text/plain": [
       "mappingproxy({'__module__': '__main__',\n",
       "              'preprocess_fields': <function __main__._process_fields(self, fields)>,\n",
       "              '__doc__': None,\n",
       "              '__abstractmethods__': frozenset(),\n",
       "              '_abc_impl': <_abc_data at 0x137cdf900>,\n",
       "              '_is_internal': False})"
      ]
     },
     "execution_count": 71,
     "metadata": {},
     "output_type": "execute_result"
    }
   ],
   "source": [
    "structType = structref.register(type(\"PType\", (types.StructRef,), {\"__module__\":'__main__', \"preprocess_fields\":_process_fields}))\n",
    "structType.__dict__"
   ]
  },
  {
   "cell_type": "code",
   "execution_count": 69,
   "id": "reported-album",
   "metadata": {},
   "outputs": [],
   "source": [
    "@structref.register\n",
    "class IsType3(types.StructRef):\n",
    "    def preprocess_fields(self, fields):\n",
    "        return _process_fields(self, fields)"
   ]
  },
  {
   "cell_type": "code",
   "execution_count": 70,
   "id": "improving-harmony",
   "metadata": {},
   "outputs": [
    {
     "data": {
      "text/plain": [
       "mappingproxy({'__module__': '__main__',\n",
       "              'preprocess_fields': <function __main__.IsType3.preprocess_fields(self, fields)>,\n",
       "              '__doc__': None,\n",
       "              '__abstractmethods__': frozenset(),\n",
       "              '_abc_impl': <_abc_data at 0x137bf9a20>,\n",
       "              '_is_internal': False})"
      ]
     },
     "execution_count": 70,
     "metadata": {},
     "output_type": "execute_result"
    }
   ],
   "source": [
    "IsType3.__dict__"
   ]
  },
  {
   "cell_type": "code",
   "execution_count": 142,
   "id": "final-coverage",
   "metadata": {},
   "outputs": [
    {
     "name": "stdout",
     "output_type": "stream",
     "text": [
      "MyStruct new :  Alice [0.5909887  0.62296733 0.85573174] 3.0\n"
     ]
    }
   ],
   "source": [
    "alice = MyStruct(\"Alice\", vector=np.random.random(3), number=3.0)"
   ]
  },
  {
   "cell_type": "code",
   "execution_count": 143,
   "id": "spoken-rolling",
   "metadata": {},
   "outputs": [
    {
     "data": {
      "text/plain": [
       "mappingproxy({'__module__': '__main__',\n",
       "              '__new__': <staticmethod at 0x1374661f0>,\n",
       "              'name': <property at 0x13746cf40>,\n",
       "              'vector': <property at 0x137473130>,\n",
       "              '__str__': <function __main__.MyStruct.__str__(self)>,\n",
       "              '__repr__': <function __main__.MyStruct.__repr__(self)>,\n",
       "              '__dict__': <attribute '__dict__' of 'MyStruct' objects>,\n",
       "              '__weakref__': <attribute '__weakref__' of 'MyStruct' objects>,\n",
       "              '__doc__': None,\n",
       "              '_StructRefProxy__numba_ctor': CPUDispatcher(<function StructRefProxy.__new__.<locals>.ctor at 0x137656430>)})"
      ]
     },
     "execution_count": 143,
     "metadata": {},
     "output_type": "execute_result"
    }
   ],
   "source": [
    "MyStruct.__dict__"
   ]
  },
  {
   "cell_type": "code",
   "execution_count": 21,
   "id": "incorporated-interaction",
   "metadata": {},
   "outputs": [
    {
     "name": "stdout",
     "output_type": "stream",
     "text": [
      "preprocess_fields :  (('N', int64),)\n",
      "  giving  (('N', int64),)\n"
     ]
    },
    {
     "ename": "AttributeError",
     "evalue": "Failed in nopython mode pipeline (step: nopython mode backend)\nCan't pickle local object 'numba4class.<locals>._MyStructType'",
     "output_type": "error",
     "traceback": [
      "\u001b[0;31m---------------------------------------------------------------------------\u001b[0m",
      "\u001b[0;31mKeyError\u001b[0m                                  Traceback (most recent call last)",
      "\u001b[0;32m~/Documents/pythonenvs/netket_env/lib/python3.8/site-packages/numba/core/pythonapi.py\u001b[0m in \u001b[0;36mserialize_object\u001b[0;34m(self, obj)\u001b[0m\n\u001b[1;32m   1368\u001b[0m         \u001b[0;32mtry\u001b[0m\u001b[0;34m:\u001b[0m\u001b[0;34m\u001b[0m\u001b[0;34m\u001b[0m\u001b[0m\n\u001b[0;32m-> 1369\u001b[0;31m             \u001b[0mgv\u001b[0m \u001b[0;34m=\u001b[0m \u001b[0mself\u001b[0m\u001b[0;34m.\u001b[0m\u001b[0mmodule\u001b[0m\u001b[0;34m.\u001b[0m\u001b[0m__serialized\u001b[0m\u001b[0;34m[\u001b[0m\u001b[0mobj\u001b[0m\u001b[0;34m]\u001b[0m\u001b[0;34m\u001b[0m\u001b[0;34m\u001b[0m\u001b[0m\n\u001b[0m\u001b[1;32m   1370\u001b[0m         \u001b[0;32mexcept\u001b[0m \u001b[0mKeyError\u001b[0m\u001b[0;34m:\u001b[0m\u001b[0;34m\u001b[0m\u001b[0;34m\u001b[0m\u001b[0m\n",
      "\u001b[0;31mKeyError\u001b[0m: numba.numba4class.<locals>._MyStructType(('N', int64),)",
      "\nDuring handling of the above exception, another exception occurred:\n",
      "\u001b[0;31mAttributeError\u001b[0m                            Traceback (most recent call last)",
      "\u001b[0;32m<ipython-input-21-96ec0f701dc4>\u001b[0m in \u001b[0;36m<module>\u001b[0;34m\u001b[0m\n\u001b[0;32m----> 1\u001b[0;31m \u001b[0ma\u001b[0m\u001b[0;34m=\u001b[0m\u001b[0mstructref\u001b[0m\u001b[0;34m.\u001b[0m\u001b[0mStructRefProxy\u001b[0m\u001b[0;34m.\u001b[0m\u001b[0m__new__\u001b[0m\u001b[0;34m(\u001b[0m\u001b[0mIsing\u001b[0m\u001b[0;34m,\u001b[0m \u001b[0;36m1\u001b[0m\u001b[0;34m)\u001b[0m\u001b[0;34m\u001b[0m\u001b[0;34m\u001b[0m\u001b[0m\n\u001b[0m\u001b[1;32m      2\u001b[0m \u001b[0ma\u001b[0m\u001b[0;34m\u001b[0m\u001b[0;34m\u001b[0m\u001b[0m\n",
      "\u001b[0;32m~/Documents/pythonenvs/netket_env/lib/python3.8/site-packages/numba/experimental/structref.py\u001b[0m in \u001b[0;36m__new__\u001b[0;34m(cls, *args)\u001b[0m\n\u001b[1;32m    374\u001b[0m             \u001b[0;31m# cache it to attribute to avoid recompilation\u001b[0m\u001b[0;34m\u001b[0m\u001b[0;34m\u001b[0m\u001b[0;34m\u001b[0m\u001b[0m\n\u001b[1;32m    375\u001b[0m             \u001b[0mcls\u001b[0m\u001b[0;34m.\u001b[0m\u001b[0m__numba_ctor\u001b[0m \u001b[0;34m=\u001b[0m \u001b[0mctor\u001b[0m\u001b[0;34m\u001b[0m\u001b[0;34m\u001b[0m\u001b[0m\n\u001b[0;32m--> 376\u001b[0;31m         \u001b[0;32mreturn\u001b[0m \u001b[0mctor\u001b[0m\u001b[0;34m(\u001b[0m\u001b[0;34m*\u001b[0m\u001b[0margs\u001b[0m\u001b[0;34m)\u001b[0m\u001b[0;34m\u001b[0m\u001b[0;34m\u001b[0m\u001b[0m\n\u001b[0m\u001b[1;32m    377\u001b[0m \u001b[0;34m\u001b[0m\u001b[0m\n\u001b[1;32m    378\u001b[0m     \u001b[0;34m@\u001b[0m\u001b[0mproperty\u001b[0m\u001b[0;34m\u001b[0m\u001b[0;34m\u001b[0m\u001b[0m\n",
      "\u001b[0;32m~/Documents/pythonenvs/netket_env/lib/python3.8/site-packages/numba/core/dispatcher.py\u001b[0m in \u001b[0;36m_compile_for_args\u001b[0;34m(self, *args, **kws)\u001b[0m\n\u001b[1;32m    437\u001b[0m                     \u001b[0me\u001b[0m\u001b[0;34m.\u001b[0m\u001b[0mpatch_message\u001b[0m\u001b[0;34m(\u001b[0m\u001b[0;34m'\\n'\u001b[0m\u001b[0;34m.\u001b[0m\u001b[0mjoin\u001b[0m\u001b[0;34m(\u001b[0m\u001b[0;34m(\u001b[0m\u001b[0mstr\u001b[0m\u001b[0;34m(\u001b[0m\u001b[0me\u001b[0m\u001b[0;34m)\u001b[0m\u001b[0;34m.\u001b[0m\u001b[0mrstrip\u001b[0m\u001b[0;34m(\u001b[0m\u001b[0;34m)\u001b[0m\u001b[0;34m,\u001b[0m \u001b[0mhelp_msg\u001b[0m\u001b[0;34m)\u001b[0m\u001b[0;34m)\u001b[0m\u001b[0;34m)\u001b[0m\u001b[0;34m\u001b[0m\u001b[0;34m\u001b[0m\u001b[0m\n\u001b[1;32m    438\u001b[0m             \u001b[0;31m# ignore the FULL_TRACEBACKS config, this needs reporting!\u001b[0m\u001b[0;34m\u001b[0m\u001b[0;34m\u001b[0m\u001b[0;34m\u001b[0m\u001b[0m\n\u001b[0;32m--> 439\u001b[0;31m             \u001b[0;32mraise\u001b[0m \u001b[0me\u001b[0m\u001b[0;34m\u001b[0m\u001b[0;34m\u001b[0m\u001b[0m\n\u001b[0m\u001b[1;32m    440\u001b[0m         \u001b[0;32mfinally\u001b[0m\u001b[0;34m:\u001b[0m\u001b[0;34m\u001b[0m\u001b[0;34m\u001b[0m\u001b[0m\n\u001b[1;32m    441\u001b[0m             \u001b[0mself\u001b[0m\u001b[0;34m.\u001b[0m\u001b[0m_types_active_call\u001b[0m \u001b[0;34m=\u001b[0m \u001b[0;34m[\u001b[0m\u001b[0;34m]\u001b[0m\u001b[0;34m\u001b[0m\u001b[0;34m\u001b[0m\u001b[0m\n",
      "\u001b[0;32m~/Documents/pythonenvs/netket_env/lib/python3.8/site-packages/numba/core/dispatcher.py\u001b[0m in \u001b[0;36m_compile_for_args\u001b[0;34m(self, *args, **kws)\u001b[0m\n\u001b[1;32m    370\u001b[0m         \u001b[0mreturn_val\u001b[0m \u001b[0;34m=\u001b[0m \u001b[0;32mNone\u001b[0m\u001b[0;34m\u001b[0m\u001b[0;34m\u001b[0m\u001b[0m\n\u001b[1;32m    371\u001b[0m         \u001b[0;32mtry\u001b[0m\u001b[0;34m:\u001b[0m\u001b[0;34m\u001b[0m\u001b[0;34m\u001b[0m\u001b[0m\n\u001b[0;32m--> 372\u001b[0;31m             \u001b[0mreturn_val\u001b[0m \u001b[0;34m=\u001b[0m \u001b[0mself\u001b[0m\u001b[0;34m.\u001b[0m\u001b[0mcompile\u001b[0m\u001b[0;34m(\u001b[0m\u001b[0mtuple\u001b[0m\u001b[0;34m(\u001b[0m\u001b[0margtypes\u001b[0m\u001b[0;34m)\u001b[0m\u001b[0;34m)\u001b[0m\u001b[0;34m\u001b[0m\u001b[0;34m\u001b[0m\u001b[0m\n\u001b[0m\u001b[1;32m    373\u001b[0m         \u001b[0;32mexcept\u001b[0m \u001b[0merrors\u001b[0m\u001b[0;34m.\u001b[0m\u001b[0mForceLiteralArg\u001b[0m \u001b[0;32mas\u001b[0m \u001b[0me\u001b[0m\u001b[0;34m:\u001b[0m\u001b[0;34m\u001b[0m\u001b[0;34m\u001b[0m\u001b[0m\n\u001b[1;32m    374\u001b[0m             \u001b[0;31m# Received request for compiler re-entry with the list of arguments\u001b[0m\u001b[0;34m\u001b[0m\u001b[0;34m\u001b[0m\u001b[0;34m\u001b[0m\u001b[0m\n",
      "\u001b[0;32m~/Documents/pythonenvs/netket_env/lib/python3.8/site-packages/numba/core/dispatcher.py\u001b[0m in \u001b[0;36mcompile\u001b[0;34m(self, sig)\u001b[0m\n\u001b[1;32m    907\u001b[0m                 \u001b[0;32mwith\u001b[0m \u001b[0mev\u001b[0m\u001b[0;34m.\u001b[0m\u001b[0mtrigger_event\u001b[0m\u001b[0;34m(\u001b[0m\u001b[0;34m\"numba:compile\"\u001b[0m\u001b[0;34m,\u001b[0m \u001b[0mdata\u001b[0m\u001b[0;34m=\u001b[0m\u001b[0mev_details\u001b[0m\u001b[0;34m)\u001b[0m\u001b[0;34m:\u001b[0m\u001b[0;34m\u001b[0m\u001b[0;34m\u001b[0m\u001b[0m\n\u001b[1;32m    908\u001b[0m                     \u001b[0;32mtry\u001b[0m\u001b[0;34m:\u001b[0m\u001b[0;34m\u001b[0m\u001b[0;34m\u001b[0m\u001b[0m\n\u001b[0;32m--> 909\u001b[0;31m                         \u001b[0mcres\u001b[0m \u001b[0;34m=\u001b[0m \u001b[0mself\u001b[0m\u001b[0;34m.\u001b[0m\u001b[0m_compiler\u001b[0m\u001b[0;34m.\u001b[0m\u001b[0mcompile\u001b[0m\u001b[0;34m(\u001b[0m\u001b[0margs\u001b[0m\u001b[0;34m,\u001b[0m \u001b[0mreturn_type\u001b[0m\u001b[0;34m)\u001b[0m\u001b[0;34m\u001b[0m\u001b[0;34m\u001b[0m\u001b[0m\n\u001b[0m\u001b[1;32m    910\u001b[0m                     \u001b[0;32mexcept\u001b[0m \u001b[0merrors\u001b[0m\u001b[0;34m.\u001b[0m\u001b[0mForceLiteralArg\u001b[0m \u001b[0;32mas\u001b[0m \u001b[0me\u001b[0m\u001b[0;34m:\u001b[0m\u001b[0;34m\u001b[0m\u001b[0;34m\u001b[0m\u001b[0m\n\u001b[1;32m    911\u001b[0m                         \u001b[0;32mdef\u001b[0m \u001b[0mfolded\u001b[0m\u001b[0;34m(\u001b[0m\u001b[0margs\u001b[0m\u001b[0;34m,\u001b[0m \u001b[0mkws\u001b[0m\u001b[0;34m)\u001b[0m\u001b[0;34m:\u001b[0m\u001b[0;34m\u001b[0m\u001b[0;34m\u001b[0m\u001b[0m\n",
      "\u001b[0;32m~/Documents/pythonenvs/netket_env/lib/python3.8/site-packages/numba/core/dispatcher.py\u001b[0m in \u001b[0;36mcompile\u001b[0;34m(self, args, return_type)\u001b[0m\n\u001b[1;32m     77\u001b[0m \u001b[0;34m\u001b[0m\u001b[0m\n\u001b[1;32m     78\u001b[0m     \u001b[0;32mdef\u001b[0m \u001b[0mcompile\u001b[0m\u001b[0;34m(\u001b[0m\u001b[0mself\u001b[0m\u001b[0;34m,\u001b[0m \u001b[0margs\u001b[0m\u001b[0;34m,\u001b[0m \u001b[0mreturn_type\u001b[0m\u001b[0;34m)\u001b[0m\u001b[0;34m:\u001b[0m\u001b[0;34m\u001b[0m\u001b[0;34m\u001b[0m\u001b[0m\n\u001b[0;32m---> 79\u001b[0;31m         \u001b[0mstatus\u001b[0m\u001b[0;34m,\u001b[0m \u001b[0mretval\u001b[0m \u001b[0;34m=\u001b[0m \u001b[0mself\u001b[0m\u001b[0;34m.\u001b[0m\u001b[0m_compile_cached\u001b[0m\u001b[0;34m(\u001b[0m\u001b[0margs\u001b[0m\u001b[0;34m,\u001b[0m \u001b[0mreturn_type\u001b[0m\u001b[0;34m)\u001b[0m\u001b[0;34m\u001b[0m\u001b[0;34m\u001b[0m\u001b[0m\n\u001b[0m\u001b[1;32m     80\u001b[0m         \u001b[0;32mif\u001b[0m \u001b[0mstatus\u001b[0m\u001b[0;34m:\u001b[0m\u001b[0;34m\u001b[0m\u001b[0;34m\u001b[0m\u001b[0m\n\u001b[1;32m     81\u001b[0m             \u001b[0;32mreturn\u001b[0m \u001b[0mretval\u001b[0m\u001b[0;34m\u001b[0m\u001b[0;34m\u001b[0m\u001b[0m\n",
      "\u001b[0;32m~/Documents/pythonenvs/netket_env/lib/python3.8/site-packages/numba/core/dispatcher.py\u001b[0m in \u001b[0;36m_compile_cached\u001b[0;34m(self, args, return_type)\u001b[0m\n\u001b[1;32m     91\u001b[0m \u001b[0;34m\u001b[0m\u001b[0m\n\u001b[1;32m     92\u001b[0m         \u001b[0;32mtry\u001b[0m\u001b[0;34m:\u001b[0m\u001b[0;34m\u001b[0m\u001b[0;34m\u001b[0m\u001b[0m\n\u001b[0;32m---> 93\u001b[0;31m             \u001b[0mretval\u001b[0m \u001b[0;34m=\u001b[0m \u001b[0mself\u001b[0m\u001b[0;34m.\u001b[0m\u001b[0m_compile_core\u001b[0m\u001b[0;34m(\u001b[0m\u001b[0margs\u001b[0m\u001b[0;34m,\u001b[0m \u001b[0mreturn_type\u001b[0m\u001b[0;34m)\u001b[0m\u001b[0;34m\u001b[0m\u001b[0;34m\u001b[0m\u001b[0m\n\u001b[0m\u001b[1;32m     94\u001b[0m         \u001b[0;32mexcept\u001b[0m \u001b[0merrors\u001b[0m\u001b[0;34m.\u001b[0m\u001b[0mTypingError\u001b[0m \u001b[0;32mas\u001b[0m \u001b[0me\u001b[0m\u001b[0;34m:\u001b[0m\u001b[0;34m\u001b[0m\u001b[0;34m\u001b[0m\u001b[0m\n\u001b[1;32m     95\u001b[0m             \u001b[0mself\u001b[0m\u001b[0;34m.\u001b[0m\u001b[0m_failed_cache\u001b[0m\u001b[0;34m[\u001b[0m\u001b[0mkey\u001b[0m\u001b[0;34m]\u001b[0m \u001b[0;34m=\u001b[0m \u001b[0me\u001b[0m\u001b[0;34m\u001b[0m\u001b[0;34m\u001b[0m\u001b[0m\n",
      "\u001b[0;32m~/Documents/pythonenvs/netket_env/lib/python3.8/site-packages/numba/core/dispatcher.py\u001b[0m in \u001b[0;36m_compile_core\u001b[0;34m(self, args, return_type)\u001b[0m\n\u001b[1;32m    104\u001b[0m \u001b[0;34m\u001b[0m\u001b[0m\n\u001b[1;32m    105\u001b[0m         \u001b[0mimpl\u001b[0m \u001b[0;34m=\u001b[0m \u001b[0mself\u001b[0m\u001b[0;34m.\u001b[0m\u001b[0m_get_implementation\u001b[0m\u001b[0;34m(\u001b[0m\u001b[0margs\u001b[0m\u001b[0;34m,\u001b[0m \u001b[0;34m{\u001b[0m\u001b[0;34m}\u001b[0m\u001b[0;34m)\u001b[0m\u001b[0;34m\u001b[0m\u001b[0;34m\u001b[0m\u001b[0m\n\u001b[0;32m--> 106\u001b[0;31m         cres = compiler.compile_extra(self.targetdescr.typing_context,\n\u001b[0m\u001b[1;32m    107\u001b[0m                                       \u001b[0mself\u001b[0m\u001b[0;34m.\u001b[0m\u001b[0mtargetdescr\u001b[0m\u001b[0;34m.\u001b[0m\u001b[0mtarget_context\u001b[0m\u001b[0;34m,\u001b[0m\u001b[0;34m\u001b[0m\u001b[0;34m\u001b[0m\u001b[0m\n\u001b[1;32m    108\u001b[0m                                       \u001b[0mimpl\u001b[0m\u001b[0;34m,\u001b[0m\u001b[0;34m\u001b[0m\u001b[0;34m\u001b[0m\u001b[0m\n",
      "\u001b[0;32m~/Documents/pythonenvs/netket_env/lib/python3.8/site-packages/numba/core/compiler.py\u001b[0m in \u001b[0;36mcompile_extra\u001b[0;34m(typingctx, targetctx, func, args, return_type, flags, locals, library, pipeline_class)\u001b[0m\n\u001b[1;32m    604\u001b[0m     pipeline = pipeline_class(typingctx, targetctx, library,\n\u001b[1;32m    605\u001b[0m                               args, return_type, flags, locals)\n\u001b[0;32m--> 606\u001b[0;31m     \u001b[0;32mreturn\u001b[0m \u001b[0mpipeline\u001b[0m\u001b[0;34m.\u001b[0m\u001b[0mcompile_extra\u001b[0m\u001b[0;34m(\u001b[0m\u001b[0mfunc\u001b[0m\u001b[0;34m)\u001b[0m\u001b[0;34m\u001b[0m\u001b[0;34m\u001b[0m\u001b[0m\n\u001b[0m\u001b[1;32m    607\u001b[0m \u001b[0;34m\u001b[0m\u001b[0m\n\u001b[1;32m    608\u001b[0m \u001b[0;34m\u001b[0m\u001b[0m\n",
      "\u001b[0;32m~/Documents/pythonenvs/netket_env/lib/python3.8/site-packages/numba/core/compiler.py\u001b[0m in \u001b[0;36mcompile_extra\u001b[0;34m(self, func)\u001b[0m\n\u001b[1;32m    351\u001b[0m         \u001b[0mself\u001b[0m\u001b[0;34m.\u001b[0m\u001b[0mstate\u001b[0m\u001b[0;34m.\u001b[0m\u001b[0mlifted\u001b[0m \u001b[0;34m=\u001b[0m \u001b[0;34m(\u001b[0m\u001b[0;34m)\u001b[0m\u001b[0;34m\u001b[0m\u001b[0;34m\u001b[0m\u001b[0m\n\u001b[1;32m    352\u001b[0m         \u001b[0mself\u001b[0m\u001b[0;34m.\u001b[0m\u001b[0mstate\u001b[0m\u001b[0;34m.\u001b[0m\u001b[0mlifted_from\u001b[0m \u001b[0;34m=\u001b[0m \u001b[0;32mNone\u001b[0m\u001b[0;34m\u001b[0m\u001b[0;34m\u001b[0m\u001b[0m\n\u001b[0;32m--> 353\u001b[0;31m         \u001b[0;32mreturn\u001b[0m \u001b[0mself\u001b[0m\u001b[0;34m.\u001b[0m\u001b[0m_compile_bytecode\u001b[0m\u001b[0;34m(\u001b[0m\u001b[0;34m)\u001b[0m\u001b[0;34m\u001b[0m\u001b[0;34m\u001b[0m\u001b[0m\n\u001b[0m\u001b[1;32m    354\u001b[0m \u001b[0;34m\u001b[0m\u001b[0m\n\u001b[1;32m    355\u001b[0m     \u001b[0;32mdef\u001b[0m \u001b[0mcompile_ir\u001b[0m\u001b[0;34m(\u001b[0m\u001b[0mself\u001b[0m\u001b[0;34m,\u001b[0m \u001b[0mfunc_ir\u001b[0m\u001b[0;34m,\u001b[0m \u001b[0mlifted\u001b[0m\u001b[0;34m=\u001b[0m\u001b[0;34m(\u001b[0m\u001b[0;34m)\u001b[0m\u001b[0;34m,\u001b[0m \u001b[0mlifted_from\u001b[0m\u001b[0;34m=\u001b[0m\u001b[0;32mNone\u001b[0m\u001b[0;34m)\u001b[0m\u001b[0;34m:\u001b[0m\u001b[0;34m\u001b[0m\u001b[0;34m\u001b[0m\u001b[0m\n",
      "\u001b[0;32m~/Documents/pythonenvs/netket_env/lib/python3.8/site-packages/numba/core/compiler.py\u001b[0m in \u001b[0;36m_compile_bytecode\u001b[0;34m(self)\u001b[0m\n\u001b[1;32m    413\u001b[0m         \"\"\"\n\u001b[1;32m    414\u001b[0m         \u001b[0;32massert\u001b[0m \u001b[0mself\u001b[0m\u001b[0;34m.\u001b[0m\u001b[0mstate\u001b[0m\u001b[0;34m.\u001b[0m\u001b[0mfunc_ir\u001b[0m \u001b[0;32mis\u001b[0m \u001b[0;32mNone\u001b[0m\u001b[0;34m\u001b[0m\u001b[0;34m\u001b[0m\u001b[0m\n\u001b[0;32m--> 415\u001b[0;31m         \u001b[0;32mreturn\u001b[0m \u001b[0mself\u001b[0m\u001b[0;34m.\u001b[0m\u001b[0m_compile_core\u001b[0m\u001b[0;34m(\u001b[0m\u001b[0;34m)\u001b[0m\u001b[0;34m\u001b[0m\u001b[0;34m\u001b[0m\u001b[0m\n\u001b[0m\u001b[1;32m    416\u001b[0m \u001b[0;34m\u001b[0m\u001b[0m\n\u001b[1;32m    417\u001b[0m     \u001b[0;32mdef\u001b[0m \u001b[0m_compile_ir\u001b[0m\u001b[0;34m(\u001b[0m\u001b[0mself\u001b[0m\u001b[0;34m)\u001b[0m\u001b[0;34m:\u001b[0m\u001b[0;34m\u001b[0m\u001b[0;34m\u001b[0m\u001b[0m\n",
      "\u001b[0;32m~/Documents/pythonenvs/netket_env/lib/python3.8/site-packages/numba/core/compiler.py\u001b[0m in \u001b[0;36m_compile_core\u001b[0;34m(self)\u001b[0m\n\u001b[1;32m    393\u001b[0m                 \u001b[0mself\u001b[0m\u001b[0;34m.\u001b[0m\u001b[0mstate\u001b[0m\u001b[0;34m.\u001b[0m\u001b[0mstatus\u001b[0m\u001b[0;34m.\u001b[0m\u001b[0mfail_reason\u001b[0m \u001b[0;34m=\u001b[0m \u001b[0me\u001b[0m\u001b[0;34m\u001b[0m\u001b[0;34m\u001b[0m\u001b[0m\n\u001b[1;32m    394\u001b[0m                 \u001b[0;32mif\u001b[0m \u001b[0mis_final_pipeline\u001b[0m\u001b[0;34m:\u001b[0m\u001b[0;34m\u001b[0m\u001b[0;34m\u001b[0m\u001b[0m\n\u001b[0;32m--> 395\u001b[0;31m                     \u001b[0;32mraise\u001b[0m \u001b[0me\u001b[0m\u001b[0;34m\u001b[0m\u001b[0;34m\u001b[0m\u001b[0m\n\u001b[0m\u001b[1;32m    396\u001b[0m         \u001b[0;32melse\u001b[0m\u001b[0;34m:\u001b[0m\u001b[0;34m\u001b[0m\u001b[0;34m\u001b[0m\u001b[0m\n\u001b[1;32m    397\u001b[0m             \u001b[0;32mraise\u001b[0m \u001b[0mCompilerError\u001b[0m\u001b[0;34m(\u001b[0m\u001b[0;34m\"All available pipelines exhausted\"\u001b[0m\u001b[0;34m)\u001b[0m\u001b[0;34m\u001b[0m\u001b[0;34m\u001b[0m\u001b[0m\n",
      "\u001b[0;32m~/Documents/pythonenvs/netket_env/lib/python3.8/site-packages/numba/core/compiler.py\u001b[0m in \u001b[0;36m_compile_core\u001b[0;34m(self)\u001b[0m\n\u001b[1;32m    384\u001b[0m             \u001b[0mres\u001b[0m \u001b[0;34m=\u001b[0m \u001b[0;32mNone\u001b[0m\u001b[0;34m\u001b[0m\u001b[0;34m\u001b[0m\u001b[0m\n\u001b[1;32m    385\u001b[0m             \u001b[0;32mtry\u001b[0m\u001b[0;34m:\u001b[0m\u001b[0;34m\u001b[0m\u001b[0;34m\u001b[0m\u001b[0m\n\u001b[0;32m--> 386\u001b[0;31m                 \u001b[0mpm\u001b[0m\u001b[0;34m.\u001b[0m\u001b[0mrun\u001b[0m\u001b[0;34m(\u001b[0m\u001b[0mself\u001b[0m\u001b[0;34m.\u001b[0m\u001b[0mstate\u001b[0m\u001b[0;34m)\u001b[0m\u001b[0;34m\u001b[0m\u001b[0;34m\u001b[0m\u001b[0m\n\u001b[0m\u001b[1;32m    387\u001b[0m                 \u001b[0;32mif\u001b[0m \u001b[0mself\u001b[0m\u001b[0;34m.\u001b[0m\u001b[0mstate\u001b[0m\u001b[0;34m.\u001b[0m\u001b[0mcr\u001b[0m \u001b[0;32mis\u001b[0m \u001b[0;32mnot\u001b[0m \u001b[0;32mNone\u001b[0m\u001b[0;34m:\u001b[0m\u001b[0;34m\u001b[0m\u001b[0;34m\u001b[0m\u001b[0m\n\u001b[1;32m    388\u001b[0m                     \u001b[0;32mbreak\u001b[0m\u001b[0;34m\u001b[0m\u001b[0;34m\u001b[0m\u001b[0m\n",
      "\u001b[0;32m~/Documents/pythonenvs/netket_env/lib/python3.8/site-packages/numba/core/compiler_machinery.py\u001b[0m in \u001b[0;36mrun\u001b[0;34m(self, state)\u001b[0m\n\u001b[1;32m    337\u001b[0m                     \u001b[0;34m(\u001b[0m\u001b[0mself\u001b[0m\u001b[0;34m.\u001b[0m\u001b[0mpipeline_name\u001b[0m\u001b[0;34m,\u001b[0m \u001b[0mpass_desc\u001b[0m\u001b[0;34m)\u001b[0m\u001b[0;34m\u001b[0m\u001b[0;34m\u001b[0m\u001b[0m\n\u001b[1;32m    338\u001b[0m                 \u001b[0mpatched_exception\u001b[0m \u001b[0;34m=\u001b[0m \u001b[0mself\u001b[0m\u001b[0;34m.\u001b[0m\u001b[0m_patch_error\u001b[0m\u001b[0;34m(\u001b[0m\u001b[0mmsg\u001b[0m\u001b[0;34m,\u001b[0m \u001b[0me\u001b[0m\u001b[0;34m)\u001b[0m\u001b[0;34m\u001b[0m\u001b[0;34m\u001b[0m\u001b[0m\n\u001b[0;32m--> 339\u001b[0;31m                 \u001b[0;32mraise\u001b[0m \u001b[0mpatched_exception\u001b[0m\u001b[0;34m\u001b[0m\u001b[0;34m\u001b[0m\u001b[0m\n\u001b[0m\u001b[1;32m    340\u001b[0m \u001b[0;34m\u001b[0m\u001b[0m\n\u001b[1;32m    341\u001b[0m     \u001b[0;32mdef\u001b[0m \u001b[0mdependency_analysis\u001b[0m\u001b[0;34m(\u001b[0m\u001b[0mself\u001b[0m\u001b[0;34m)\u001b[0m\u001b[0;34m:\u001b[0m\u001b[0;34m\u001b[0m\u001b[0;34m\u001b[0m\u001b[0m\n",
      "\u001b[0;32m~/Documents/pythonenvs/netket_env/lib/python3.8/site-packages/numba/core/compiler_machinery.py\u001b[0m in \u001b[0;36mrun\u001b[0;34m(self, state)\u001b[0m\n\u001b[1;32m    328\u001b[0m                 \u001b[0mpass_inst\u001b[0m \u001b[0;34m=\u001b[0m \u001b[0m_pass_registry\u001b[0m\u001b[0;34m.\u001b[0m\u001b[0mget\u001b[0m\u001b[0;34m(\u001b[0m\u001b[0mpss\u001b[0m\u001b[0;34m)\u001b[0m\u001b[0;34m.\u001b[0m\u001b[0mpass_inst\u001b[0m\u001b[0;34m\u001b[0m\u001b[0;34m\u001b[0m\u001b[0m\n\u001b[1;32m    329\u001b[0m                 \u001b[0;32mif\u001b[0m \u001b[0misinstance\u001b[0m\u001b[0;34m(\u001b[0m\u001b[0mpass_inst\u001b[0m\u001b[0;34m,\u001b[0m \u001b[0mCompilerPass\u001b[0m\u001b[0;34m)\u001b[0m\u001b[0;34m:\u001b[0m\u001b[0;34m\u001b[0m\u001b[0;34m\u001b[0m\u001b[0m\n\u001b[0;32m--> 330\u001b[0;31m                     \u001b[0mself\u001b[0m\u001b[0;34m.\u001b[0m\u001b[0m_runPass\u001b[0m\u001b[0;34m(\u001b[0m\u001b[0midx\u001b[0m\u001b[0;34m,\u001b[0m \u001b[0mpass_inst\u001b[0m\u001b[0;34m,\u001b[0m \u001b[0mstate\u001b[0m\u001b[0;34m)\u001b[0m\u001b[0;34m\u001b[0m\u001b[0;34m\u001b[0m\u001b[0m\n\u001b[0m\u001b[1;32m    331\u001b[0m                 \u001b[0;32melse\u001b[0m\u001b[0;34m:\u001b[0m\u001b[0;34m\u001b[0m\u001b[0;34m\u001b[0m\u001b[0m\n\u001b[1;32m    332\u001b[0m                     \u001b[0;32mraise\u001b[0m \u001b[0mBaseException\u001b[0m\u001b[0;34m(\u001b[0m\u001b[0;34m\"Legacy pass in use\"\u001b[0m\u001b[0;34m)\u001b[0m\u001b[0;34m\u001b[0m\u001b[0;34m\u001b[0m\u001b[0m\n",
      "\u001b[0;32m~/Documents/pythonenvs/netket_env/lib/python3.8/site-packages/numba/core/compiler_lock.py\u001b[0m in \u001b[0;36m_acquire_compile_lock\u001b[0;34m(*args, **kwargs)\u001b[0m\n\u001b[1;32m     33\u001b[0m         \u001b[0;32mdef\u001b[0m \u001b[0m_acquire_compile_lock\u001b[0m\u001b[0;34m(\u001b[0m\u001b[0;34m*\u001b[0m\u001b[0margs\u001b[0m\u001b[0;34m,\u001b[0m \u001b[0;34m**\u001b[0m\u001b[0mkwargs\u001b[0m\u001b[0;34m)\u001b[0m\u001b[0;34m:\u001b[0m\u001b[0;34m\u001b[0m\u001b[0;34m\u001b[0m\u001b[0m\n\u001b[1;32m     34\u001b[0m             \u001b[0;32mwith\u001b[0m \u001b[0mself\u001b[0m\u001b[0;34m:\u001b[0m\u001b[0;34m\u001b[0m\u001b[0;34m\u001b[0m\u001b[0m\n\u001b[0;32m---> 35\u001b[0;31m                 \u001b[0;32mreturn\u001b[0m \u001b[0mfunc\u001b[0m\u001b[0;34m(\u001b[0m\u001b[0;34m*\u001b[0m\u001b[0margs\u001b[0m\u001b[0;34m,\u001b[0m \u001b[0;34m**\u001b[0m\u001b[0mkwargs\u001b[0m\u001b[0;34m)\u001b[0m\u001b[0;34m\u001b[0m\u001b[0;34m\u001b[0m\u001b[0m\n\u001b[0m\u001b[1;32m     36\u001b[0m         \u001b[0;32mreturn\u001b[0m \u001b[0m_acquire_compile_lock\u001b[0m\u001b[0;34m\u001b[0m\u001b[0;34m\u001b[0m\u001b[0m\n\u001b[1;32m     37\u001b[0m \u001b[0;34m\u001b[0m\u001b[0m\n",
      "\u001b[0;32m~/Documents/pythonenvs/netket_env/lib/python3.8/site-packages/numba/core/compiler_machinery.py\u001b[0m in \u001b[0;36m_runPass\u001b[0;34m(self, index, pss, internal_state)\u001b[0m\n\u001b[1;32m    287\u001b[0m             \u001b[0mmutated\u001b[0m \u001b[0;34m|=\u001b[0m \u001b[0mcheck\u001b[0m\u001b[0;34m(\u001b[0m\u001b[0mpss\u001b[0m\u001b[0;34m.\u001b[0m\u001b[0mrun_initialization\u001b[0m\u001b[0;34m,\u001b[0m \u001b[0minternal_state\u001b[0m\u001b[0;34m)\u001b[0m\u001b[0;34m\u001b[0m\u001b[0;34m\u001b[0m\u001b[0m\n\u001b[1;32m    288\u001b[0m         \u001b[0;32mwith\u001b[0m \u001b[0mSimpleTimer\u001b[0m\u001b[0;34m(\u001b[0m\u001b[0;34m)\u001b[0m \u001b[0;32mas\u001b[0m \u001b[0mpass_time\u001b[0m\u001b[0;34m:\u001b[0m\u001b[0;34m\u001b[0m\u001b[0;34m\u001b[0m\u001b[0m\n\u001b[0;32m--> 289\u001b[0;31m             \u001b[0mmutated\u001b[0m \u001b[0;34m|=\u001b[0m \u001b[0mcheck\u001b[0m\u001b[0;34m(\u001b[0m\u001b[0mpss\u001b[0m\u001b[0;34m.\u001b[0m\u001b[0mrun_pass\u001b[0m\u001b[0;34m,\u001b[0m \u001b[0minternal_state\u001b[0m\u001b[0;34m)\u001b[0m\u001b[0;34m\u001b[0m\u001b[0;34m\u001b[0m\u001b[0m\n\u001b[0m\u001b[1;32m    290\u001b[0m         \u001b[0;32mwith\u001b[0m \u001b[0mSimpleTimer\u001b[0m\u001b[0;34m(\u001b[0m\u001b[0;34m)\u001b[0m \u001b[0;32mas\u001b[0m \u001b[0mfinalize_time\u001b[0m\u001b[0;34m:\u001b[0m\u001b[0;34m\u001b[0m\u001b[0;34m\u001b[0m\u001b[0m\n\u001b[1;32m    291\u001b[0m             \u001b[0mmutated\u001b[0m \u001b[0;34m|=\u001b[0m \u001b[0mcheck\u001b[0m\u001b[0;34m(\u001b[0m\u001b[0mpss\u001b[0m\u001b[0;34m.\u001b[0m\u001b[0mrun_finalizer\u001b[0m\u001b[0;34m,\u001b[0m \u001b[0minternal_state\u001b[0m\u001b[0;34m)\u001b[0m\u001b[0;34m\u001b[0m\u001b[0;34m\u001b[0m\u001b[0m\n",
      "\u001b[0;32m~/Documents/pythonenvs/netket_env/lib/python3.8/site-packages/numba/core/compiler_machinery.py\u001b[0m in \u001b[0;36mcheck\u001b[0;34m(func, compiler_state)\u001b[0m\n\u001b[1;32m    260\u001b[0m \u001b[0;34m\u001b[0m\u001b[0m\n\u001b[1;32m    261\u001b[0m         \u001b[0;32mdef\u001b[0m \u001b[0mcheck\u001b[0m\u001b[0;34m(\u001b[0m\u001b[0mfunc\u001b[0m\u001b[0;34m,\u001b[0m \u001b[0mcompiler_state\u001b[0m\u001b[0;34m)\u001b[0m\u001b[0;34m:\u001b[0m\u001b[0;34m\u001b[0m\u001b[0;34m\u001b[0m\u001b[0m\n\u001b[0;32m--> 262\u001b[0;31m             \u001b[0mmangled\u001b[0m \u001b[0;34m=\u001b[0m \u001b[0mfunc\u001b[0m\u001b[0;34m(\u001b[0m\u001b[0mcompiler_state\u001b[0m\u001b[0;34m)\u001b[0m\u001b[0;34m\u001b[0m\u001b[0;34m\u001b[0m\u001b[0m\n\u001b[0m\u001b[1;32m    263\u001b[0m             \u001b[0;32mif\u001b[0m \u001b[0mmangled\u001b[0m \u001b[0;32mnot\u001b[0m \u001b[0;32min\u001b[0m \u001b[0;34m(\u001b[0m\u001b[0;32mTrue\u001b[0m\u001b[0;34m,\u001b[0m \u001b[0;32mFalse\u001b[0m\u001b[0;34m)\u001b[0m\u001b[0;34m:\u001b[0m\u001b[0;34m\u001b[0m\u001b[0;34m\u001b[0m\u001b[0m\n\u001b[1;32m    264\u001b[0m                 msg = (\"CompilerPass implementations should return True/False. \"\n",
      "\u001b[0;32m~/Documents/pythonenvs/netket_env/lib/python3.8/site-packages/numba/core/typed_passes.py\u001b[0m in \u001b[0;36mrun_pass\u001b[0;34m(self, state)\u001b[0m\n\u001b[1;32m    461\u001b[0m \u001b[0;34m\u001b[0m\u001b[0m\n\u001b[1;32m    462\u001b[0m         \u001b[0;31m# TODO: Pull this out into the pipeline\u001b[0m\u001b[0;34m\u001b[0m\u001b[0;34m\u001b[0m\u001b[0;34m\u001b[0m\u001b[0m\n\u001b[0;32m--> 463\u001b[0;31m         \u001b[0mNativeLowering\u001b[0m\u001b[0;34m(\u001b[0m\u001b[0;34m)\u001b[0m\u001b[0;34m.\u001b[0m\u001b[0mrun_pass\u001b[0m\u001b[0;34m(\u001b[0m\u001b[0mstate\u001b[0m\u001b[0;34m)\u001b[0m\u001b[0;34m\u001b[0m\u001b[0;34m\u001b[0m\u001b[0m\n\u001b[0m\u001b[1;32m    464\u001b[0m         \u001b[0mlowered\u001b[0m \u001b[0;34m=\u001b[0m \u001b[0mstate\u001b[0m\u001b[0;34m[\u001b[0m\u001b[0;34m'cr'\u001b[0m\u001b[0;34m]\u001b[0m\u001b[0;34m\u001b[0m\u001b[0;34m\u001b[0m\u001b[0m\n\u001b[1;32m    465\u001b[0m         \u001b[0msignature\u001b[0m \u001b[0;34m=\u001b[0m \u001b[0mtyping\u001b[0m\u001b[0;34m.\u001b[0m\u001b[0msignature\u001b[0m\u001b[0;34m(\u001b[0m\u001b[0mstate\u001b[0m\u001b[0;34m.\u001b[0m\u001b[0mreturn_type\u001b[0m\u001b[0;34m,\u001b[0m \u001b[0;34m*\u001b[0m\u001b[0mstate\u001b[0m\u001b[0;34m.\u001b[0m\u001b[0margs\u001b[0m\u001b[0;34m)\u001b[0m\u001b[0;34m\u001b[0m\u001b[0;34m\u001b[0m\u001b[0m\n",
      "\u001b[0;32m~/Documents/pythonenvs/netket_env/lib/python3.8/site-packages/numba/core/typed_passes.py\u001b[0m in \u001b[0;36mrun_pass\u001b[0;34m(self, state)\u001b[0m\n\u001b[1;32m    384\u001b[0m                 \u001b[0mlower\u001b[0m\u001b[0;34m.\u001b[0m\u001b[0mlower\u001b[0m\u001b[0;34m(\u001b[0m\u001b[0;34m)\u001b[0m\u001b[0;34m\u001b[0m\u001b[0;34m\u001b[0m\u001b[0m\n\u001b[1;32m    385\u001b[0m                 \u001b[0;32mif\u001b[0m \u001b[0;32mnot\u001b[0m \u001b[0mflags\u001b[0m\u001b[0;34m.\u001b[0m\u001b[0mno_cpython_wrapper\u001b[0m\u001b[0;34m:\u001b[0m\u001b[0;34m\u001b[0m\u001b[0;34m\u001b[0m\u001b[0m\n\u001b[0;32m--> 386\u001b[0;31m                     \u001b[0mlower\u001b[0m\u001b[0;34m.\u001b[0m\u001b[0mcreate_cpython_wrapper\u001b[0m\u001b[0;34m(\u001b[0m\u001b[0mflags\u001b[0m\u001b[0;34m.\u001b[0m\u001b[0mrelease_gil\u001b[0m\u001b[0;34m)\u001b[0m\u001b[0;34m\u001b[0m\u001b[0;34m\u001b[0m\u001b[0m\n\u001b[0m\u001b[1;32m    387\u001b[0m \u001b[0;34m\u001b[0m\u001b[0m\n\u001b[1;32m    388\u001b[0m                 \u001b[0;32mif\u001b[0m \u001b[0;32mnot\u001b[0m \u001b[0mflags\u001b[0m\u001b[0;34m.\u001b[0m\u001b[0mno_cfunc_wrapper\u001b[0m\u001b[0;34m:\u001b[0m\u001b[0;34m\u001b[0m\u001b[0;34m\u001b[0m\u001b[0m\n",
      "\u001b[0;32m~/Documents/pythonenvs/netket_env/lib/python3.8/site-packages/numba/core/lowering.py\u001b[0m in \u001b[0;36mcreate_cpython_wrapper\u001b[0;34m(self, release_gil)\u001b[0m\n\u001b[1;32m    240\u001b[0m                                                 \u001b[0mself\u001b[0m\u001b[0;34m.\u001b[0m\u001b[0menv\u001b[0m\u001b[0;34m,\u001b[0m \u001b[0mself\u001b[0m\u001b[0;34m.\u001b[0m\u001b[0mcall_helper\u001b[0m\u001b[0;34m,\u001b[0m\u001b[0;34m\u001b[0m\u001b[0;34m\u001b[0m\u001b[0m\n\u001b[1;32m    241\u001b[0m                                                 release_gil=release_gil)\n\u001b[0;32m--> 242\u001b[0;31m         self.context.create_cpython_wrapper(self.library, self.fndesc,\n\u001b[0m\u001b[1;32m    243\u001b[0m                                             \u001b[0mself\u001b[0m\u001b[0;34m.\u001b[0m\u001b[0menv\u001b[0m\u001b[0;34m,\u001b[0m \u001b[0mself\u001b[0m\u001b[0;34m.\u001b[0m\u001b[0mcall_helper\u001b[0m\u001b[0;34m,\u001b[0m\u001b[0;34m\u001b[0m\u001b[0;34m\u001b[0m\u001b[0m\n\u001b[1;32m    244\u001b[0m                                             release_gil=release_gil)\n",
      "\u001b[0;32m~/Documents/pythonenvs/netket_env/lib/python3.8/site-packages/numba/core/cpu.py\u001b[0m in \u001b[0;36mcreate_cpython_wrapper\u001b[0;34m(self, library, fndesc, env, call_helper, release_gil)\u001b[0m\n\u001b[1;32m    160\u001b[0m                                 \u001b[0mfndesc\u001b[0m\u001b[0;34m,\u001b[0m \u001b[0menv\u001b[0m\u001b[0;34m,\u001b[0m \u001b[0mcall_helper\u001b[0m\u001b[0;34m=\u001b[0m\u001b[0mcall_helper\u001b[0m\u001b[0;34m,\u001b[0m\u001b[0;34m\u001b[0m\u001b[0;34m\u001b[0m\u001b[0m\n\u001b[1;32m    161\u001b[0m                                 release_gil=release_gil)\n\u001b[0;32m--> 162\u001b[0;31m         \u001b[0mbuilder\u001b[0m\u001b[0;34m.\u001b[0m\u001b[0mbuild\u001b[0m\u001b[0;34m(\u001b[0m\u001b[0;34m)\u001b[0m\u001b[0;34m\u001b[0m\u001b[0;34m\u001b[0m\u001b[0m\n\u001b[0m\u001b[1;32m    163\u001b[0m         \u001b[0mlibrary\u001b[0m\u001b[0;34m.\u001b[0m\u001b[0madd_ir_module\u001b[0m\u001b[0;34m(\u001b[0m\u001b[0mwrapper_module\u001b[0m\u001b[0;34m)\u001b[0m\u001b[0;34m\u001b[0m\u001b[0;34m\u001b[0m\u001b[0m\n\u001b[1;32m    164\u001b[0m \u001b[0;34m\u001b[0m\u001b[0m\n",
      "\u001b[0;32m~/Documents/pythonenvs/netket_env/lib/python3.8/site-packages/numba/core/callwrapper.py\u001b[0m in \u001b[0;36mbuild\u001b[0;34m(self)\u001b[0m\n\u001b[1;32m    120\u001b[0m \u001b[0;34m\u001b[0m\u001b[0m\n\u001b[1;32m    121\u001b[0m         \u001b[0mapi\u001b[0m \u001b[0;34m=\u001b[0m \u001b[0mself\u001b[0m\u001b[0;34m.\u001b[0m\u001b[0mcontext\u001b[0m\u001b[0;34m.\u001b[0m\u001b[0mget_python_api\u001b[0m\u001b[0;34m(\u001b[0m\u001b[0mbuilder\u001b[0m\u001b[0;34m)\u001b[0m\u001b[0;34m\u001b[0m\u001b[0;34m\u001b[0m\u001b[0m\n\u001b[0;32m--> 122\u001b[0;31m         \u001b[0mself\u001b[0m\u001b[0;34m.\u001b[0m\u001b[0mbuild_wrapper\u001b[0m\u001b[0;34m(\u001b[0m\u001b[0mapi\u001b[0m\u001b[0;34m,\u001b[0m \u001b[0mbuilder\u001b[0m\u001b[0;34m,\u001b[0m \u001b[0mclosure\u001b[0m\u001b[0;34m,\u001b[0m \u001b[0margs\u001b[0m\u001b[0;34m,\u001b[0m \u001b[0mkws\u001b[0m\u001b[0;34m)\u001b[0m\u001b[0;34m\u001b[0m\u001b[0;34m\u001b[0m\u001b[0m\n\u001b[0m\u001b[1;32m    123\u001b[0m \u001b[0;34m\u001b[0m\u001b[0m\n\u001b[1;32m    124\u001b[0m         \u001b[0;32mreturn\u001b[0m \u001b[0mwrapper\u001b[0m\u001b[0;34m,\u001b[0m \u001b[0mapi\u001b[0m\u001b[0;34m\u001b[0m\u001b[0;34m\u001b[0m\u001b[0m\n",
      "\u001b[0;32m~/Documents/pythonenvs/netket_env/lib/python3.8/site-packages/numba/core/callwrapper.py\u001b[0m in \u001b[0;36mbuild_wrapper\u001b[0;34m(self, api, builder, closure, args, kws)\u001b[0m\n\u001b[1;32m    185\u001b[0m \u001b[0;34m\u001b[0m\u001b[0m\n\u001b[1;32m    186\u001b[0m             \u001b[0mretty\u001b[0m \u001b[0;34m=\u001b[0m \u001b[0mself\u001b[0m\u001b[0;34m.\u001b[0m\u001b[0m_simplified_return_type\u001b[0m\u001b[0;34m(\u001b[0m\u001b[0;34m)\u001b[0m\u001b[0;34m\u001b[0m\u001b[0;34m\u001b[0m\u001b[0m\n\u001b[0;32m--> 187\u001b[0;31m             \u001b[0mobj\u001b[0m \u001b[0;34m=\u001b[0m \u001b[0mapi\u001b[0m\u001b[0;34m.\u001b[0m\u001b[0mfrom_native_return\u001b[0m\u001b[0;34m(\u001b[0m\u001b[0mretty\u001b[0m\u001b[0;34m,\u001b[0m \u001b[0mretval\u001b[0m\u001b[0;34m,\u001b[0m \u001b[0menv_manager\u001b[0m\u001b[0;34m)\u001b[0m\u001b[0;34m\u001b[0m\u001b[0;34m\u001b[0m\u001b[0m\n\u001b[0m\u001b[1;32m    188\u001b[0m             \u001b[0mbuilder\u001b[0m\u001b[0;34m.\u001b[0m\u001b[0mret\u001b[0m\u001b[0;34m(\u001b[0m\u001b[0mobj\u001b[0m\u001b[0;34m)\u001b[0m\u001b[0;34m\u001b[0m\u001b[0;34m\u001b[0m\u001b[0m\n\u001b[1;32m    189\u001b[0m \u001b[0;34m\u001b[0m\u001b[0m\n",
      "\u001b[0;32m~/Documents/pythonenvs/netket_env/lib/python3.8/site-packages/numba/core/pythonapi.py\u001b[0m in \u001b[0;36mfrom_native_return\u001b[0;34m(self, typ, val, env_manager)\u001b[0m\n\u001b[1;32m   1394\u001b[0m                                                     \u001b[0;34m\"prevented the return of \"\u001b[0m\u001b[0;31m \u001b[0m\u001b[0;31m\\\u001b[0m\u001b[0;34m\u001b[0m\u001b[0;34m\u001b[0m\u001b[0m\n\u001b[1;32m   1395\u001b[0m                                                     \u001b[0;34m\"optional value\"\u001b[0m\u001b[0;34m\u001b[0m\u001b[0;34m\u001b[0m\u001b[0m\n\u001b[0;32m-> 1396\u001b[0;31m         \u001b[0mout\u001b[0m \u001b[0;34m=\u001b[0m \u001b[0mself\u001b[0m\u001b[0;34m.\u001b[0m\u001b[0mfrom_native_value\u001b[0m\u001b[0;34m(\u001b[0m\u001b[0mtyp\u001b[0m\u001b[0;34m,\u001b[0m \u001b[0mval\u001b[0m\u001b[0;34m,\u001b[0m \u001b[0menv_manager\u001b[0m\u001b[0;34m)\u001b[0m\u001b[0;34m\u001b[0m\u001b[0;34m\u001b[0m\u001b[0m\n\u001b[0m\u001b[1;32m   1397\u001b[0m         \u001b[0;32mreturn\u001b[0m \u001b[0mout\u001b[0m\u001b[0;34m\u001b[0m\u001b[0;34m\u001b[0m\u001b[0m\n\u001b[1;32m   1398\u001b[0m \u001b[0;34m\u001b[0m\u001b[0m\n",
      "\u001b[0;32m~/Documents/pythonenvs/netket_env/lib/python3.8/site-packages/numba/core/pythonapi.py\u001b[0m in \u001b[0;36mfrom_native_value\u001b[0;34m(self, typ, val, env_manager)\u001b[0m\n\u001b[1;32m   1408\u001b[0m \u001b[0;34m\u001b[0m\u001b[0m\n\u001b[1;32m   1409\u001b[0m         \u001b[0mc\u001b[0m \u001b[0;34m=\u001b[0m \u001b[0m_BoxContext\u001b[0m\u001b[0;34m(\u001b[0m\u001b[0mself\u001b[0m\u001b[0;34m.\u001b[0m\u001b[0mcontext\u001b[0m\u001b[0;34m,\u001b[0m \u001b[0mself\u001b[0m\u001b[0;34m.\u001b[0m\u001b[0mbuilder\u001b[0m\u001b[0;34m,\u001b[0m \u001b[0mself\u001b[0m\u001b[0;34m,\u001b[0m \u001b[0menv_manager\u001b[0m\u001b[0;34m)\u001b[0m\u001b[0;34m\u001b[0m\u001b[0;34m\u001b[0m\u001b[0m\n\u001b[0;32m-> 1410\u001b[0;31m         \u001b[0;32mreturn\u001b[0m \u001b[0mimpl\u001b[0m\u001b[0;34m(\u001b[0m\u001b[0mtyp\u001b[0m\u001b[0;34m,\u001b[0m \u001b[0mval\u001b[0m\u001b[0;34m,\u001b[0m \u001b[0mc\u001b[0m\u001b[0;34m)\u001b[0m\u001b[0;34m\u001b[0m\u001b[0;34m\u001b[0m\u001b[0m\n\u001b[0m\u001b[1;32m   1411\u001b[0m \u001b[0;34m\u001b[0m\u001b[0m\n\u001b[1;32m   1412\u001b[0m     \u001b[0;32mdef\u001b[0m \u001b[0mreflect_native_value\u001b[0m\u001b[0;34m(\u001b[0m\u001b[0mself\u001b[0m\u001b[0;34m,\u001b[0m \u001b[0mtyp\u001b[0m\u001b[0;34m,\u001b[0m \u001b[0mval\u001b[0m\u001b[0;34m,\u001b[0m \u001b[0menv_manager\u001b[0m\u001b[0;34m=\u001b[0m\u001b[0;32mNone\u001b[0m\u001b[0;34m)\u001b[0m\u001b[0;34m:\u001b[0m\u001b[0;34m\u001b[0m\u001b[0;34m\u001b[0m\u001b[0m\n",
      "\u001b[0;32m~/Documents/pythonenvs/netket_env/lib/python3.8/site-packages/numba/experimental/structref.py\u001b[0m in \u001b[0;36mbox_struct_ref\u001b[0;34m(typ, val, c)\u001b[0m\n\u001b[1;32m    166\u001b[0m \u001b[0;34m\u001b[0m\u001b[0m\n\u001b[1;32m    167\u001b[0m         \u001b[0mctor_pyfunc\u001b[0m \u001b[0;34m=\u001b[0m \u001b[0mc\u001b[0m\u001b[0;34m.\u001b[0m\u001b[0mpyapi\u001b[0m\u001b[0;34m.\u001b[0m\u001b[0munserialize\u001b[0m\u001b[0;34m(\u001b[0m\u001b[0mc\u001b[0m\u001b[0;34m.\u001b[0m\u001b[0mpyapi\u001b[0m\u001b[0;34m.\u001b[0m\u001b[0mserialize_object\u001b[0m\u001b[0;34m(\u001b[0m\u001b[0mobj_ctor\u001b[0m\u001b[0;34m)\u001b[0m\u001b[0;34m)\u001b[0m\u001b[0;34m\u001b[0m\u001b[0;34m\u001b[0m\u001b[0m\n\u001b[0;32m--> 168\u001b[0;31m         \u001b[0mty_pyobj\u001b[0m \u001b[0;34m=\u001b[0m \u001b[0mc\u001b[0m\u001b[0;34m.\u001b[0m\u001b[0mpyapi\u001b[0m\u001b[0;34m.\u001b[0m\u001b[0munserialize\u001b[0m\u001b[0;34m(\u001b[0m\u001b[0mc\u001b[0m\u001b[0;34m.\u001b[0m\u001b[0mpyapi\u001b[0m\u001b[0;34m.\u001b[0m\u001b[0mserialize_object\u001b[0m\u001b[0;34m(\u001b[0m\u001b[0mtyp\u001b[0m\u001b[0;34m)\u001b[0m\u001b[0;34m)\u001b[0m\u001b[0;34m\u001b[0m\u001b[0;34m\u001b[0m\u001b[0m\n\u001b[0m\u001b[1;32m    169\u001b[0m \u001b[0;34m\u001b[0m\u001b[0m\n\u001b[1;32m    170\u001b[0m         res = c.pyapi.call_function_objargs(\n",
      "\u001b[0;32m~/Documents/pythonenvs/netket_env/lib/python3.8/site-packages/numba/core/pythonapi.py\u001b[0m in \u001b[0;36mserialize_object\u001b[0;34m(self, obj)\u001b[0m\n\u001b[1;32m   1369\u001b[0m             \u001b[0mgv\u001b[0m \u001b[0;34m=\u001b[0m \u001b[0mself\u001b[0m\u001b[0;34m.\u001b[0m\u001b[0mmodule\u001b[0m\u001b[0;34m.\u001b[0m\u001b[0m__serialized\u001b[0m\u001b[0;34m[\u001b[0m\u001b[0mobj\u001b[0m\u001b[0;34m]\u001b[0m\u001b[0;34m\u001b[0m\u001b[0;34m\u001b[0m\u001b[0m\n\u001b[1;32m   1370\u001b[0m         \u001b[0;32mexcept\u001b[0m \u001b[0mKeyError\u001b[0m\u001b[0;34m:\u001b[0m\u001b[0;34m\u001b[0m\u001b[0;34m\u001b[0m\u001b[0m\n\u001b[0;32m-> 1371\u001b[0;31m             \u001b[0mstruct\u001b[0m \u001b[0;34m=\u001b[0m \u001b[0mself\u001b[0m\u001b[0;34m.\u001b[0m\u001b[0mserialize_uncached\u001b[0m\u001b[0;34m(\u001b[0m\u001b[0mobj\u001b[0m\u001b[0;34m)\u001b[0m\u001b[0;34m\u001b[0m\u001b[0;34m\u001b[0m\u001b[0m\n\u001b[0m\u001b[1;32m   1372\u001b[0m             \u001b[0mname\u001b[0m \u001b[0;34m=\u001b[0m \u001b[0;34m\".const.picklebuf.%s\"\u001b[0m \u001b[0;34m%\u001b[0m \u001b[0;34m(\u001b[0m\u001b[0mid\u001b[0m\u001b[0;34m(\u001b[0m\u001b[0mobj\u001b[0m\u001b[0;34m)\u001b[0m \u001b[0;32mif\u001b[0m \u001b[0mconfig\u001b[0m\u001b[0;34m.\u001b[0m\u001b[0mDIFF_IR\u001b[0m \u001b[0;34m==\u001b[0m \u001b[0;36m0\u001b[0m \u001b[0;32melse\u001b[0m \u001b[0;34m\"DIFF_IR\"\u001b[0m\u001b[0;34m)\u001b[0m\u001b[0;34m\u001b[0m\u001b[0;34m\u001b[0m\u001b[0m\n\u001b[1;32m   1373\u001b[0m             \u001b[0mgv\u001b[0m \u001b[0;34m=\u001b[0m \u001b[0mself\u001b[0m\u001b[0;34m.\u001b[0m\u001b[0mcontext\u001b[0m\u001b[0;34m.\u001b[0m\u001b[0minsert_unique_const\u001b[0m\u001b[0;34m(\u001b[0m\u001b[0mself\u001b[0m\u001b[0;34m.\u001b[0m\u001b[0mmodule\u001b[0m\u001b[0;34m,\u001b[0m \u001b[0mname\u001b[0m\u001b[0;34m,\u001b[0m \u001b[0mstruct\u001b[0m\u001b[0;34m)\u001b[0m\u001b[0;34m\u001b[0m\u001b[0;34m\u001b[0m\u001b[0m\n",
      "\u001b[0;32m~/Documents/pythonenvs/netket_env/lib/python3.8/site-packages/numba/core/pythonapi.py\u001b[0m in \u001b[0;36mserialize_uncached\u001b[0;34m(self, obj)\u001b[0m\n\u001b[1;32m   1340\u001b[0m         \"\"\"\n\u001b[1;32m   1341\u001b[0m         \u001b[0;31m# First make the array constant\u001b[0m\u001b[0;34m\u001b[0m\u001b[0;34m\u001b[0m\u001b[0;34m\u001b[0m\u001b[0m\n\u001b[0;32m-> 1342\u001b[0;31m         \u001b[0mdata\u001b[0m \u001b[0;34m=\u001b[0m \u001b[0mserialize\u001b[0m\u001b[0;34m.\u001b[0m\u001b[0mdumps\u001b[0m\u001b[0;34m(\u001b[0m\u001b[0mobj\u001b[0m\u001b[0;34m)\u001b[0m\u001b[0;34m\u001b[0m\u001b[0;34m\u001b[0m\u001b[0m\n\u001b[0m\u001b[1;32m   1343\u001b[0m         \u001b[0;32massert\u001b[0m \u001b[0mlen\u001b[0m\u001b[0;34m(\u001b[0m\u001b[0mdata\u001b[0m\u001b[0;34m)\u001b[0m \u001b[0;34m<\u001b[0m \u001b[0;36m2\u001b[0m\u001b[0;34m**\u001b[0m\u001b[0;36m31\u001b[0m\u001b[0;34m\u001b[0m\u001b[0;34m\u001b[0m\u001b[0m\n\u001b[1;32m   1344\u001b[0m         \u001b[0mname\u001b[0m \u001b[0;34m=\u001b[0m \u001b[0;34m\".const.pickledata.%s\"\u001b[0m \u001b[0;34m%\u001b[0m \u001b[0;34m(\u001b[0m\u001b[0mid\u001b[0m\u001b[0;34m(\u001b[0m\u001b[0mobj\u001b[0m\u001b[0;34m)\u001b[0m \u001b[0;32mif\u001b[0m \u001b[0mconfig\u001b[0m\u001b[0;34m.\u001b[0m\u001b[0mDIFF_IR\u001b[0m \u001b[0;34m==\u001b[0m \u001b[0;36m0\u001b[0m \u001b[0;32melse\u001b[0m \u001b[0;34m\"DIFF_IR\"\u001b[0m\u001b[0;34m)\u001b[0m\u001b[0;34m\u001b[0m\u001b[0;34m\u001b[0m\u001b[0m\n",
      "\u001b[0;32m~/Documents/pythonenvs/netket_env/lib/python3.8/site-packages/numba/core/serialize.py\u001b[0m in \u001b[0;36mdumps\u001b[0;34m(obj)\u001b[0m\n\u001b[1;32m    166\u001b[0m     \u001b[0;32mwith\u001b[0m \u001b[0mio\u001b[0m\u001b[0;34m.\u001b[0m\u001b[0mBytesIO\u001b[0m\u001b[0;34m(\u001b[0m\u001b[0;34m)\u001b[0m \u001b[0;32mas\u001b[0m \u001b[0mbuf\u001b[0m\u001b[0;34m:\u001b[0m\u001b[0;34m\u001b[0m\u001b[0;34m\u001b[0m\u001b[0m\n\u001b[1;32m    167\u001b[0m         \u001b[0mp\u001b[0m \u001b[0;34m=\u001b[0m \u001b[0mpickler\u001b[0m\u001b[0;34m(\u001b[0m\u001b[0mbuf\u001b[0m\u001b[0;34m)\u001b[0m\u001b[0;34m\u001b[0m\u001b[0;34m\u001b[0m\u001b[0m\n\u001b[0;32m--> 168\u001b[0;31m         \u001b[0mp\u001b[0m\u001b[0;34m.\u001b[0m\u001b[0mdump\u001b[0m\u001b[0;34m(\u001b[0m\u001b[0mobj\u001b[0m\u001b[0;34m)\u001b[0m\u001b[0;34m\u001b[0m\u001b[0;34m\u001b[0m\u001b[0m\n\u001b[0m\u001b[1;32m    169\u001b[0m         \u001b[0mpickled\u001b[0m \u001b[0;34m=\u001b[0m \u001b[0mbuf\u001b[0m\u001b[0;34m.\u001b[0m\u001b[0mgetvalue\u001b[0m\u001b[0;34m(\u001b[0m\u001b[0;34m)\u001b[0m\u001b[0;34m\u001b[0m\u001b[0;34m\u001b[0m\u001b[0m\n\u001b[1;32m    170\u001b[0m \u001b[0;34m\u001b[0m\u001b[0m\n",
      "\u001b[0;31mAttributeError\u001b[0m: Failed in nopython mode pipeline (step: nopython mode backend)\nCan't pickle local object 'numba4class.<locals>._MyStructType'"
     ]
    }
   ],
   "source": [
    "a=structref.StructRefProxy.__new__(Ising, 1)\n",
    "a"
   ]
  },
  {
   "cell_type": "code",
   "execution_count": null,
   "id": "blind-letters",
   "metadata": {},
   "outputs": [],
   "source": []
  },
  {
   "cell_type": "code",
   "execution_count": 4,
   "id": "frequent-promise",
   "metadata": {},
   "outputs": [],
   "source": [
    "class Ising:\n",
    "    N : int\n",
    "    constraint : int = 4\n",
    "    \n",
    "    @property\n",
    "    def size(self):\n",
    "        return self.N"
   ]
  },
  {
   "cell_type": "code",
   "execution_count": 5,
   "id": "noted-botswana",
   "metadata": {},
   "outputs": [],
   "source": [
    "# construct the numba type\n",
    "clz = Ising\n",
    "def extract_stuf(clz):\n",
    "    fields = clz.__annotations__\n",
    "    fields_std_T = {}\n",
    "    fields_def_val = {}\n",
    "    fields_lit_T = {}\n",
    "    field_names = []\n",
    "    for name, typ in fields.items():\n",
    "        field_names.append(name)\n",
    "        if typ is Literal:\n",
    "            fields_lit_T[name] = typ\n",
    "        else:\n",
    "            fields_std_T[name] = typ\n",
    "\n",
    "        if name in clz.__dict__:\n",
    "            fields_def_val[name] = clz.__dict__[name]\n",
    "    \n",
    "    return field_names, fields_std_T, fields_def_val, fields_lit_T"
   ]
  },
  {
   "cell_type": "code",
   "execution_count": 6,
   "id": "arbitrary-latex",
   "metadata": {},
   "outputs": [
    {
     "ename": "NameError",
     "evalue": "name 'field_names' is not defined",
     "output_type": "error",
     "traceback": [
      "\u001b[0;31m---------------------------------------------------------------------------\u001b[0m",
      "\u001b[0;31mNameError\u001b[0m                                 Traceback (most recent call last)",
      "\u001b[0;32m<ipython-input-6-343b877bf871>\u001b[0m in \u001b[0;36m<module>\u001b[0;34m\u001b[0m\n\u001b[1;32m     20\u001b[0m \u001b[0;34m\u001b[0m\u001b[0m\n\u001b[1;32m     21\u001b[0m         \u001b[0mattributes_prop\u001b[0m\u001b[0;34m[\u001b[0m\u001b[0mname\u001b[0m\u001b[0;34m]\u001b[0m \u001b[0;34m=\u001b[0m \u001b[0mclz_prop\u001b[0m\u001b[0;34m\u001b[0m\u001b[0;34m\u001b[0m\u001b[0m\n\u001b[0;32m---> 22\u001b[0;31m     \u001b[0;32melif\u001b[0m \u001b[0mname\u001b[0m \u001b[0;32min\u001b[0m \u001b[0mfield_names\u001b[0m\u001b[0;34m:\u001b[0m\u001b[0;34m\u001b[0m\u001b[0;34m\u001b[0m\u001b[0m\n\u001b[0m\u001b[1;32m     23\u001b[0m         source = f\"\"\"\n\u001b[1;32m     24\u001b[0m \u001b[0;32mdef\u001b[0m \u001b[0mget_\u001b[0m\u001b[0;34m{\u001b[0m\u001b[0mname\u001b[0m\u001b[0;34m}\u001b[0m\u001b[0;34m(\u001b[0m\u001b[0mself\u001b[0m\u001b[0;34m)\u001b[0m\u001b[0;34m:\u001b[0m\u001b[0;34m\u001b[0m\u001b[0;34m\u001b[0m\u001b[0m\n",
      "\u001b[0;31mNameError\u001b[0m: name 'field_names' is not defined"
     ]
    }
   ],
   "source": [
    "# the property accessors\n",
    "attributes_prop = {}\n",
    "for name, prop in clz.__dict__.items():\n",
    "    if isinstance(prop, property):\n",
    "        if name in fields:\n",
    "            raise ValueError(f\"alredy defined {name} asa property\")\n",
    "        if prop.fget is None:  \n",
    "            raise ValueError(f\"no getter for {name}\")\n",
    "        \n",
    "        get_fun_njit = njit(prop.fget)\n",
    "            \n",
    "        get_fun_clz = lambda self: get_fun_njit(self)\n",
    "        clz_prop = property(get_fun_clz)\n",
    "            \n",
    "        if prop.fset is not None:\n",
    "            set_fun_njit = njit(prop.fset)\n",
    "\n",
    "            set_fun_clz = lambda self, val: seet_fun_njit(self, val)\n",
    "            clz_prop.setter(set_fun_clz)\n",
    "        \n",
    "        attributes_prop[name] = clz_prop\n",
    "    elif name in field_names:\n",
    "        source = f\"\"\"\n",
    "def get_{name}(self):\n",
    "    return self.{name}\n",
    "\"\"\"\n",
    "        get_fun_njit = njit(exec(source))\n",
    "        get_fun_clz = lambda self: get_fun_njit(self)\n",
    "        clz_prop = property(get_fun_clz)\n",
    "\n",
    "        attributes_prop[name] = clz_prop"
   ]
  },
  {
   "cell_type": "code",
   "execution_count": null,
   "id": "domestic-racing",
   "metadata": {},
   "outputs": [],
   "source": []
  },
  {
   "cell_type": "code",
   "execution_count": null,
   "id": "geological-cinema",
   "metadata": {},
   "outputs": [],
   "source": [
    "# build __new__ method\n",
    "def __new__(cls, args, kwargs):\n",
    "    print(\"MyStruct new : \", args, kwargs)\n",
    "    \n",
    "    init_vals = []\n",
    "    for (i,name) in enumerate(field_names):\n",
    "        if i < len(args):\n",
    "            init_vals.append(args[i])\n",
    "        else:\n",
    "            if name in kwargs:\n",
    "                init_vals.append(kwargs[name])\n",
    "            elif name in fields_def_val:\n",
    "                init_vals.append(fields_def_val[name])\n",
    "            else:\n",
    "                raise ValueError(f\"undefined {name} in constructor\")\n",
    "\n",
    "    init_vals_tup = tuple(init_vals)\n",
    "    return structref.StructRefProxy.__new__(cls, *init_vals_tup)        "
   ]
  },
  {
   "cell_type": "code",
   "execution_count": null,
   "id": "corporate-edward",
   "metadata": {},
   "outputs": [],
   "source": [
    "def extract_stuff(clz):\n",
    "    if hasattr(clz, \"__annotations__\"):\n",
    "        fields = clz.__annotations__\n",
    "    else:\n",
    "        fields = {}\n",
    "    fields_std_T = {}\n",
    "    fields_def_val = {}\n",
    "    fields_lit_T = {}\n",
    "    field_names = []\n",
    "    for name, typ in fields.items():\n",
    "        field_names.append(name)\n",
    "        if typ is Literal:\n",
    "            fields_lit_T[name] = typ\n",
    "        else:\n",
    "            fields_std_T[name] = typ\n",
    "\n",
    "        if name in clz.__dict__:\n",
    "            fields_def_val[name] = clz.__dict__[name]\n",
    "    \n",
    "    return field_names, fields_std_T, fields_def_val, fields_lit_T\n",
    "\n",
    "def compose__new__(field_names, fields_def_val):\n",
    "    # build __new__ method\n",
    "    def __new__(cls, *args, **kwargs):\n",
    "        print(\"New struct : \", cls, args, kwargs)\n",
    "\n",
    "        init_vals = []\n",
    "        for (i,name) in enumerate(field_names):\n",
    "            if i < len(args):\n",
    "                init_vals.append(args[i])\n",
    "            else:\n",
    "                if name in kwargs:\n",
    "                    init_vals.append(kwargs[name])\n",
    "                elif name in fields_def_val:\n",
    "                    init_vals.append(fields_def_val[name])\n",
    "                else:\n",
    "                    raise ValueError(f\"undefined {name} in constructor\")\n",
    "\n",
    "        init_vals_tup = tuple(init_vals)\n",
    "        print(\"calling with tup:\", *init_vals_tup)\n",
    "        return structref.StructRefProxy.__new__(cls, *init_vals_tup)   \n",
    "    \n",
    "    return __new__\n",
    "    \n",
    "def compose_properties(clz, field_names):\n",
    "    # the property accessors\n",
    "    attributes_prop = {}\n",
    "    for name, prop in clz.__dict__.items():\n",
    "        if isinstance(prop, property):\n",
    "            if name in fields:\n",
    "                raise ValueError(f\"alredy defined {name} asa property\")\n",
    "            if prop.fget is None:  \n",
    "                raise ValueError(f\"no getter for {name}\")\n",
    "\n",
    "            get_fun_njit = njit(prop.fget)\n",
    "\n",
    "            get_fun_clz = lambda self: get_fun_njit(self)\n",
    "            clz_prop = property(get_fun_clz)\n",
    "\n",
    "            if prop.fset is not None:\n",
    "                set_fun_njit = njit(prop.fset)\n",
    "\n",
    "                set_fun_clz = lambda self, val: set_fun_njit(self, val)\n",
    "                clz_prop.setter(set_fun_clz)\n",
    "\n",
    "            attributes_prop[name] = clz_prop\n",
    "        elif name in field_names:\n",
    "            source = f\"\"\"\n",
    "def get_{name}(self):\n",
    "    return self.{name}\n",
    "\"\"\"\n",
    "            get_fun_njit = njit(exec(source))\n",
    "            get_fun_clz = lambda self: get_fun_njit(self)\n",
    "            clz_prop = property(get_fun_clz)\n",
    "\n",
    "            attributes_prop[name] = clz_prop\n",
    "    \n",
    "    return attributes_prop"
   ]
  },
  {
   "cell_type": "code",
   "execution_count": null,
   "id": "legal-copying",
   "metadata": {},
   "outputs": [],
   "source": [
    "@numba4class\n",
    "class Ising:\n",
    "    N : int\n",
    "    "
   ]
  },
  {
   "cell_type": "code",
   "execution_count": null,
   "id": "chemical-norwegian",
   "metadata": {},
   "outputs": [],
   "source": [
    "import numba\n",
    "numba.core.serialize()"
   ]
  },
  {
   "cell_type": "code",
   "execution_count": null,
   "id": "minute-anime",
   "metadata": {},
   "outputs": [],
   "source": [
    "alice = MyStruct(\"Alice\", vector=np.random.random(3), number=3.0)"
   ]
  },
  {
   "cell_type": "code",
   "execution_count": null,
   "id": "derived-compromise",
   "metadata": {},
   "outputs": [],
   "source": [
    "a=structref.StructRefProxy.__new__(Ising, 1)\n",
    "a"
   ]
  },
  {
   "cell_type": "code",
   "execution_count": null,
   "id": "pediatric-pizza",
   "metadata": {},
   "outputs": [],
   "source": [
    "q=Ising(3)"
   ]
  },
  {
   "cell_type": "code",
   "execution_count": null,
   "id": "hairy-timeline",
   "metadata": {},
   "outputs": [],
   "source": [
    "Ising.__name__"
   ]
  },
  {
   "cell_type": "code",
   "execution_count": null,
   "id": "indoor-duncan",
   "metadata": {},
   "outputs": [],
   "source": [
    "attributes_prop"
   ]
  },
  {
   "cell_type": "code",
   "execution_count": null,
   "id": "conservative-bradford",
   "metadata": {},
   "outputs": [],
   "source": [
    "Ising.__dict__"
   ]
  },
  {
   "cell_type": "code",
   "execution_count": null,
   "id": "higher-professor",
   "metadata": {},
   "outputs": [],
   "source": [
    "pprova.fget"
   ]
  },
  {
   "cell_type": "code",
   "execution_count": null,
   "id": "greenhouse-juvenile",
   "metadata": {},
   "outputs": [],
   "source": [
    "prova"
   ]
  },
  {
   "cell_type": "code",
   "execution_count": null,
   "id": "freelance-diving",
   "metadata": {},
   "outputs": [],
   "source": [
    "import numpy as np\n",
    "\n",
    "from numba import njit\n",
    "from numba.core import types\n",
    "from numba.experimental import structref\n",
    "\n",
    "from numba.tests.support import skip_unless_scipy\n",
    "\n",
    "\n",
    "# Define a StructRef.\n",
    "# `structref.register` associates the type with the default data model.\n",
    "# This will also install getters and setters to the fields of\n",
    "# the StructRef.\n",
    "@structref.register\n",
    "class MyStructType(types.StructRef):\n",
    "    def preprocess_fields(self, fields):\n",
    "        # This method is called by the type constructor for additional\n",
    "        # preprocessing on the fields.\n",
    "        # Here, we don't want the struct to take Literal types.\n",
    "        print(\"preprocessing_fields : \", fields)\n",
    "        res= tuple((name, types.unliteral(typ)) for name, typ in fields)\n",
    "        print(\"  vive \", res)\n",
    "        return res\n",
    "\n",
    "\n",
    "# Define a Python type that can be use as a proxy to the StructRef\n",
    "# allocated inside Numba. Users can construct the StructRef via\n",
    "# the constructor for this type in python code and jit-code.\n",
    "class MyStruct(structref.StructRefProxy):\n",
    "    def __new__(cls, name, vector, number):\n",
    "        # Overriding the __new__ method is optional, doing so\n",
    "        # allows Python code to use keyword arguments,\n",
    "        # or add other customized behavior.\n",
    "        # The default __new__ takes `*args`.\n",
    "        # IMPORTANT: Users should not override __init__.\n",
    "        print(\"MyStruct new : \", name, vector, number)\n",
    "        return structref.StructRefProxy.__new__(cls, name, vector, number)\n",
    "\n",
    "    # By default, the proxy type does not reflect the attributes or\n",
    "    # methods to the Python side. It is up to users to define\n",
    "    # these. (This may be automated in the future.)\n",
    "\n",
    "    @property\n",
    "    def name(self):\n",
    "        # To access a field, we can define a function that simply\n",
    "        # return the field in jit-code.\n",
    "        # The definition of MyStruct_get_name is shown later.\n",
    "        print(\"name\")\n",
    "        return MyStruct_get_name(self)\n",
    "\n",
    "    @property\n",
    "    def vector(self):\n",
    "        # The definition of MyStruct_get_vector is shown later.\n",
    "        print(\"vec\")\n",
    "        return MyStruct_get_vector(self)\n",
    "\n",
    "    def __str__(self):\n",
    "        return f\"MyStructstr({MyStruct_get_name(self)}, {MyStruct_get_vector(self)})\"\n",
    "\n",
    "    def __repr__(self):\n",
    "        return f\"MyStruct({MyStruct_get_name(self)}, {MyStruct_get_vector(self)})\"\n",
    "\n",
    "    \n",
    "@njit\n",
    "def MyStruct_get_name(self):\n",
    "    # In jit-code, the StructRef's attribute is exposed via\n",
    "    # structref.register\n",
    "    return self.name\n",
    "\n",
    "\n",
    "@njit\n",
    "def MyStruct_get_vector(self):\n",
    "    return self.vector\n",
    "\n",
    "\n",
    "# This associates the proxy with MyStructType for the given set of\n",
    "# fields. Notice how we are not contraining the type of each field.\n",
    "# Field types remain generic.\n",
    "structref.define_proxy(MyStruct, MyStructType, [\"name\", \"vector\", \"number\"])"
   ]
  },
  {
   "cell_type": "code",
   "execution_count": null,
   "id": "boolean-noise",
   "metadata": {},
   "outputs": [],
   "source": [
    "alice = MyStruct(\"Alice\", vector=np.random.random(3), number=3)"
   ]
  },
  {
   "cell_type": "code",
   "execution_count": null,
   "id": "historical-parallel",
   "metadata": {},
   "outputs": [],
   "source": [
    "alice = MyStruct(\"Alice\", vector=np.random.random(3), number=3)"
   ]
  },
  {
   "cell_type": "code",
   "execution_count": null,
   "id": "silver-jonathan",
   "metadata": {},
   "outputs": [],
   "source": [
    "alice32._numba_type_"
   ]
  },
  {
   "cell_type": "code",
   "execution_count": null,
   "id": "about-carry",
   "metadata": {},
   "outputs": [],
   "source": [
    "alice32 = MyStruct(\"Alice\", vector=np.array(np.random.random(3), dtype=np.float32), number=3)\n",
    "alicec = MyStruct(\"Alice\", vector=np.array(np.random.random(3), dtype=complex), number=4)"
   ]
  },
  {
   "cell_type": "code",
   "execution_count": null,
   "id": "suspended-correction",
   "metadata": {},
   "outputs": [],
   "source": [
    "alicec.vector"
   ]
  },
  {
   "cell_type": "code",
   "execution_count": null,
   "id": "objective-objective",
   "metadata": {},
   "outputs": [],
   "source": [
    "from numba.core.extending import overload_method\n",
    "from numba.core.errors import TypingError\n",
    "\n",
    "# Use @overload_method to add a method for\n",
    "# MyStructType.distance(other)\n",
    "# where *other* is an instance of MyStructType.\n",
    "@overload_method(MyStructType, \"distance\")\n",
    "def ol_distance(self, other):\n",
    "    # Guard that *other* is an instance of MyStructType\n",
    "    if not isinstance(other, MyStructType):\n",
    "        raise TypingError(\n",
    "            f\"*other* must be a {MyStructType}; got {other}\"\n",
    "        )\n",
    "\n",
    "    def impl(self, other):\n",
    "        return np.linalg.norm(self.vector - other.vector)\n",
    "\n",
    "    return impl\n",
    "\n",
    "# Test\n",
    "@njit\n",
    "def test():\n",
    "    alice = MyStruct(\"Alice\", vector=np.random.random(3))\n",
    "    bob = MyStruct(\"Bob\", vector=np.random.random(3))\n",
    "    # Use the method\n",
    "    return alice.distance(bob)\n"
   ]
  },
  {
   "cell_type": "code",
   "execution_count": null,
   "id": "touched-citizen",
   "metadata": {},
   "outputs": [],
   "source": [
    "# Let's test our new StructRef.\n",
    "\n",
    "# Define one in Python\n",
    "alice = MyStruct(\"Alice\", vector=np.random.random(3))"
   ]
  },
  {
   "cell_type": "code",
   "execution_count": null,
   "id": "tough-thing",
   "metadata": {},
   "outputs": [],
   "source": [
    "@njit\n",
    "def test2(alice, bob):\n",
    "    return alice.distance(bob)"
   ]
  },
  {
   "cell_type": "code",
   "execution_count": null,
   "id": "bridal-packaging",
   "metadata": {},
   "outputs": [],
   "source": [
    "test2(alice, bob)"
   ]
  },
  {
   "cell_type": "code",
   "execution_count": null,
   "id": "rapid-large",
   "metadata": {},
   "outputs": [],
   "source": [
    "# Define one in jit-code\n",
    "@njit\n",
    "def make_bob():\n",
    "    bob = MyStruct(\"unnamed\", vector=np.zeros(3))\n",
    "    # Mutate the attributes\n",
    "    bob.name = \"Bob\"\n",
    "    bob.vector = np.random.random(3)\n",
    "    return bob\n",
    "\n",
    "bob = make_bob()"
   ]
  },
  {
   "cell_type": "code",
   "execution_count": null,
   "id": "virgin-neighbor",
   "metadata": {},
   "outputs": [],
   "source": [
    "a=make_bob()\n",
    "a.name\n",
    "a.distance(3)"
   ]
  },
  {
   "cell_type": "code",
   "execution_count": null,
   "id": "proper-marine",
   "metadata": {},
   "outputs": [],
   "source": [
    "\n",
    "# Out: Alice: [0.5488135  0.71518937 0.60276338]\n",
    "print(f\"{alice.name}: {alice.vector}\")\n",
    "# Out: Bob: [0.88325739 0.73527629 0.87746707]\n",
    "print(f\"{bob.name}: {bob.vector}\")\n",
    "\n",
    "# Define a jit function to operate on the structs.\n",
    "@njit\n",
    "def distance(a, b):\n",
    "    return np.linalg.norm(a.vector - b.vector)\n",
    "\n",
    "# Out: 0.4332647200356598\n",
    "print(distance(alice, bob))\n",
    "\n"
   ]
  },
  {
   "cell_type": "code",
   "execution_count": null,
   "id": "radio-soundtrack",
   "metadata": {},
   "outputs": [],
   "source": []
  }
 ],
 "metadata": {
  "kernelspec": {
   "display_name": "Python (Netket development)",
   "language": "python",
   "name": "dev-netket"
  },
  "language_info": {
   "codemirror_mode": {
    "name": "ipython",
    "version": 3
   },
   "file_extension": ".py",
   "mimetype": "text/x-python",
   "name": "python",
   "nbconvert_exporter": "python",
   "pygments_lexer": "ipython3",
   "version": "3.8.2"
  }
 },
 "nbformat": 4,
 "nbformat_minor": 5
}
